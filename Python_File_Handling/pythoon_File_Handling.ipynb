{
 "cells": [
  {
   "cell_type": "code",
   "execution_count": 26,
   "id": "ec612586",
   "metadata": {},
   "outputs": [
    {
     "name": "stdout",
     "output_type": "stream",
     "text": [
      "741\n",
      "The Number of Character of the file is 741\n",
      "['my', 'name', 'is', 'pratik', 'kumar', 'sarangi', 'my', 'name', 'is', 'abismruta', 'sarangi', 'and', 'i', 'love', 'prayag', 'my', 'name', 'is', 'pratik', 'kumar', 'sarangi', 'my', 'name', 'is', 'pratik', 'kumar', 'sarangi', 'my', 'name', 'is', 'pratik', 'kumar', 'sarangi', 'my', 'name', 'is', 'pratik', 'kumar', 'sarangi', 'my', 'name', 'is', 'pratik', 'kumar', 'sarangi', 'my', 'name', 'is', 'pratik', 'kumar', 'sarangi', 'my', 'name', 'is', 'pratik', 'kumar', 'sarangi', 'my', 'name', 'is', 'pratik', 'kumar', 'sarangi', 'my', 'name', 'is', 'pratik', 'kumar', 'sarangi', 'my', 'name', 'is', 'pratik', 'kumar', 'sarangi', 'my', 'name', 'is', 'pratik', 'kumar', 'sarangi', 'my', 'name', 'is', 'pratik', 'kumar', 'sarangi', 'my', 'name', 'is', 'pratik', 'kumar', 'sarangi', 'my', 'name', 'is', 'pratik', 'kumar', 'sarangi', 'my', 'name', 'is', 'pratik', 'kumar', 'sarangi', 'my', 'name', 'is', 'pratik', 'kumar', 'sarangi', 'my', 'name', 'is', 'pratik', 'kumar', 'sarangi', 'my', 'name', 'is', 'pratik', 'kumar', 'sarangi', 'my', 'name', 'is', 'pratik', 'kumar', 'sarangi', 'my', 'name', 'is', 'pratik', 'kumar', 'sarangi']\n",
      "The Number of Words in the character is 135 \n",
      "The Number of Lines is 22\n",
      "The Number of Lines is 22\n"
     ]
    }
   ],
   "source": [
    "import os#importing the os module \n",
    "f=open(\"xyz.txt\",\"r\")\n",
    "data=f.read()\n",
    "print(f.tell())\n",
    "print(f\"The Number of Character of the file is {f.tell()}\")\n",
    "list1=data.split(\"\\n\")\n",
    "str=(\" \").join(list1)\n",
    "list2=str.split()\n",
    "print(list2)\n",
    "print(f\"The Number of Words in the character is {len(list2)} \")\n",
    "f.seek(0)\n",
    "c=f.readlines()\n",
    "count=len(c) \n",
    "print(f\"The Number of Lines is {count}\")\n",
    "f.seek(0)\n",
    "# durga way\n",
    "result=0\n",
    "for line in f:\n",
    "    result+=1\n",
    "print(f\"The Number of Lines is {result}\")\n",
    "    "
   ]
  },
  {
   "cell_type": "code",
   "execution_count": null,
   "id": "9e312857",
   "metadata": {},
   "outputs": [],
   "source": []
  },
  {
   "cell_type": "code",
   "execution_count": null,
   "id": "3b8f61c7",
   "metadata": {},
   "outputs": [],
   "source": []
  }
 ],
 "metadata": {
  "kernelspec": {
   "display_name": "Python 3 (ipykernel)",
   "language": "python",
   "name": "python3"
  },
  "language_info": {
   "codemirror_mode": {
    "name": "ipython",
    "version": 3
   },
   "file_extension": ".py",
   "mimetype": "text/x-python",
   "name": "python",
   "nbconvert_exporter": "python",
   "pygments_lexer": "ipython3",
   "version": "3.8.2"
  },
  "toc": {
   "base_numbering": 1,
   "nav_menu": {},
   "number_sections": true,
   "sideBar": true,
   "skip_h1_title": false,
   "title_cell": "Table of Contents",
   "title_sidebar": "Contents",
   "toc_cell": false,
   "toc_position": {},
   "toc_section_display": true,
   "toc_window_display": false
  }
 },
 "nbformat": 4,
 "nbformat_minor": 5
}
