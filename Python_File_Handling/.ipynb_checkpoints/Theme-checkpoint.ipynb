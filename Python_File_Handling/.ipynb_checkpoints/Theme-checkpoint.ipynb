{
 "cells": [
  {
   "cell_type": "code",
   "execution_count": 9,
   "id": "75888beb",
   "metadata": {
    "scrolled": true
   },
   "outputs": [
    {
     "name": "stdout",
     "output_type": "stream",
     "text": [
      "0\n",
      "My Name is ABISMRUTA\n"
     ]
    }
   ],
   "source": [
    "# f=open(\"abc123.tx\",\"w\")#here we are writing the file in the write mode\n",
    "# f.write(\"My Name is PRATIK\")#writing to the file using the write method \n",
    "with open(\"abc123.tx\",\"r+\") as f:\n",
    "    #opening the file in read and write mode\n",
    "    #as her wrote it to the file the control will be at the last which we need to bring to the beginning\n",
    "    #for that we have to use the seek()\n",
    "    f.seek(0)#bringing the cursor to the beginning \n",
    "    print(f.tell())#fetching the current cursor position index with the help of tell()\n",
    "    f.seek(11)#here we want to fetch the Abismruta Sarangi \n",
    "    f.write(\"ABISMRUTA\")\n",
    "    #now we can read the entire character \n",
    "    f.seek(0)#going to the o th position\n",
    "    print(f.read())\n",
    "    "
   ]
  },
  {
   "cell_type": "code",
   "execution_count": 5,
   "id": "916beb27",
   "metadata": {},
   "outputs": [
    {
     "name": "stdout",
     "output_type": "stream",
     "text": [
      "Requirement already satisfied: jupyterthemes in c:\\users\\611903295\\downloads\\python\\myvirtualenv\\lib\\site-packages (0.20.0)\n",
      "Requirement already satisfied: ipython>=5.4.1 in c:\\users\\611903295\\downloads\\python\\myvirtualenv\\lib\\site-packages (from jupyterthemes) (7.25.0)\n",
      "Requirement already satisfied: notebook>=5.6.0 in c:\\users\\611903295\\downloads\\python\\myvirtualenv\\lib\\site-packages (from jupyterthemes) (6.4.0)\n",
      "Requirement already satisfied: lesscpy>=0.11.2 in c:\\users\\611903295\\downloads\\python\\myvirtualenv\\lib\\site-packages (from jupyterthemes) (0.15.0)\n",
      "Requirement already satisfied: matplotlib>=1.4.3 in c:\\users\\611903295\\downloads\\python\\myvirtualenv\\lib\\site-packages (from jupyterthemes) (3.4.2)\n",
      "Requirement already satisfied: jupyter-core in c:\\users\\611903295\\downloads\\python\\myvirtualenv\\lib\\site-packages (from jupyterthemes) (4.7.1)\n",
      "Requirement already satisfied: jedi>=0.16 in c:\\users\\611903295\\downloads\\python\\myvirtualenv\\lib\\site-packages (from ipython>=5.4.1->jupyterthemes) (0.18.0)\n",
      "Requirement already satisfied: traitlets>=4.2 in c:\\users\\611903295\\downloads\\python\\myvirtualenv\\lib\\site-packages (from ipython>=5.4.1->jupyterthemes) (5.0.5)\n",
      "Requirement already satisfied: pygments in c:\\users\\611903295\\downloads\\python\\myvirtualenv\\lib\\site-packages (from ipython>=5.4.1->jupyterthemes) (2.9.0)\n",
      "Requirement already satisfied: backcall in c:\\users\\611903295\\downloads\\python\\myvirtualenv\\lib\\site-packages (from ipython>=5.4.1->jupyterthemes) (0.2.0)\n",
      "Requirement already satisfied: colorama in c:\\users\\611903295\\downloads\\python\\myvirtualenv\\lib\\site-packages (from ipython>=5.4.1->jupyterthemes) (0.4.4)\n",
      "Requirement already satisfied: decorator in c:\\users\\611903295\\downloads\\python\\myvirtualenv\\lib\\site-packages (from ipython>=5.4.1->jupyterthemes) (5.0.9)\n",
      "Requirement already satisfied: prompt-toolkit!=3.0.0,!=3.0.1,<3.1.0,>=2.0.0 in c:\\users\\611903295\\downloads\\python\\myvirtualenv\\lib\\site-packages (from ipython>=5.4.1->jupyterthemes) (3.0.19)\n",
      "Requirement already satisfied: matplotlib-inline in c:\\users\\611903295\\downloads\\python\\myvirtualenv\\lib\\site-packages (from ipython>=5.4.1->jupyterthemes) (0.1.2)\n",
      "Requirement already satisfied: pickleshare in c:\\users\\611903295\\downloads\\python\\myvirtualenv\\lib\\site-packages (from ipython>=5.4.1->jupyterthemes) (0.7.5)\n",
      "Requirement already satisfied: setuptools>=18.5 in c:\\users\\611903295\\downloads\\python\\myvirtualenv\\lib\\site-packages (from ipython>=5.4.1->jupyterthemes) (41.2.0)\n",
      "Requirement already satisfied: parso<0.9.0,>=0.8.0 in c:\\users\\611903295\\downloads\\python\\myvirtualenv\\lib\\site-packages (from jedi>=0.16->ipython>=5.4.1->jupyterthemes) (0.8.2)\n"
     ]
    },
    {
     "name": "stderr",
     "output_type": "stream",
     "text": [
      "WARNING: You are using pip version 21.1.3; however, version 21.2.1 is available.\n",
      "You should consider upgrading via the 'c:\\users\\611903295\\downloads\\python\\myvirtualenv\\scripts\\python.exe -m pip install --upgrade pip' command.\n"
     ]
    },
    {
     "name": "stdout",
     "output_type": "stream",
     "text": [
      "Requirement already satisfied: six in c:\\users\\611903295\\downloads\\python\\myvirtualenv\\lib\\site-packages (from lesscpy>=0.11.2->jupyterthemes) (1.16.0)\n",
      "Requirement already satisfied: ply in c:\\users\\611903295\\downloads\\python\\myvirtualenv\\lib\\site-packages (from lesscpy>=0.11.2->jupyterthemes) (3.11)\n",
      "Requirement already satisfied: pyparsing>=2.2.1 in c:\\users\\611903295\\downloads\\python\\myvirtualenv\\lib\\site-packages (from matplotlib>=1.4.3->jupyterthemes) (2.4.7)\n",
      "Requirement already satisfied: pillow>=6.2.0 in c:\\users\\611903295\\downloads\\python\\myvirtualenv\\lib\\site-packages (from matplotlib>=1.4.3->jupyterthemes) (8.2.0)\n",
      "Requirement already satisfied: python-dateutil>=2.7 in c:\\users\\611903295\\downloads\\python\\myvirtualenv\\lib\\site-packages (from matplotlib>=1.4.3->jupyterthemes) (2.8.2)\n",
      "Requirement already satisfied: numpy>=1.16 in c:\\users\\611903295\\downloads\\python\\myvirtualenv\\lib\\site-packages (from matplotlib>=1.4.3->jupyterthemes) (1.21.1)\n",
      "Requirement already satisfied: cycler>=0.10 in c:\\users\\611903295\\downloads\\python\\myvirtualenv\\lib\\site-packages (from matplotlib>=1.4.3->jupyterthemes) (0.10.0)\n",
      "Requirement already satisfied: kiwisolver>=1.0.1 in c:\\users\\611903295\\downloads\\python\\myvirtualenv\\lib\\site-packages (from matplotlib>=1.4.3->jupyterthemes) (1.3.1)\n",
      "Requirement already satisfied: tornado>=6.1 in c:\\users\\611903295\\downloads\\python\\myvirtualenv\\lib\\site-packages (from notebook>=5.6.0->jupyterthemes) (6.1)\n",
      "Requirement already satisfied: nbconvert in c:\\users\\611903295\\downloads\\python\\myvirtualenv\\lib\\site-packages (from notebook>=5.6.0->jupyterthemes) (6.1.0)\n",
      "Requirement already satisfied: ipython-genutils in c:\\users\\611903295\\downloads\\python\\myvirtualenv\\lib\\site-packages (from notebook>=5.6.0->jupyterthemes) (0.2.0)\n",
      "Requirement already satisfied: pyzmq>=17 in c:\\users\\611903295\\downloads\\python\\myvirtualenv\\lib\\site-packages (from notebook>=5.6.0->jupyterthemes) (22.1.0)\n",
      "Requirement already satisfied: jinja2 in c:\\users\\611903295\\downloads\\python\\myvirtualenv\\lib\\site-packages (from notebook>=5.6.0->jupyterthemes) (3.0.1)\n",
      "Requirement already satisfied: jupyter-client>=5.3.4 in c:\\users\\611903295\\downloads\\python\\myvirtualenv\\lib\\site-packages (from notebook>=5.6.0->jupyterthemes) (6.1.12)\n",
      "Requirement already satisfied: Send2Trash>=1.5.0 in c:\\users\\611903295\\downloads\\python\\myvirtualenv\\lib\\site-packages (from notebook>=5.6.0->jupyterthemes) (1.7.1)\n",
      "Requirement already satisfied: prometheus-client in c:\\users\\611903295\\downloads\\python\\myvirtualenv\\lib\\site-packages (from notebook>=5.6.0->jupyterthemes) (0.11.0)\n",
      "Requirement already satisfied: nbformat in c:\\users\\611903295\\downloads\\python\\myvirtualenv\\lib\\site-packages (from notebook>=5.6.0->jupyterthemes) (5.1.3)\n",
      "Requirement already satisfied: ipykernel in c:\\users\\611903295\\downloads\\python\\myvirtualenv\\lib\\site-packages (from notebook>=5.6.0->jupyterthemes) (6.0.3)\n",
      "Requirement already satisfied: terminado>=0.8.3 in c:\\users\\611903295\\downloads\\python\\myvirtualenv\\lib\\site-packages (from notebook>=5.6.0->jupyterthemes) (0.9.5)\n",
      "Requirement already satisfied: argon2-cffi in c:\\users\\611903295\\downloads\\python\\myvirtualenv\\lib\\site-packages (from notebook>=5.6.0->jupyterthemes) (20.1.0)\n",
      "Requirement already satisfied: pywin32>=1.0 in c:\\users\\611903295\\downloads\\python\\myvirtualenv\\lib\\site-packages (from jupyter-core->jupyterthemes) (301)\n",
      "Requirement already satisfied: wcwidth in c:\\users\\611903295\\downloads\\python\\myvirtualenv\\lib\\site-packages (from prompt-toolkit!=3.0.0,!=3.0.1,<3.1.0,>=2.0.0->ipython>=5.4.1->jupyterthemes) (0.2.5)\n",
      "Requirement already satisfied: pywinpty<1,>=0.5 in c:\\users\\611903295\\downloads\\python\\myvirtualenv\\lib\\site-packages (from terminado>=0.8.3->notebook>=5.6.0->jupyterthemes) (0.5.7)\n",
      "Requirement already satisfied: cffi>=1.0.0 in c:\\users\\611903295\\downloads\\python\\myvirtualenv\\lib\\site-packages (from argon2-cffi->notebook>=5.6.0->jupyterthemes) (1.14.6)\n",
      "Requirement already satisfied: pycparser in c:\\users\\611903295\\downloads\\python\\myvirtualenv\\lib\\site-packages (from cffi>=1.0.0->argon2-cffi->notebook>=5.6.0->jupyterthemes) (2.20)\n",
      "Requirement already satisfied: debugpy<2.0,>=1.0.0 in c:\\users\\611903295\\downloads\\python\\myvirtualenv\\lib\\site-packages (from ipykernel->notebook>=5.6.0->jupyterthemes) (1.4.1)\n",
      "Requirement already satisfied: MarkupSafe>=2.0 in c:\\users\\611903295\\downloads\\python\\myvirtualenv\\lib\\site-packages (from jinja2->notebook>=5.6.0->jupyterthemes) (2.0.1)\n",
      "Requirement already satisfied: nbclient<0.6.0,>=0.5.0 in c:\\users\\611903295\\downloads\\python\\myvirtualenv\\lib\\site-packages (from nbconvert->notebook>=5.6.0->jupyterthemes) (0.5.3)\n",
      "Requirement already satisfied: bleach in c:\\users\\611903295\\downloads\\python\\myvirtualenv\\lib\\site-packages (from nbconvert->notebook>=5.6.0->jupyterthemes) (3.3.1)\n",
      "Requirement already satisfied: entrypoints>=0.2.2 in c:\\users\\611903295\\downloads\\python\\myvirtualenv\\lib\\site-packages (from nbconvert->notebook>=5.6.0->jupyterthemes) (0.3)\n",
      "Requirement already satisfied: testpath in c:\\users\\611903295\\downloads\\python\\myvirtualenv\\lib\\site-packages (from nbconvert->notebook>=5.6.0->jupyterthemes) (0.5.0)\n",
      "Requirement already satisfied: defusedxml in c:\\users\\611903295\\downloads\\python\\myvirtualenv\\lib\\site-packages (from nbconvert->notebook>=5.6.0->jupyterthemes) (0.7.1)\n",
      "Requirement already satisfied: pandocfilters>=1.4.1 in c:\\users\\611903295\\downloads\\python\\myvirtualenv\\lib\\site-packages (from nbconvert->notebook>=5.6.0->jupyterthemes) (1.4.3)\n",
      "Requirement already satisfied: mistune<2,>=0.8.1 in c:\\users\\611903295\\downloads\\python\\myvirtualenv\\lib\\site-packages (from nbconvert->notebook>=5.6.0->jupyterthemes) (0.8.4)\n",
      "Requirement already satisfied: jupyterlab-pygments in c:\\users\\611903295\\downloads\\python\\myvirtualenv\\lib\\site-packages (from nbconvert->notebook>=5.6.0->jupyterthemes) (0.1.2)\n",
      "Requirement already satisfied: nest-asyncio in c:\\users\\611903295\\downloads\\python\\myvirtualenv\\lib\\site-packages (from nbclient<0.6.0,>=0.5.0->nbconvert->notebook>=5.6.0->jupyterthemes) (1.5.1)\n",
      "Requirement already satisfied: async-generator in c:\\users\\611903295\\downloads\\python\\myvirtualenv\\lib\\site-packages (from nbclient<0.6.0,>=0.5.0->nbconvert->notebook>=5.6.0->jupyterthemes) (1.10)\n",
      "Requirement already satisfied: jsonschema!=2.5.0,>=2.4 in c:\\users\\611903295\\downloads\\python\\myvirtualenv\\lib\\site-packages (from nbformat->notebook>=5.6.0->jupyterthemes) (3.2.0)\n",
      "Requirement already satisfied: pyrsistent>=0.14.0 in c:\\users\\611903295\\downloads\\python\\myvirtualenv\\lib\\site-packages (from jsonschema!=2.5.0,>=2.4->nbformat->notebook>=5.6.0->jupyterthemes) (0.18.0)\n",
      "Requirement already satisfied: attrs>=17.4.0 in c:\\users\\611903295\\downloads\\python\\myvirtualenv\\lib\\site-packages (from jsonschema!=2.5.0,>=2.4->nbformat->notebook>=5.6.0->jupyterthemes) (20.3.0)\n",
      "Requirement already satisfied: webencodings in c:\\users\\611903295\\downloads\\python\\myvirtualenv\\lib\\site-packages (from bleach->nbconvert->notebook>=5.6.0->jupyterthemes) (0.5.1)\n",
      "Requirement already satisfied: packaging in c:\\users\\611903295\\downloads\\python\\myvirtualenv\\lib\\site-packages (from bleach->nbconvert->notebook>=5.6.0->jupyterthemes) (20.9)\n"
     ]
    }
   ],
   "source": [
    "!pip install jupyterthemes\n"
   ]
  },
  {
   "cell_type": "code",
   "execution_count": null,
   "id": "a2c085d6",
   "metadata": {},
   "outputs": [],
   "source": [
    "import os #importing the OS Module \n",
    "f_name=input(\"Enter the Name of the File\")\n"
   ]
  },
  {
   "cell_type": "code",
   "execution_count": 8,
   "id": "e3b1c48a",
   "metadata": {
    "scrolled": false
   },
   "outputs": [
    {
     "name": "stdout",
     "output_type": "stream",
     "text": [
      "Available Themes: \n",
      "   chesterish\n",
      "   grade3\n",
      "   gruvboxd\n",
      "   gruvboxl\n",
      "   monokai\n",
      "   oceans16\n",
      "   onedork\n",
      "   solarizedd\n",
      "   solarizedl\n"
     ]
    }
   ],
   "source": [
    "!jt -l"
   ]
  },
  {
   "cell_type": "code",
   "execution_count": 15,
   "id": "dfeacf75",
   "metadata": {},
   "outputs": [],
   "source": [
    "!jt --theme onedork"
   ]
  },
  {
   "cell_type": "code",
   "execution_count": 16,
   "id": "f1620a6a",
   "metadata": {},
   "outputs": [],
   "source": [
    "!jt -t onedork -T"
   ]
  },
  {
   "cell_type": "code",
   "execution_count": 17,
   "id": "99d9c8be",
   "metadata": {},
   "outputs": [
    {
     "ename": "SyntaxError",
     "evalue": "invalid syntax (Temp/ipykernel_6364/3739435147.py, line 1)",
     "output_type": "error",
     "traceback": [
      "\u001b[1;36m  File \u001b[1;32m\"C:\\Users\\611903~1\\AppData\\Local\\Temp/ipykernel_6364/3739435147.py\"\u001b[1;36m, line \u001b[1;32m1\u001b[0m\n\u001b[1;33m    jt -t chesterish\u001b[0m\n\u001b[1;37m          ^\u001b[0m\n\u001b[1;31mSyntaxError\u001b[0m\u001b[1;31m:\u001b[0m invalid syntax\n"
     ]
    }
   ],
   "source": [
    "jt -t chesterish"
   ]
  },
  {
   "cell_type": "code",
   "execution_count": 18,
   "id": "a595d5c3",
   "metadata": {},
   "outputs": [
    {
     "ename": "SyntaxError",
     "evalue": "invalid syntax (Temp/ipykernel_6364/3739435147.py, line 1)",
     "output_type": "error",
     "traceback": [
      "\u001b[1;36m  File \u001b[1;32m\"C:\\Users\\611903~1\\AppData\\Local\\Temp/ipykernel_6364/3739435147.py\"\u001b[1;36m, line \u001b[1;32m1\u001b[0m\n\u001b[1;33m    jt -t chesterish\u001b[0m\n\u001b[1;37m          ^\u001b[0m\n\u001b[1;31mSyntaxError\u001b[0m\u001b[1;31m:\u001b[0m invalid syntax\n"
     ]
    }
   ],
   "source": [
    "jt -t chesterish"
   ]
  },
  {
   "cell_type": "code",
   "execution_count": 19,
   "id": "714b1d6c",
   "metadata": {},
   "outputs": [],
   "source": [
    "!jt -t chesterish"
   ]
  },
  {
   "cell_type": "code",
   "execution_count": 20,
   "id": "424184dd",
   "metadata": {},
   "outputs": [],
   "source": [
    "!jt -t onedork -f roboto -fs 12"
   ]
  },
  {
   "cell_type": "code",
   "execution_count": 22,
   "id": "81a871db",
   "metadata": {},
   "outputs": [
    {
     "name": "stderr",
     "output_type": "stream",
     "text": [
      "WARNING: You are using pip version 21.1.3; however, version 21.2.1 is available.\n",
      "You should consider upgrading via the 'c:\\users\\611903295\\downloads\\python\\myvirtualenv\\scripts\\python.exe -m pip install --upgrade pip' command.\n"
     ]
    },
    {
     "name": "stdout",
     "output_type": "stream",
     "text": [
      "Requirement already satisfied: jupyterthemes in c:\\users\\611903295\\downloads\\python\\myvirtualenv\\lib\\site-packages (0.20.0)\n",
      "Requirement already satisfied: notebook>=5.6.0 in c:\\users\\611903295\\downloads\\python\\myvirtualenv\\lib\\site-packages (from jupyterthemes) (6.4.0)\n",
      "Requirement already satisfied: matplotlib>=1.4.3 in c:\\users\\611903295\\downloads\\python\\myvirtualenv\\lib\\site-packages (from jupyterthemes) (3.4.2)\n",
      "Requirement already satisfied: ipython>=5.4.1 in c:\\users\\611903295\\downloads\\python\\myvirtualenv\\lib\\site-packages (from jupyterthemes) (7.25.0)\n",
      "Requirement already satisfied: lesscpy>=0.11.2 in c:\\users\\611903295\\downloads\\python\\myvirtualenv\\lib\\site-packages (from jupyterthemes) (0.15.0)\n",
      "Requirement already satisfied: jupyter-core in c:\\users\\611903295\\downloads\\python\\myvirtualenv\\lib\\site-packages (from jupyterthemes) (4.7.1)\n",
      "Requirement already satisfied: decorator in c:\\users\\611903295\\downloads\\python\\myvirtualenv\\lib\\site-packages (from ipython>=5.4.1->jupyterthemes) (5.0.9)\n",
      "Requirement already satisfied: traitlets>=4.2 in c:\\users\\611903295\\downloads\\python\\myvirtualenv\\lib\\site-packages (from ipython>=5.4.1->jupyterthemes) (5.0.5)\n",
      "Requirement already satisfied: pygments in c:\\users\\611903295\\downloads\\python\\myvirtualenv\\lib\\site-packages (from ipython>=5.4.1->jupyterthemes) (2.9.0)\n",
      "Requirement already satisfied: prompt-toolkit!=3.0.0,!=3.0.1,<3.1.0,>=2.0.0 in c:\\users\\611903295\\downloads\\python\\myvirtualenv\\lib\\site-packages (from ipython>=5.4.1->jupyterthemes) (3.0.19)\n",
      "Requirement already satisfied: matplotlib-inline in c:\\users\\611903295\\downloads\\python\\myvirtualenv\\lib\\site-packages (from ipython>=5.4.1->jupyterthemes) (0.1.2)\n",
      "Requirement already satisfied: backcall in c:\\users\\611903295\\downloads\\python\\myvirtualenv\\lib\\site-packages (from ipython>=5.4.1->jupyterthemes) (0.2.0)\n",
      "Requirement already satisfied: jedi>=0.16 in c:\\users\\611903295\\downloads\\python\\myvirtualenv\\lib\\site-packages (from ipython>=5.4.1->jupyterthemes) (0.18.0)\n",
      "Requirement already satisfied: colorama in c:\\users\\611903295\\downloads\\python\\myvirtualenv\\lib\\site-packages (from ipython>=5.4.1->jupyterthemes) (0.4.4)\n",
      "Requirement already satisfied: pickleshare in c:\\users\\611903295\\downloads\\python\\myvirtualenv\\lib\\site-packages (from ipython>=5.4.1->jupyterthemes) (0.7.5)\n",
      "Requirement already satisfied: setuptools>=18.5 in c:\\users\\611903295\\downloads\\python\\myvirtualenv\\lib\\site-packages (from ipython>=5.4.1->jupyterthemes) (41.2.0)\n",
      "Requirement already satisfied: parso<0.9.0,>=0.8.0 in c:\\users\\611903295\\downloads\\python\\myvirtualenv\\lib\\site-packages (from jedi>=0.16->ipython>=5.4.1->jupyterthemes) (0.8.2)\n",
      "Requirement already satisfied: six in c:\\users\\611903295\\downloads\\python\\myvirtualenv\\lib\\site-packages (from lesscpy>=0.11.2->jupyterthemes) (1.16.0)\n",
      "Requirement already satisfied: ply in c:\\users\\611903295\\downloads\\python\\myvirtualenv\\lib\\site-packages (from lesscpy>=0.11.2->jupyterthemes) (3.11)\n",
      "Requirement already satisfied: pillow>=6.2.0 in c:\\users\\611903295\\downloads\\python\\myvirtualenv\\lib\\site-packages (from matplotlib>=1.4.3->jupyterthemes) (8.2.0)\n",
      "Requirement already satisfied: kiwisolver>=1.0.1 in c:\\users\\611903295\\downloads\\python\\myvirtualenv\\lib\\site-packages (from matplotlib>=1.4.3->jupyterthemes) (1.3.1)\n",
      "Requirement already satisfied: numpy>=1.16 in c:\\users\\611903295\\downloads\\python\\myvirtualenv\\lib\\site-packages (from matplotlib>=1.4.3->jupyterthemes) (1.21.1)\n",
      "Requirement already satisfied: cycler>=0.10 in c:\\users\\611903295\\downloads\\python\\myvirtualenv\\lib\\site-packages (from matplotlib>=1.4.3->jupyterthemes) (0.10.0)\n",
      "Requirement already satisfied: pyparsing>=2.2.1 in c:\\users\\611903295\\downloads\\python\\myvirtualenv\\lib\\site-packages (from matplotlib>=1.4.3->jupyterthemes) (2.4.7)\n",
      "Requirement already satisfied: python-dateutil>=2.7 in c:\\users\\611903295\\downloads\\python\\myvirtualenv\\lib\\site-packages (from matplotlib>=1.4.3->jupyterthemes) (2.8.2)\n",
      "Requirement already satisfied: terminado>=0.8.3 in c:\\users\\611903295\\downloads\\python\\myvirtualenv\\lib\\site-packages (from notebook>=5.6.0->jupyterthemes) (0.9.5)\n",
      "Requirement already satisfied: pyzmq>=17 in c:\\users\\611903295\\downloads\\python\\myvirtualenv\\lib\\site-packages (from notebook>=5.6.0->jupyterthemes) (22.1.0)\n",
      "Requirement already satisfied: jupyter-client>=5.3.4 in c:\\users\\611903295\\downloads\\python\\myvirtualenv\\lib\\site-packages (from notebook>=5.6.0->jupyterthemes) (6.1.12)\n",
      "Requirement already satisfied: prometheus-client in c:\\users\\611903295\\downloads\\python\\myvirtualenv\\lib\\site-packages (from notebook>=5.6.0->jupyterthemes) (0.11.0)\n",
      "Requirement already satisfied: jinja2 in c:\\users\\611903295\\downloads\\python\\myvirtualenv\\lib\\site-packages (from notebook>=5.6.0->jupyterthemes) (3.0.1)\n",
      "Requirement already satisfied: ipykernel in c:\\users\\611903295\\downloads\\python\\myvirtualenv\\lib\\site-packages (from notebook>=5.6.0->jupyterthemes) (6.0.3)\n",
      "Requirement already satisfied: Send2Trash>=1.5.0 in c:\\users\\611903295\\downloads\\python\\myvirtualenv\\lib\\site-packages (from notebook>=5.6.0->jupyterthemes) (1.7.1)\n",
      "Requirement already satisfied: nbformat in c:\\users\\611903295\\downloads\\python\\myvirtualenv\\lib\\site-packages (from notebook>=5.6.0->jupyterthemes) (5.1.3)\n",
      "Requirement already satisfied: argon2-cffi in c:\\users\\611903295\\downloads\\python\\myvirtualenv\\lib\\site-packages (from notebook>=5.6.0->jupyterthemes) (20.1.0)\n",
      "Requirement already satisfied: tornado>=6.1 in c:\\users\\611903295\\downloads\\python\\myvirtualenv\\lib\\site-packages (from notebook>=5.6.0->jupyterthemes) (6.1)\n",
      "Requirement already satisfied: nbconvert in c:\\users\\611903295\\downloads\\python\\myvirtualenv\\lib\\site-packages (from notebook>=5.6.0->jupyterthemes) (6.1.0)\n",
      "Requirement already satisfied: ipython-genutils in c:\\users\\611903295\\downloads\\python\\myvirtualenv\\lib\\site-packages (from notebook>=5.6.0->jupyterthemes) (0.2.0)\n",
      "Requirement already satisfied: pywin32>=1.0 in c:\\users\\611903295\\downloads\\python\\myvirtualenv\\lib\\site-packages (from jupyter-core->jupyterthemes) (301)\n",
      "Requirement already satisfied: wcwidth in c:\\users\\611903295\\downloads\\python\\myvirtualenv\\lib\\site-packages (from prompt-toolkit!=3.0.0,!=3.0.1,<3.1.0,>=2.0.0->ipython>=5.4.1->jupyterthemes) (0.2.5)\n",
      "Requirement already satisfied: pywinpty<1,>=0.5 in c:\\users\\611903295\\downloads\\python\\myvirtualenv\\lib\\site-packages (from terminado>=0.8.3->notebook>=5.6.0->jupyterthemes) (0.5.7)\n",
      "Requirement already satisfied: cffi>=1.0.0 in c:\\users\\611903295\\downloads\\python\\myvirtualenv\\lib\\site-packages (from argon2-cffi->notebook>=5.6.0->jupyterthemes) (1.14.6)\n",
      "Requirement already satisfied: pycparser in c:\\users\\611903295\\downloads\\python\\myvirtualenv\\lib\\site-packages (from cffi>=1.0.0->argon2-cffi->notebook>=5.6.0->jupyterthemes) (2.20)\n",
      "Requirement already satisfied: debugpy<2.0,>=1.0.0 in c:\\users\\611903295\\downloads\\python\\myvirtualenv\\lib\\site-packages (from ipykernel->notebook>=5.6.0->jupyterthemes) (1.4.1)\n",
      "Requirement already satisfied: MarkupSafe>=2.0 in c:\\users\\611903295\\downloads\\python\\myvirtualenv\\lib\\site-packages (from jinja2->notebook>=5.6.0->jupyterthemes) (2.0.1)\n",
      "Requirement already satisfied: pandocfilters>=1.4.1 in c:\\users\\611903295\\downloads\\python\\myvirtualenv\\lib\\site-packages (from nbconvert->notebook>=5.6.0->jupyterthemes) (1.4.3)\n",
      "Requirement already satisfied: mistune<2,>=0.8.1 in c:\\users\\611903295\\downloads\\python\\myvirtualenv\\lib\\site-packages (from nbconvert->notebook>=5.6.0->jupyterthemes) (0.8.4)\n",
      "Requirement already satisfied: defusedxml in c:\\users\\611903295\\downloads\\python\\myvirtualenv\\lib\\site-packages (from nbconvert->notebook>=5.6.0->jupyterthemes) (0.7.1)\n",
      "Requirement already satisfied: testpath in c:\\users\\611903295\\downloads\\python\\myvirtualenv\\lib\\site-packages (from nbconvert->notebook>=5.6.0->jupyterthemes) (0.5.0)\n",
      "Requirement already satisfied: nbclient<0.6.0,>=0.5.0 in c:\\users\\611903295\\downloads\\python\\myvirtualenv\\lib\\site-packages (from nbconvert->notebook>=5.6.0->jupyterthemes) (0.5.3)\n",
      "Requirement already satisfied: bleach in c:\\users\\611903295\\downloads\\python\\myvirtualenv\\lib\\site-packages (from nbconvert->notebook>=5.6.0->jupyterthemes) (3.3.1)\n",
      "Requirement already satisfied: jupyterlab-pygments in c:\\users\\611903295\\downloads\\python\\myvirtualenv\\lib\\site-packages (from nbconvert->notebook>=5.6.0->jupyterthemes) (0.1.2)\n",
      "Requirement already satisfied: entrypoints>=0.2.2 in c:\\users\\611903295\\downloads\\python\\myvirtualenv\\lib\\site-packages (from nbconvert->notebook>=5.6.0->jupyterthemes) (0.3)\n",
      "Requirement already satisfied: async-generator in c:\\users\\611903295\\downloads\\python\\myvirtualenv\\lib\\site-packages (from nbclient<0.6.0,>=0.5.0->nbconvert->notebook>=5.6.0->jupyterthemes) (1.10)\n",
      "Requirement already satisfied: nest-asyncio in c:\\users\\611903295\\downloads\\python\\myvirtualenv\\lib\\site-packages (from nbclient<0.6.0,>=0.5.0->nbconvert->notebook>=5.6.0->jupyterthemes) (1.5.1)\n",
      "Requirement already satisfied: jsonschema!=2.5.0,>=2.4 in c:\\users\\611903295\\downloads\\python\\myvirtualenv\\lib\\site-packages (from nbformat->notebook>=5.6.0->jupyterthemes) (3.2.0)\n",
      "Requirement already satisfied: pyrsistent>=0.14.0 in c:\\users\\611903295\\downloads\\python\\myvirtualenv\\lib\\site-packages (from jsonschema!=2.5.0,>=2.4->nbformat->notebook>=5.6.0->jupyterthemes) (0.18.0)\n"
     ]
    },
    {
     "name": "stdout",
     "output_type": "stream",
     "text": [
      "Requirement already satisfied: attrs>=17.4.0 in c:\\users\\611903295\\downloads\\python\\myvirtualenv\\lib\\site-packages (from jsonschema!=2.5.0,>=2.4->nbformat->notebook>=5.6.0->jupyterthemes) (20.3.0)\n",
      "Requirement already satisfied: packaging in c:\\users\\611903295\\downloads\\python\\myvirtualenv\\lib\\site-packages (from bleach->nbconvert->notebook>=5.6.0->jupyterthemes) (20.9)\n",
      "Requirement already satisfied: webencodings in c:\\users\\611903295\\downloads\\python\\myvirtualenv\\lib\\site-packages (from bleach->nbconvert->notebook>=5.6.0->jupyterthemes) (0.5.1)\n"
     ]
    }
   ],
   "source": [
    "!pip install jupyterthemes"
   ]
  },
  {
   "cell_type": "code",
   "execution_count": 23,
   "id": "8bfdcf88",
   "metadata": {
    "scrolled": true
   },
   "outputs": [
    {
     "ename": "SyntaxError",
     "evalue": "invalid syntax (Temp/ipykernel_6364/2205263004.py, line 1)",
     "output_type": "error",
     "traceback": [
      "\u001b[1;36m  File \u001b[1;32m\"C:\\Users\\611903~1\\AppData\\Local\\Temp/ipykernel_6364/2205263004.py\"\u001b[1;36m, line \u001b[1;32m1\u001b[0m\n\u001b[1;33m    jt -t onedork\u001b[0m\n\u001b[1;37m          ^\u001b[0m\n\u001b[1;31mSyntaxError\u001b[0m\u001b[1;31m:\u001b[0m invalid syntax\n"
     ]
    }
   ],
   "source": [
    "jt -t onedork"
   ]
  },
  {
   "cell_type": "code",
   "execution_count": 5,
   "id": "0aedf5ab",
   "metadata": {},
   "outputs": [
    {
     "name": "stdout",
     "output_type": "stream",
     "text": [
      "Available Themes: \n",
      "   chesterish\n",
      "   grade3\n",
      "   gruvboxd\n",
      "   gruvboxl\n",
      "   monokai\n",
      "   oceans16\n",
      "   onedork\n",
      "   solarizedd\n",
      "   solarizedl\n"
     ]
    }
   ],
   "source": [
    "!jt -l"
   ]
  },
  {
   "cell_type": "code",
   "execution_count": 7,
   "id": "d347d0d1",
   "metadata": {},
   "outputs": [],
   "source": [
    "!jt -t gruvboxd"
   ]
  },
  {
   "cell_type": "code",
   "execution_count": 1,
   "id": "f2b7a65b",
   "metadata": {},
   "outputs": [
    {
     "data": {
      "application/vnd.jupyter.widget-view+json": {
       "model_id": "c0c2c27ecb904e0aa5cd00fa5ace1cc7",
       "version_major": 2,
       "version_minor": 0
      },
      "text/plain": [
       "Button(description='Ergebnis absenden', style=ButtonStyle())"
      ]
     },
     "metadata": {},
     "output_type": "display_data"
    }
   ],
   "source": [
    "from ipywidgets import widgets, Button\n",
    "import requests\n",
    "btn = widgets.Button(description='Ergebnis absenden')\n",
    "\n",
    "display(btn);\n",
    "\n",
    "def submit_score(obj):\n",
    "    try:\n",
    "        if not endpoint or not uuid or not username:\n",
    "            raise RuntimeError(\"Parameters missing\");\n",
    "        elif not lm:\n",
    "            raise RuntimeError(\"LearningModule-Instance not as lm defined\")\n",
    "\n",
    "        score = lm.get_score();\n",
    "        taskEvaluationString = lm.get_task_evaluation_string();\n",
    "        response = requests.post(endpoint, data= {\"uuid\": uuid, \"grade\": score, \"username\": username, \"details\": taskEvaluationString })\n",
    "        if response.status_code != 200:\n",
    "            raise RuntimeError(\"Fehler beim Request: \" + str(response.status_code))\n",
    "    except RuntimeError as e:\n",
    "        print(e)\n",
    "    else:\n",
    "        print(\"Durchführung erfolgreich abgegeben!\")\n",
    "btn.on_click(submit_score)"
   ]
  }
 ],
 "metadata": {
  "kernelspec": {
   "display_name": "Python 3 (ipykernel)",
   "language": "python",
   "name": "python3"
  },
  "language_info": {
   "codemirror_mode": {
    "name": "ipython",
    "version": 3
   },
   "file_extension": ".py",
   "mimetype": "text/x-python",
   "name": "python",
   "nbconvert_exporter": "python",
   "pygments_lexer": "ipython3",
   "version": "3.8.2"
  },
  "toc": {
   "base_numbering": 1,
   "nav_menu": {},
   "number_sections": true,
   "sideBar": true,
   "skip_h1_title": false,
   "title_cell": "Table of Contents",
   "title_sidebar": "Contents",
   "toc_cell": false,
   "toc_position": {},
   "toc_section_display": true,
   "toc_window_display": false
  }
 },
 "nbformat": 4,
 "nbformat_minor": 5
}
