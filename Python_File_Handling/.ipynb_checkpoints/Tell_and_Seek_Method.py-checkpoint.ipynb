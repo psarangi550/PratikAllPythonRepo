{
 "cells": [
  {
   "cell_type": "code",
   "execution_count": 3,
   "id": "ee03147a",
   "metadata": {},
   "outputs": [
    {
     "name": "stdout",
     "output_type": "stream",
     "text": [
      "0\n",
      "Lorem ipsumABISMRUTAt amet,\n",
      "consectetur adipiscing elit, sed do eiusmod tempor incididunt ut labore et dolore magna aliqua.\n",
      "Ut enim ad minim veniam, quis nostrud exercitation ullamco laboris nisi ut aliquip ex ea commodo consequat.\n",
      "Duis aute irure dolor in reprehenderit in voluptate velit esse cillum dolore eu fugiat nulla pariatur.\n",
      "Excepteur sint occaecat cupidatat non proident, sunt in culpa qui officia deserunt mollit anim id est laborum.\n",
      "It is a long established fact that a reader will be distracted by the readable content of a page when looking at its\n",
      "layout. The point of using Lorem Ipsum is that it has a more-or-less normal distribution of letters, as opposed to\n",
      "using 'Content here, content here', making it look like readable English. Many desktop publishing packages and web page\n",
      "editors now use Lorem Ipsum as their default model text, and a search for 'lorem ipsum' will uncover many web sites\n",
      "still in their infancy. Various versions have evolved over the years, sometimes by accident, sometimes on purpos\n",
      "(injected humour and the like).\n",
      "\n",
      "\n",
      "pratik\n"
     ]
    }
   ],
   "source": [
    "f=open(\"abc123.tx\",\"w\")#here we are writing the file in the write mode\n",
    "f.write(\"My Name is PRATIK\")#writing to the file using the write method \n",
    "with open(\"abc123.txt\",\"r+\") as f:\n",
    "    #opening the file in read and write mode\n",
    "    #as her wrote it to the file the control will be at the last which we need to bring to the beginning\n",
    "    #for that we have to use the seek()\n",
    "    f.seek(0)#bringing the cursor to the beginning \n",
    "    print(f.tell())#fetching the current cursor position index with the help of tell()\n",
    "    f.seek(11)#here we want to fetch the Abismruta Sarangi \n",
    "    f.write(\"ABISMRUTA\")\n",
    "    #now we can read the entire character \n",
    "    f.seek(0)#going to the o th position\n",
    "    print(f.read())\n",
    "    "
   ]
  },
  {
   "cell_type": "code",
   "execution_count": null,
   "id": "f6ea57b9",
   "metadata": {},
   "outputs": [],
   "source": [
    "#My Name is  Pratik Sarangi\n",
    "#012345678910111213141516"
   ]
  }
 ],
 "metadata": {
  "kernelspec": {
   "display_name": "Python 3 (ipykernel)",
   "language": "python",
   "name": "python3"
  },
  "language_info": {
   "codemirror_mode": {
    "name": "ipython",
    "version": 3
   },
   "file_extension": ".py",
   "mimetype": "text/x-python",
   "name": "python",
   "nbconvert_exporter": "python",
   "pygments_lexer": "ipython3",
   "version": "3.8.2"
  }
 },
 "nbformat": 4,
 "nbformat_minor": 5
}
