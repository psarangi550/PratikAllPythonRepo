{
 "cells": [
  {
   "cell_type": "markdown",
   "id": "d371b78c",
   "metadata": {},
   "source": [
    "Kopiere diesen Code in die erste Zelle deines Notebooks und führe sie anschließend aus, wenn du das Notebook lokal in einem Docker Container ausführen möchtest([Anleitung](https://projectbase.medien.hs-duesseldorf.de/eild.nrw-module/lernmodul-datenanalyse#Docker-Lokal)):\n",
    "```python\n",
    "kernel_name = python3\n",
    "```"
   ]
  },
  {
   "cell_type": "code",
   "execution_count": 1,
   "id": "f48c9aae",
   "metadata": {},
   "outputs": [
    {
     "ename": "NameError",
     "evalue": "name 'python3' is not defined",
     "output_type": "error",
     "traceback": [
      "\u001b[1;31m---------------------------------------------------------------------------\u001b[0m",
      "\u001b[1;31mNameError\u001b[0m                                 Traceback (most recent call last)",
      "\u001b[1;32mC:\\Users\\611903~1\\AppData\\Local\\Temp/ipykernel_15188/170156838.py\u001b[0m in \u001b[0;36m<module>\u001b[1;34m\u001b[0m\n\u001b[1;32m----> 1\u001b[1;33m \u001b[0mkernel_name\u001b[0m \u001b[1;33m=\u001b[0m \u001b[0mpython3\u001b[0m\u001b[1;33m;\u001b[0m\u001b[1;33m\u001b[0m\u001b[1;33m\u001b[0m\u001b[0m\n\u001b[0m",
      "\u001b[1;31mNameError\u001b[0m: name 'python3' is not defined"
     ]
    }
   ],
   "source": [
    "kernel_name = python3;"
   ]
  },
  {
   "cell_type": "code",
   "execution_count": 33,
   "id": "748c50b1",
   "metadata": {},
   "outputs": [
    {
     "name": "stdout",
     "output_type": "stream",
     "text": [
      "['.ipynb_checkpoints', 'django', 'Flask', 'java', 'python', 'testing']\n",
      "['.ipynb_checkpoints', 'SQL_Alchemy.txt']\n",
      "<class 'generator'>\n",
      "directory path are:- ./material/\n",
      "sub dir name .ipynb_checkpoints-----\n",
      "django-----\n",
      "Flask-----\n",
      "java-----\n",
      "python-----\n",
      "testing-----\n",
      "file name are:- []\n",
      "\n",
      "directory path are:- ./material/.ipynb_checkpoints\n",
      "sub dir name file name are:- []\n",
      "\n",
      "directory path are:- ./material/django\n",
      "sub dir name flask-----\n",
      "file name are:- []\n",
      "\n",
      "directory path are:- ./material/django\\flask\n",
      "sub dir name file name are:- ['flask1.txt', 'flask2.txt']\n",
      "\n",
      "directory path are:- ./material/Flask\n",
      "sub dir name .ipynb_checkpoints-----\n",
      "file name are:- ['SQL_Alchemy.txt']\n",
      "\n",
      "directory path are:- ./material/Flask\\.ipynb_checkpoints\n",
      "sub dir name file name are:- []\n",
      "\n",
      "directory path are:- ./material/java\n",
      "sub dir name file name are:- ['java1.txt', 'java2.txt', 'java3.txt']\n",
      "\n",
      "directory path are:- ./material/python\n",
      "sub dir name file name are:- ['python1.txt', 'python2.txt', 'python3.txt']\n",
      "\n",
      "directory path are:- ./material/testing\n",
      "sub dir name selenium-----\n",
      "file name are:- ['testing1.txt']\n",
      "\n",
      "directory path are:- ./material/testing\\selenium\n",
      "sub dir name file name are:- ['selenium1.txt', 'selenium2.txt']\n",
      "\n"
     ]
    }
   ],
   "source": [
    "#here we want to see whats the folder structure of the material directory which is in the cwd or pwd\n",
    "#in order to check that we have tio use either listdir() or walk()\n",
    "#here the listdir() returns the list of direct directory content\n",
    "#listdir will never talk about the sub directory\n",
    "#where as walk() talk about the directory and sub directory \n",
    "#walk():-return a generator object \n",
    "#generator object are nothing but collections of tuople\n",
    "#if we iterate an generator object we will get the tuple object \n",
    "#generator object will yield into tuple object \n",
    "#each element in the generator object provide a tuple object \n",
    "#we can iterate through that using the tuple unpacking concept \n",
    "#lets get started with it \n",
    "import os #importing the os module\n",
    "\n",
    "#first lets see what the response for the listdir(\"directory location\")\n",
    "#this will provide the list of directories and files which are the direct content of the directoruy we are searching for \n",
    "print(os.listdir('./material'))\n",
    "#here this will provide the direct content in the forrm of list \n",
    "#if we want to see for the Flask diorectory then we can write as \n",
    "print(os.listdir(\"./material/Flask/\"))\n",
    "\n",
    "#but if we use the walk() instead it will provide the generator object \n",
    "print(type(os.walk(\"./material/\")))\n",
    "\n",
    "#as we know each element in the generator object will priovide a tuple hence we can unpack the each tuple we are getting by using the tuple unpacking way \n",
    "\n",
    "g=(os.walk(\"./material/\"))\n",
    "\n",
    "# for x in g:\n",
    "#     print(x)#this will provide the tuple element present in the directory\n",
    "#here this will dispaly as\n",
    "#1.directory path in normal form :- /material/Flask for the directory and the sub directory\n",
    "#2.on each directory path it will provide the list of sub directory present inside the directory path\n",
    "#3.on each directory path it will provide the list of files present in the form of list \n",
    "\n",
    "#we can iteratate each of tuple in our own form as below \n",
    "#here we need to unpack the tuple as from there we can able to see indivuidula element \n",
    "for directory_name,sub_directory_name,file_name in g:#unpacking each tuple present in decorator\n",
    "    print(f\"directory path are:- {directory_name}\")\n",
    "    print(\"sub dir name\",end=\" \")\n",
    "    for sub in sub_directory_name:\n",
    "        print(sub,end=\"-----\")\n",
    "        print()\n",
    "    print(f\"file name are:- {file_name}\")\n",
    "    print()\n",
    "\n",
    "    #each directory and sub directory considered as the \n",
    "    "
   ]
  },
  {
   "cell_type": "code",
   "execution_count": 2,
   "id": "87d959f9",
   "metadata": {},
   "outputs": [
    {
     "data": {
      "application/vnd.jupyter.widget-view+json": {
       "model_id": "a429aac3890b4d4abcdaf70504edb85a",
       "version_major": 2,
       "version_minor": 0
      },
      "text/plain": [
       "Button(description='Ergebnis absenden', style=ButtonStyle())"
      ]
     },
     "metadata": {},
     "output_type": "display_data"
    }
   ],
   "source": [
    "from ipywidgets import widgets, Button\n",
    "import requests\n",
    "btn = widgets.Button(description='Ergebnis absenden')\n",
    "\n",
    "display(btn);\n",
    "\n",
    "def submit_score(obj):\n",
    "    try:\n",
    "        if not endpoint or not uuid or not username:\n",
    "            raise RuntimeError(\"Parameters missing\");\n",
    "        elif not lm:\n",
    "            raise RuntimeError(\"LearningModule-Instance not as lm defined\")\n",
    "\n",
    "        score = lm.get_score();\n",
    "        taskEvaluationString = lm.get_task_evaluation_string();\n",
    "        response = requests.post(endpoint, data= {\"uuid\": uuid, \"grade\": score, \"username\": username, \"details\": taskEvaluationString })\n",
    "        if response.status_code != 200:\n",
    "            raise RuntimeError(\"Fehler beim Request: \" + str(response.status_code))\n",
    "    except RuntimeError as e:\n",
    "        print(e)\n",
    "    else:\n",
    "        print(\"Durchführung erfolgreich abgegeben!\")\n",
    "btn.on_click(submit_score)"
   ]
  }
 ],
 "metadata": {
  "kernelspec": {
   "display_name": "Python 3 (ipykernel)",
   "language": "python",
   "name": "python3"
  },
  "language_info": {
   "codemirror_mode": {
    "name": "ipython",
    "version": 3
   },
   "file_extension": ".py",
   "mimetype": "text/x-python",
   "name": "python",
   "nbconvert_exporter": "python",
   "pygments_lexer": "ipython3",
   "version": "3.8.2"
  },
  "toc": {
   "base_numbering": 1,
   "nav_menu": {},
   "number_sections": true,
   "sideBar": true,
   "skip_h1_title": false,
   "title_cell": "Table of Contents",
   "title_sidebar": "Contents",
   "toc_cell": false,
   "toc_position": {},
   "toc_section_display": true,
   "toc_window_display": false
  }
 },
 "nbformat": 4,
 "nbformat_minor": 5
}
