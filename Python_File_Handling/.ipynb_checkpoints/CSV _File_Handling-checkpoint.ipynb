{
 "cells": [
  {
   "cell_type": "code",
   "execution_count": 1,
   "id": "52d3b9c7",
   "metadata": {},
   "outputs": [
    {
     "ename": "NameError",
     "evalue": "name 'python3' is not defined",
     "output_type": "error",
     "traceback": [
      "\u001b[1;31m---------------------------------------------------------------------------\u001b[0m",
      "\u001b[1;31mNameError\u001b[0m                                 Traceback (most recent call last)",
      "\u001b[1;32mC:\\Users\\611903~1\\AppData\\Local\\Temp/ipykernel_9884/170156838.py\u001b[0m in \u001b[0;36m<module>\u001b[1;34m\u001b[0m\n\u001b[1;32m----> 1\u001b[1;33m \u001b[0mkernel_name\u001b[0m \u001b[1;33m=\u001b[0m \u001b[0mpython3\u001b[0m\u001b[1;33m;\u001b[0m\u001b[1;33m\u001b[0m\u001b[1;33m\u001b[0m\u001b[0m\n\u001b[0m",
      "\u001b[1;31mNameError\u001b[0m: name 'python3' is not defined"
     ]
    }
   ],
   "source": [
    "kernel_name = python3;"
   ]
  },
  {
   "cell_type": "markdown",
   "id": "854fbf78",
   "metadata": {},
   "source": [
    "Kopiere diesen Code in die erste Zelle deines Notebooks und führe sie anschließend aus, wenn du das Notebook lokal in einem Docker Container ausführen möchtest([Anleitung](https://projectbase.medien.hs-duesseldorf.de/eild.nrw-module/lernmodul-datenanalyse#Docker-Lokal)):\n",
    "```python\n",
    "kernel_name = python3\n",
    "```"
   ]
  },
  {
   "cell_type": "markdown",
   "id": "4feaafc5",
   "metadata": {},
   "source": [
    "#### Here we want to See How to Handle the CSV File \n",
    "#### Here we will see how to write to a CSV file or read from CSV File \n",
    "\n",
    "###### How to write to a CSV File :- \n",
    ">For the CSV file we need to perform the below actions \n",
    ". step1:-Import the CSV Module <br>\n",
    ". Step2:-create the csv writer object by using the writer() which point to csv file to which we want to write <br>\n",
    "here we can even check the type by using __class__ or ___class__.__name__<br>\n",
    ". step3:-Once we got the writer object we need to pass the list which represent one row with all the column data <br>\n",
    ". step4:-once the csv writer object is ready we can use writerow(list which represent the onr row)<br>\n",
    ". step5:-list representing one row should have all the column details <br>\n",
    ". step6:-here we to as the data dynamically\n",
    "\n",
    "\n",
    "###### How to read from a CSV File :-\n",
    "\n",
    "> for this also we need to import csv file and create a reader object<br>\n",
    ". step1:-we have to get the csv reader object which is pointing to the file object<br> \n",
    ". step2:-once we got this csv reader object which class also be found by __class__ or __class__.__name__<br>\n",
    ". step3:-now once we got that csv reader object we can convert it to a list by list(csv reader obj)<br>\n",
    ". step4:-this list represent all the row which is also a list element hence its a nested list <br>\n",
    ". step5:-we need to iterate in order to get proper details <br>\n",
    "\n",
    "\n",
    "#### Important conclusion:-\n",
    "\n",
    ". by default for each record in the css a blank line will be added \n",
    "\n",
    ". if we want to get rid of that we need to use newline=\"\" keyword args while creating the csv file\n",
    "\n",
    ". otherwise a gap will always be pushed by csv as default configuration\n",
    "\n",
    "\n"
   ]
  },
  {
   "cell_type": "code",
   "execution_count": 4,
   "id": "70bc5cc0",
   "metadata": {},
   "outputs": [
    {
     "name": "stdout",
     "output_type": "stream",
     "text": [
      "<class '_csv.writer'>\n",
      "Enter the Employee ID:100\n",
      "Enter the Employee Name:Pratik\n",
      "Enter the Employee Salary:10000.30\n",
      "Enter the Employee Address:Bangalore\n",
      "One record inserted\n",
      "Do you want to Insert one more record click [y/n] y\n",
      "Enter the Employee ID:200\n",
      "Enter the Employee Name:Abismruta\n",
      "Enter the Employee Salary:50000.50\n",
      "Enter the Employee Address:Bangalore\n",
      "One record inserted\n",
      "Do you want to Insert one more record click [y/n] n\n",
      "Thanks for using the Application\n"
     ]
    }
   ],
   "source": [
    "#writing to the csv file\n",
    "import csv #importing the csv module \n",
    "with open(\"emp.csv\",\"w\",newline=\"\") as f:#creeating the csv file from the scratch\n",
    "    #step:-1 creating the csv reader object \n",
    "    w=csv.writer(f)#creating the csv writer object pointing to file f\n",
    "    #checking the type of object created \n",
    "    print(w.__class__)#checking which type of object we created\n",
    "    w.writerow([\"EMP ID\",\"EMP NAME\",\"EMP SAL\",\"EMP ADDR\"])#writing one recrod to the csv file we created\n",
    "    #now one record been inserted which is the header \n",
    "    #here we want to add the data dynamically hence we can write that by \n",
    "    while True:#infinity loop untill break\n",
    "        Id=int(input(\"Enter the Employee ID:\"))\n",
    "        Name=input(\"Enter the Employee Name:\")\n",
    "        Sal=float(input(\"Enter the Employee Salary:\"))\n",
    "        Addr=input(\"Enter the Employee Address:\")\n",
    "        w.writerow([Id,Name,Sal,Addr])\n",
    "        print(\"One record inserted\")\n",
    "        option=input(\"Do you want to Insert one more record click [y/n] \")\n",
    "        if option.lower()==\"n\":\n",
    "            break\n",
    "        #as here we use the with file will be closed automatically after the operation completed\n",
    "print(\"Thanks for using the Application\")"
   ]
  },
  {
   "cell_type": "code",
   "execution_count": 14,
   "id": "cf920eea",
   "metadata": {},
   "outputs": [
    {
     "name": "stdout",
     "output_type": "stream",
     "text": [
      "<class '_csv.reader'>\n",
      "EMP ID-------------EMP NAME-------------EMP SAL-------------EMP ADDR-------------\n",
      "100-------------Pratik-------------10000.3-------------Bangalore-------------\n",
      "200-------------Abismruta-------------50000.5-------------Bangalore-------------\n"
     ]
    }
   ],
   "source": [
    "#this is read from the CSV Data files\n",
    "import csv #importing the CSV Module \n",
    "#here we need to create a csv reader object but before to that we need to open that file so that the reader object can point to the file we created\n",
    "#opening the emp.csv file in read mode \n",
    "with open(\"emp.csv\",\"r\") as f:#opening the file in read mode\n",
    "    #now we can creat the reader object pointing to the file object f\n",
    "    reader=csv.reader(f)#here creating the csv reader object pointing to the file \n",
    "    #once the reader is ready we can see the type of the reader object \n",
    "    print(type(reader))\n",
    "    #now we can convert the reader object as list by using the list function \n",
    "    li=list(reader)#converting to the list object so that we can iterate\n",
    "    #here this will provide the nested list where each row/record is an element and a list\n",
    "    #we need to iterate with that \n",
    "    for l in li:#for each row/record in the nested list\n",
    "        for l1 in l:#for each column in the row\n",
    "            print(l1,end=\"-------------\")#here every colum,n will be dispalyed with --- symbol\n",
    "        print()#for each record we are using a \\n by the print() statement \n",
    "        "
   ]
  },
  {
   "cell_type": "code",
   "execution_count": 1,
   "id": "3661a6bd",
   "metadata": {},
   "outputs": [
    {
     "data": {
      "application/vnd.jupyter.widget-view+json": {
       "model_id": "705878f0318540998d559d7d5ecd553e",
       "version_major": 2,
       "version_minor": 0
      },
      "text/plain": [
       "Button(description='Ergebnis absenden', style=ButtonStyle())"
      ]
     },
     "metadata": {},
     "output_type": "display_data"
    }
   ],
   "source": [
    "from ipywidgets import widgets, Button\n",
    "import requests\n",
    "btn = widgets.Button(description='Ergebnis absenden')\n",
    "\n",
    "display(btn);\n",
    "\n",
    "def submit_score(obj):\n",
    "    try:\n",
    "        if not endpoint or not uuid or not username:\n",
    "            raise RuntimeError(\"Parameters missing\");\n",
    "        elif not lm:\n",
    "            raise RuntimeError(\"LearningModule-Instance not as lm defined\")\n",
    "\n",
    "        score = lm.get_score();\n",
    "        taskEvaluationString = lm.get_task_evaluation_string();\n",
    "        response = requests.post(endpoint, data= {\"uuid\": uuid, \"grade\": score, \"username\": username, \"details\": taskEvaluationString })\n",
    "        if response.status_code != 200:\n",
    "            raise RuntimeError(\"Fehler beim Request: \" + str(response.status_code))\n",
    "    except RuntimeError as e:\n",
    "        print(e)\n",
    "    else:\n",
    "        print(\"Durchführung erfolgreich abgegeben!\")\n",
    "btn.on_click(submit_score)"
   ]
  }
 ],
 "metadata": {
  "kernelspec": {
   "display_name": "Python 3 (ipykernel)",
   "language": "python",
   "name": "python3"
  },
  "language_info": {
   "codemirror_mode": {
    "name": "ipython",
    "version": 3
   },
   "file_extension": ".py",
   "mimetype": "text/x-python",
   "name": "python",
   "nbconvert_exporter": "python",
   "pygments_lexer": "ipython3",
   "version": "3.8.2"
  },
  "toc": {
   "base_numbering": 1,
   "nav_menu": {},
   "number_sections": true,
   "sideBar": true,
   "skip_h1_title": false,
   "title_cell": "Table of Contents",
   "title_sidebar": "Contents",
   "toc_cell": false,
   "toc_position": {},
   "toc_section_display": true,
   "toc_window_display": false
  }
 },
 "nbformat": 4,
 "nbformat_minor": 5
}
