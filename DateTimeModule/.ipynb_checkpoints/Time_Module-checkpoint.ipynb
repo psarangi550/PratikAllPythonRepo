{
 "cells": [
  {
   "cell_type": "code",
   "execution_count": 1,
   "id": "ece16a62",
   "metadata": {},
   "outputs": [
    {
     "ename": "NameError",
     "evalue": "name 'python3' is not defined",
     "output_type": "error",
     "traceback": [
      "\u001b[1;31m---------------------------------------------------------------------------\u001b[0m",
      "\u001b[1;31mNameError\u001b[0m                                 Traceback (most recent call last)",
      "\u001b[1;32mC:\\Users\\611903~1\\AppData\\Local\\Temp/ipykernel_6740/170156838.py\u001b[0m in \u001b[0;36m<module>\u001b[1;34m\u001b[0m\n\u001b[1;32m----> 1\u001b[1;33m \u001b[0mkernel_name\u001b[0m \u001b[1;33m=\u001b[0m \u001b[0mpython3\u001b[0m\u001b[1;33m;\u001b[0m\u001b[1;33m\u001b[0m\u001b[1;33m\u001b[0m\u001b[0m\n\u001b[0m",
      "\u001b[1;31mNameError\u001b[0m: name 'python3' is not defined"
     ]
    }
   ],
   "source": [
    "kernel_name = python3;"
   ]
  },
  {
   "cell_type": "markdown",
   "id": "43f4633c",
   "metadata": {},
   "source": [
    "Kopiere diesen Code in die erste Zelle deines Notebooks und führe sie anschließend aus, wenn du das Notebook lokal in einem Docker Container ausführen möchtest([Anleitung](https://projectbase.medien.hs-duesseldorf.de/eild.nrw-module/lernmodul-datenanalyse#Docker-Lokal)):\n",
    "```python\n",
    "kernel_name = python3\n",
    "```"
   ]
  },
  {
   "cell_type": "code",
   "execution_count": 3,
   "id": "b5088d7e",
   "metadata": {},
   "outputs": [
    {
     "name": "stdout",
     "output_type": "stream",
     "text": [
      "1628546934.1872962\n"
     ]
    }
   ],
   "source": [
    "#here we  are using the time() of the time module b\n",
    "import time\n",
    "epoche=time.time()\n",
    "print(epoche)"
   ]
  },
  {
   "cell_type": "code",
   "execution_count": 6,
   "id": "74f244db",
   "metadata": {},
   "outputs": [
    {
     "name": "stdout",
     "output_type": "stream",
     "text": [
      "Tue Aug 10 03:43:34 2021\n",
      "Tue Aug 10 03:43:34 2021\n",
      "Tue Aug 10 03:44:34 2021\n"
     ]
    }
   ],
   "source": [
    "#here also we can use the ctime()\n",
    "#ctime(time.time())-->trurn the date and time of the epoche time in string format \n",
    "#ctime():-with out args provide the current date and time in string format\n",
    "import time \n",
    "epoche=time.time()\n",
    "print(time.ctime())\n",
    "time.sleep(60)\n",
    "print(time.ctime(epoche))\n",
    "print(time.ctime())"
   ]
  },
  {
   "cell_type": "code",
   "execution_count": 10,
   "id": "444f3151",
   "metadata": {},
   "outputs": [
    {
     "name": "stdout",
     "output_type": "stream",
     "text": [
      "<class 'time.struct_time'>\n",
      "2021\n",
      "57\n",
      "0\n",
      "19800\n",
      "India Standard Time\n",
      "10-8-2021\n"
     ]
    }
   ],
   "source": [
    "#localtime() convert the seconds into date and time \n",
    "#but this will return the struct_time object \n",
    "#which can access multiple property such as tm-year,tm-mon.tm-mday,tm-hours,tm-minutes,tm-seconds\n",
    "#tm-wday,tm-yday,tm-isdst(0-->no DST,1 DST included and -1 means Not Known) tm-zone(time-xone info),tm-gmtoff(offset value)\n",
    "import time\n",
    "epoche=time.time()\n",
    "# time.sleep(60)\n",
    "struct_time_obj=time.localtime(epoche)\n",
    "print(type(struct_time_obj))\n",
    "print(struct_time_obj.tm_year)\n",
    "print(struct_time_obj.tm_min)\n",
    "print(struct_time_obj.tm_isdst)\n",
    "print(struct_time_obj.tm_gmtoff)\n",
    "print(struct_time_obj.tm_zone)\n",
    "print(f\"{struct_time_obj.tm_mday}-{struct_time_obj.tm_mon}-{struct_time_obj.tm_year}\")"
   ]
  },
  {
   "cell_type": "code",
   "execution_count": 2,
   "id": "26b8742a",
   "metadata": {},
   "outputs": [
    {
     "data": {
      "application/vnd.jupyter.widget-view+json": {
       "model_id": "8852ad70e12c4636884023576636b9fd",
       "version_major": 2,
       "version_minor": 0
      },
      "text/plain": [
       "Button(description='Ergebnis absenden', style=ButtonStyle())"
      ]
     },
     "metadata": {},
     "output_type": "display_data"
    }
   ],
   "source": [
    "from ipywidgets import widgets, Button\n",
    "import requests\n",
    "btn = widgets.Button(description='Ergebnis absenden')\n",
    "\n",
    "display(btn);\n",
    "\n",
    "def submit_score(obj):\n",
    "    try:\n",
    "        if not endpoint or not uuid or not username:\n",
    "            raise RuntimeError(\"Parameters missing\");\n",
    "        elif not lm:\n",
    "            raise RuntimeError(\"LearningModule-Instance not as lm defined\")\n",
    "\n",
    "        score = lm.get_score();\n",
    "        taskEvaluationString = lm.get_task_evaluation_string();\n",
    "        response = requests.post(endpoint, data= {\"uuid\": uuid, \"grade\": score, \"username\": username, \"details\": taskEvaluationString })\n",
    "        if response.status_code != 200:\n",
    "            raise RuntimeError(\"Fehler beim Request: \" + str(response.status_code))\n",
    "    except RuntimeError as e:\n",
    "        print(e)\n",
    "    else:\n",
    "        print(\"Durchführung erfolgreich abgegeben!\")\n",
    "btn.on_click(submit_score)"
   ]
  }
 ],
 "metadata": {
  "kernelspec": {
   "display_name": "Python 3 (ipykernel)",
   "language": "python",
   "name": "python3"
  },
  "language_info": {
   "codemirror_mode": {
    "name": "ipython",
    "version": 3
   },
   "file_extension": ".py",
   "mimetype": "text/x-python",
   "name": "python",
   "nbconvert_exporter": "python",
   "pygments_lexer": "ipython3",
   "version": "3.8.2"
  },
  "toc": {
   "base_numbering": 1,
   "nav_menu": {},
   "number_sections": true,
   "sideBar": true,
   "skip_h1_title": false,
   "title_cell": "Table of Contents",
   "title_sidebar": "Contents",
   "toc_cell": false,
   "toc_position": {},
   "toc_section_display": true,
   "toc_window_display": false
  }
 },
 "nbformat": 4,
 "nbformat_minor": 5
}
