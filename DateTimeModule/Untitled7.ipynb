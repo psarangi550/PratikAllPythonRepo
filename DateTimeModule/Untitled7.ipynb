{
 "cells": [
  {
   "cell_type": "code",
   "execution_count": 1,
   "id": "14d18bff",
   "metadata": {},
   "outputs": [
    {
     "ename": "NameError",
     "evalue": "name 'python3' is not defined",
     "output_type": "error",
     "traceback": [
      "\u001b[1;31m---------------------------------------------------------------------------\u001b[0m",
      "\u001b[1;31mNameError\u001b[0m                                 Traceback (most recent call last)",
      "\u001b[1;32mC:\\Users\\611903~1\\AppData\\Local\\Temp/ipykernel_12496/170156838.py\u001b[0m in \u001b[0;36m<module>\u001b[1;34m\u001b[0m\n\u001b[1;32m----> 1\u001b[1;33m \u001b[0mkernel_name\u001b[0m \u001b[1;33m=\u001b[0m \u001b[0mpython3\u001b[0m\u001b[1;33m;\u001b[0m\u001b[1;33m\u001b[0m\u001b[1;33m\u001b[0m\u001b[0m\n\u001b[0m",
      "\u001b[1;31mNameError\u001b[0m: name 'python3' is not defined"
     ]
    }
   ],
   "source": [
    "kernel_name = python3;"
   ]
  },
  {
   "cell_type": "markdown",
   "id": "2dad29c1",
   "metadata": {},
   "source": [
    "Kopiere diesen Code in die erste Zelle deines Notebooks und führe sie anschließend aus, wenn du das Notebook lokal in einem Docker Container ausführen möchtest([Anleitung](https://projectbase.medien.hs-duesseldorf.de/eild.nrw-module/lernmodul-datenanalyse#Docker-Lokal)):\n",
    "```python\n",
    "kernel_name = python3\n",
    "```"
   ]
  },
  {
   "cell_type": "code",
   "execution_count": 8,
   "id": "e953a96a",
   "metadata": {},
   "outputs": [],
   "source": [
    "import smtplib\n",
    "from email.message import EmailMessage\n",
    "import imghdr\n",
    "Email=\"pratik.corey@gmail.com\"\n",
    "password=\"etctkhyatgoxmblt\"\n",
    "msg=EmailMessage()#creating the Object of EmailMessage Class\n",
    "msg[\"Subject\"]=\"This is a Test Message\"\n",
    "msg[\"From\"]=Email\n",
    "msg[\"To\"]=Email\n",
    "msg.set_content(\"This is the Body of Test Messag\")\n",
    "msg.add_alternative(\"\"\"\\\n",
    "<!DOCTYPE html>\n",
    "<html lang=\"en\">\n",
    "<body>\n",
    "<h1 style=\"color:Green;\">This is a HTML Message</h1>\n",
    "<p style=\"color:red;\">Lorem ipsum dolor sit amet, consectetur adipisicing elit. Ab ad culpa cupiditate delectus deserunt doloribus ex maiores non optio perspiciatis quam rem similique unde voluptate, voluptates! Placeat sapiente ut veritatis!</p>\n",
    "</body>\n",
    "</html>\"\"\",subtype=\"html\")\n",
    "\n",
    "files=[\"corey.png\",\"Harry.jpg\"]\n",
    "for file in files:\n",
    "    with open(file,\"rb\") as f:\n",
    "        file_data=f.read()\n",
    "        file_type=imghdr.what(f.name)\n",
    "    #     print(file_type)\n",
    "        file_name=f.name\n",
    "        msg.add_attachment(file_data,maintype=\"image\",subtype=file_type,filename=file_name)\n",
    "    \n",
    "with smtplib.SMTP_SSL(\"smtp.gmail.com\",465) as smtp:\n",
    "    smtp.login(Email,password)\n",
    "#     subject=\"This is a Test Message\"\n",
    "#     body=\"This is the Body of Test Message\"\n",
    "#     msg=f\"Subject: {subject}\\n\\n\\n {body}\"\n",
    "#     smtp.sendmail(Email,Email,msg)\n",
    "    smtp.send_message(msg)"
   ]
  },
  {
   "cell_type": "code",
   "execution_count": 6,
   "id": "aa96d989",
   "metadata": {},
   "outputs": [
    {
     "data": {
      "application/json": {
       "cell": {
        "!": "OSMagics",
        "HTML": "Other",
        "SVG": "Other",
        "bash": "Other",
        "capture": "ExecutionMagics",
        "cmd": "Other",
        "debug": "ExecutionMagics",
        "file": "Other",
        "html": "DisplayMagics",
        "javascript": "DisplayMagics",
        "js": "DisplayMagics",
        "latex": "DisplayMagics",
        "markdown": "DisplayMagics",
        "perl": "Other",
        "prun": "ExecutionMagics",
        "pypy": "Other",
        "python": "Other",
        "python2": "Other",
        "python3": "Other",
        "ruby": "Other",
        "script": "ScriptMagics",
        "sh": "Other",
        "svg": "DisplayMagics",
        "sx": "OSMagics",
        "system": "OSMagics",
        "time": "ExecutionMagics",
        "timeit": "ExecutionMagics",
        "writefile": "OSMagics"
       },
       "line": {
        "alias": "OSMagics",
        "alias_magic": "BasicMagics",
        "autoawait": "AsyncMagics",
        "autocall": "AutoMagics",
        "automagic": "AutoMagics",
        "autosave": "KernelMagics",
        "bookmark": "OSMagics",
        "cd": "OSMagics",
        "clear": "KernelMagics",
        "cls": "KernelMagics",
        "colors": "BasicMagics",
        "conda": "PackagingMagics",
        "config": "ConfigMagics",
        "connect_info": "KernelMagics",
        "copy": "Other",
        "ddir": "Other",
        "debug": "ExecutionMagics",
        "dhist": "OSMagics",
        "dirs": "OSMagics",
        "doctest_mode": "BasicMagics",
        "echo": "Other",
        "ed": "Other",
        "edit": "KernelMagics",
        "env": "OSMagics",
        "gui": "BasicMagics",
        "hist": "Other",
        "history": "HistoryMagics",
        "killbgscripts": "ScriptMagics",
        "ldir": "Other",
        "less": "KernelMagics",
        "load": "CodeMagics",
        "load_ext": "ExtensionMagics",
        "loadpy": "CodeMagics",
        "logoff": "LoggingMagics",
        "logon": "LoggingMagics",
        "logstart": "LoggingMagics",
        "logstate": "LoggingMagics",
        "logstop": "LoggingMagics",
        "ls": "Other",
        "lsmagic": "BasicMagics",
        "macro": "ExecutionMagics",
        "magic": "BasicMagics",
        "matplotlib": "PylabMagics",
        "mkdir": "Other",
        "more": "KernelMagics",
        "notebook": "BasicMagics",
        "page": "BasicMagics",
        "pastebin": "CodeMagics",
        "pdb": "ExecutionMagics",
        "pdef": "NamespaceMagics",
        "pdoc": "NamespaceMagics",
        "pfile": "NamespaceMagics",
        "pinfo": "NamespaceMagics",
        "pinfo2": "NamespaceMagics",
        "pip": "PackagingMagics",
        "popd": "OSMagics",
        "pprint": "BasicMagics",
        "precision": "BasicMagics",
        "prun": "ExecutionMagics",
        "psearch": "NamespaceMagics",
        "psource": "NamespaceMagics",
        "pushd": "OSMagics",
        "pwd": "OSMagics",
        "pycat": "OSMagics",
        "pylab": "PylabMagics",
        "qtconsole": "KernelMagics",
        "quickref": "BasicMagics",
        "recall": "HistoryMagics",
        "rehashx": "OSMagics",
        "reload_ext": "ExtensionMagics",
        "ren": "Other",
        "rep": "Other",
        "rerun": "HistoryMagics",
        "reset": "NamespaceMagics",
        "reset_selective": "NamespaceMagics",
        "rmdir": "Other",
        "run": "ExecutionMagics",
        "save": "CodeMagics",
        "sc": "OSMagics",
        "set_env": "OSMagics",
        "store": "StoreMagics",
        "sx": "OSMagics",
        "system": "OSMagics",
        "tb": "ExecutionMagics",
        "time": "ExecutionMagics",
        "timeit": "ExecutionMagics",
        "unalias": "OSMagics",
        "unload_ext": "ExtensionMagics",
        "who": "NamespaceMagics",
        "who_ls": "NamespaceMagics",
        "whos": "NamespaceMagics",
        "xdel": "NamespaceMagics",
        "xmode": "BasicMagics"
       }
      },
      "text/plain": [
       "Available line magics:\n",
       "%alias  %alias_magic  %autoawait  %autocall  %automagic  %autosave  %bookmark  %cd  %clear  %cls  %colors  %conda  %config  %connect_info  %copy  %ddir  %debug  %dhist  %dirs  %doctest_mode  %echo  %ed  %edit  %env  %gui  %hist  %history  %killbgscripts  %ldir  %less  %load  %load_ext  %loadpy  %logoff  %logon  %logstart  %logstate  %logstop  %ls  %lsmagic  %macro  %magic  %matplotlib  %mkdir  %more  %notebook  %page  %pastebin  %pdb  %pdef  %pdoc  %pfile  %pinfo  %pinfo2  %pip  %popd  %pprint  %precision  %prun  %psearch  %psource  %pushd  %pwd  %pycat  %pylab  %qtconsole  %quickref  %recall  %rehashx  %reload_ext  %ren  %rep  %rerun  %reset  %reset_selective  %rmdir  %run  %save  %sc  %set_env  %store  %sx  %system  %tb  %time  %timeit  %unalias  %unload_ext  %who  %who_ls  %whos  %xdel  %xmode\n",
       "\n",
       "Available cell magics:\n",
       "%%!  %%HTML  %%SVG  %%bash  %%capture  %%cmd  %%debug  %%file  %%html  %%javascript  %%js  %%latex  %%markdown  %%perl  %%prun  %%pypy  %%python  %%python2  %%python3  %%ruby  %%script  %%sh  %%svg  %%sx  %%system  %%time  %%timeit  %%writefile\n",
       "\n",
       "Automagic is ON, % prefix IS NOT needed for line magics."
      ]
     },
     "execution_count": 6,
     "metadata": {},
     "output_type": "execute_result"
    }
   ],
   "source": [
    "%lsmagic"
   ]
  },
  {
   "cell_type": "code",
   "execution_count": null,
   "id": "276d6446",
   "metadata": {},
   "outputs": [],
   "source": [
    "%%HTML \n",
    "<!doctype html>\n",
    "<html lang=\"en\">\n",
    "<body>\n",
    "<h1 style=\"color:Green;\"></h1>\n",
    "</body>\n",
    "</html>"
   ]
  },
  {
   "cell_type": "code",
   "execution_count": 13,
   "id": "0d8bbdbe",
   "metadata": {},
   "outputs": [],
   "source": [
    "import smtplib\n",
    "from email.message import EmailMessage\n",
    "import imghdr\n",
    "Email=\"pratik.corey@gmail.com\"\n",
    "password=\"etctkhyatgoxmblt\"\n",
    "msg=EmailMessage()\n",
    "msg[\"Subject\"]=\"Attaching Sample PDF Test\"\n",
    "msg[\"From\"]=Email\n",
    "msg[\"To\"]=Email\n",
    "msg.set_content(\"This is a Sample Message....\")\n",
    "msg.add_alternative(\"\"\"\\\n",
    "<!DOCTYPE html>\n",
    "<html lang=\"en\">\n",
    "<body>\n",
    "<h1 style=\"color:Green;\">This is a HTML Message</h1>\n",
    "<p style=\"color:red;\">Lorem ipsum dolor sit amet, consectetur adipisicing elit. Ab ad culpa cupiditate delectus deserunt doloribus ex maiores non optio perspiciatis quam rem similique unde voluptate, voluptates! Placeat sapiente ut veritatis!</p>\n",
    "</body>\n",
    "</html>\"\"\",subtype=\"HTML\")\n",
    "with open(\"priya.pdf\",\"rb\") as f:\n",
    "    file_data=f.read()\n",
    "    file_name=f.name\n",
    "    msg.add_attachment(file_data,maintype=\"application\",subtype=\"octate-stream\",filename=file_name)\n",
    "with smtplib.SMTP_SSL(\"smtp.gmail.com\",465) as smtp:\n",
    "    smtp.login(Email,password)\n",
    "    smtp.send_message(msg)"
   ]
  },
  {
   "cell_type": "code",
   "execution_count": 18,
   "id": "757b25d8",
   "metadata": {},
   "outputs": [],
   "source": [
    "from email.message import EmailMessage\n",
    "import imghdr\n",
    "Email=\"pratik.corey@gmail.com\"\n",
    "password=\"etctkhyatgoxmblt\"\n",
    "msg=EmailMessage()\n",
    "msg[\"Subject\"]=\"Attaching Sample PDF Test\"\n",
    "msg[\"From\"]=Email\n",
    "msg[\"To\"]=Email\n",
    "msg.set_content(\"This is a Sample Message....\")\n",
    "msg.add_alternative(\"\"\"\\\n",
    "<!DOCTYPE html>\n",
    "<html lang=\"en\">\n",
    "<body>\n",
    "<h1 style=\"color:Green;\">This is a HTML Message</h1>\n",
    "<p style=\"color:red;\">Lorem ipsum dolor sit amet, consectetur adipisicing elit. Ab ad culpa cupiditate delectus deserunt doloribus ex maiores non optio perspiciatis quam rem similique unde voluptate, voluptates! Placeat sapiente ut veritatis!</p>\n",
    "</body>\n",
    "</html>\"\"\",subtype=\"HTML\")\n",
    "with open(\"priya.pdf\",\"rb\") as f:\n",
    "    file_data=f.read()\n",
    "    file_name=f.name\n",
    "    msg.add_attachment(file_data,maintype=\"application\",subtype=\"octate-stream\",filename=file_name)\n",
    "with smtplib.SMTP(\"localhost\",1025) as smtp:\n",
    "#     smtp.login(Email,password)\n",
    "    smtp.send_message(msg)"
   ]
  },
  {
   "cell_type": "code",
   "execution_count": 20,
   "id": "a9d61879",
   "metadata": {},
   "outputs": [
    {
     "name": "stdout",
     "output_type": "stream",
     "text": [
      "Harry.jpg\n",
      "Time_Module.ipynb\n",
      "Untitled.ipynb\n",
      "Untitled1.ipynb\n",
      "Untitled2.ipynb\n",
      "Untitled3.ipynb\n",
      "Untitled4.ipynb\n",
      "Untitled5.ipynb\n",
      "Untitled6.ipynb\n",
      "Untitled7.ipynb\n",
      "core_sacher_datetime.ipynb\n",
      "corey.png\n",
      "header.html\n",
      "priya.pdf\n"
     ]
    }
   ],
   "source": [
    "!ls"
   ]
  },
  {
   "cell_type": "code",
   "execution_count": 1,
   "id": "f3757037",
   "metadata": {},
   "outputs": [
    {
     "data": {
      "application/vnd.jupyter.widget-view+json": {
       "model_id": "6aedd85d9c3d4c24943fb18203b755c9",
       "version_major": 2,
       "version_minor": 0
      },
      "text/plain": [
       "Button(description='Ergebnis absenden', style=ButtonStyle())"
      ]
     },
     "metadata": {},
     "output_type": "display_data"
    }
   ],
   "source": [
    "from ipywidgets import widgets, Button\n",
    "import requests\n",
    "btn = widgets.Button(description='Ergebnis absenden')\n",
    "\n",
    "display(btn);\n",
    "\n",
    "def submit_score(obj):\n",
    "    try:\n",
    "        if not endpoint or not uuid or not username:\n",
    "            raise RuntimeError(\"Parameters missing\");\n",
    "        elif not lm:\n",
    "            raise RuntimeError(\"LearningModule-Instance not as lm defined\")\n",
    "\n",
    "        score = lm.get_score();\n",
    "        taskEvaluationString = lm.get_task_evaluation_string();\n",
    "        response = requests.post(endpoint, data= {\"uuid\": uuid, \"grade\": score, \"username\": username, \"details\": taskEvaluationString })\n",
    "        if response.status_code != 200:\n",
    "            raise RuntimeError(\"Fehler beim Request: \" + str(response.status_code))\n",
    "    except RuntimeError as e:\n",
    "        print(e)\n",
    "    else:\n",
    "        print(\"Durchführung erfolgreich abgegeben!\")\n",
    "btn.on_click(submit_score)"
   ]
  }
 ],
 "metadata": {
  "kernelspec": {
   "display_name": "Python 3 (ipykernel)",
   "language": "python",
   "name": "python3"
  },
  "language_info": {
   "codemirror_mode": {
    "name": "ipython",
    "version": 3
   },
   "file_extension": ".py",
   "mimetype": "text/x-python",
   "name": "python",
   "nbconvert_exporter": "python",
   "pygments_lexer": "ipython3",
   "version": "3.8.2"
  },
  "toc": {
   "base_numbering": 1,
   "nav_menu": {},
   "number_sections": true,
   "sideBar": true,
   "skip_h1_title": false,
   "title_cell": "Table of Contents",
   "title_sidebar": "Contents",
   "toc_cell": false,
   "toc_position": {},
   "toc_section_display": true,
   "toc_window_display": false
  }
 },
 "nbformat": 4,
 "nbformat_minor": 5
}
