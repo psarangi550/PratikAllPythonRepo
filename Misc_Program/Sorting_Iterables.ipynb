{
 "cells": [
  {
   "cell_type": "code",
   "execution_count": 1,
   "id": "0543da69",
   "metadata": {},
   "outputs": [
    {
     "ename": "NameError",
     "evalue": "name 'python3' is not defined",
     "output_type": "error",
     "traceback": [
      "\u001b[1;31m---------------------------------------------------------------------------\u001b[0m",
      "\u001b[1;31mNameError\u001b[0m                                 Traceback (most recent call last)",
      "\u001b[1;32mC:\\Users\\611903~1\\AppData\\Local\\Temp/ipykernel_4668/170156838.py\u001b[0m in \u001b[0;36m<module>\u001b[1;34m\u001b[0m\n\u001b[1;32m----> 1\u001b[1;33m \u001b[0mkernel_name\u001b[0m \u001b[1;33m=\u001b[0m \u001b[0mpython3\u001b[0m\u001b[1;33m;\u001b[0m\u001b[1;33m\u001b[0m\u001b[1;33m\u001b[0m\u001b[0m\n\u001b[0m",
      "\u001b[1;31mNameError\u001b[0m: name 'python3' is not defined"
     ]
    }
   ],
   "source": [
    "kernel_name = python3;"
   ]
  },
  {
   "cell_type": "markdown",
   "id": "54a8f125",
   "metadata": {},
   "source": [
    "Kopiere diesen Code in die erste Zelle deines Notebooks und führe sie anschließend aus, wenn du das Notebook lokal in einem Docker Container ausführen möchtest([Anleitung](https://projectbase.medien.hs-duesseldorf.de/eild.nrw-module/lernmodul-datenanalyse#Docker-Lokal)):\n",
    "```python\n",
    "kernel_name = python3\n",
    "```"
   ]
  },
  {
   "cell_type": "code",
   "execution_count": 3,
   "id": "3787e3cf",
   "metadata": {},
   "outputs": [
    {
     "name": "stdout",
     "output_type": "stream",
     "text": [
      "[1, 2, 3, -5, -6, -7]\n"
     ]
    }
   ],
   "source": [
    "#here we want to sort acording to a function and using key argument \n",
    "list1=[-6,-5,-7,1,2,3]\n",
    "list1.sort(key=abs)\n",
    "print(list1)"
   ]
  },
  {
   "cell_type": "code",
   "execution_count": 11,
   "id": "ec477ef7",
   "metadata": {},
   "outputs": [
    {
     "name": "stdout",
     "output_type": "stream",
     "text": [
      "[401-Priya-200000.0-UK, 301-Rohith-100000.0-Hyderabad, 201-Rika-50000.0-Bangalore, 101-Pratik-10000.0-Bangalore]\n"
     ]
    }
   ],
   "source": [
    "#here we wanrt to sort the custom class objects \n",
    "#here we want to sort according to function using the jey argument \n",
    "class Employee(object):\n",
    "    def __init__(self,eid,ename,esal,eaddr):\n",
    "        self.eid=eid\n",
    "        self.ename=ename\n",
    "        self.esal=esal\n",
    "        self.eaddr=eaddr\n",
    "    def __repr__(self):\n",
    "        return (\"{}-{}-{}-{}\".format(self.eid,self.ename,self.esal,self.eaddr))\n",
    "e1=Employee(101,\"Pratik\",10000.0,\"Bangalore\")\n",
    "e2=Employee(201,\"Rika\",50000.0,\"Bangalore\")\n",
    "e3=Employee(301,\"Rohith\",100000.0,\"Hyderabad\")\n",
    "e4=Employee(401,\"Priya\",200000.0,\"UK\")\n",
    "list1=[e1,e2,e3,e4]\n",
    "# def Emp_Sort(emp):\n",
    "#     return emp.esal\n",
    "#     return emp.eid\n",
    "list1.sort(key=lambda n:n.eid,reverse=True)\n",
    "print(list1)"
   ]
  },
  {
   "cell_type": "code",
   "execution_count": 35,
   "id": "6fc08fb4",
   "metadata": {},
   "outputs": [
    {
     "name": "stdout",
     "output_type": "stream",
     "text": [
      "[[101-Pratik-10000.0-Bangalore], [201-Rika-50000.0-Bangalore], [301-Rohith-100000.0-Hyderabad], [401-Priya-200000.0-UK]]\n"
     ]
    }
   ],
   "source": [
    "#here we want to sort according to the attrgetter \n",
    "from operator import attrgetter\n",
    "class Employee4:\n",
    "    def __init__(self,eno,ename,esal,eaddr):\n",
    "        self.eno=eno\n",
    "        self.ename=ename\n",
    "        self.esal=esal\n",
    "        self.eaddr=eaddr\n",
    "    def __str__(self):\n",
    "        return \"{{}-{}-{}-{}}\".format(self.eno,self.ename,self.esal,self.eaddr)\n",
    "    def __repr__(self):\n",
    "        return \"[{}-{}-{}-{}]\".format(self.eno,self.ename,self.esal,self.eaddr)\n",
    "e1=Employee4(101,\"Pratik\",10000.0,\"Bangalore\")\n",
    "e2=Employee4(201,\"Rika\",50000.0,\"Bangalore\")\n",
    "e3=Employee4(301,\"Rohith\",100000.0,\"Hyderabad\")\n",
    "e4=Employee4(401,\"Priya\",200000.0,\"UK\")\n",
    "# print(e1)\n",
    "# print([e1,e2,e3,e4])\n",
    "list2=[e1,e2,e3,e4]\n",
    "list2.sort(key=attrgetter('eno'))\n",
    "print(list2)\n"
   ]
  },
  {
   "cell_type": "code",
   "execution_count": 27,
   "id": "2a5f72a0",
   "metadata": {},
   "outputs": [
    {
     "name": "stdout",
     "output_type": "stream",
     "text": [
      "101-Pratik-10000.0-Bangalore\n",
      "[[101-Pratik-10000.0-Bangalore], [201-Rika-50000.0-Bangalore], [301-Rohith-100000.0-Hyderabad], [401-Priya-200000.0-UK]]\n",
      "{[201-Rika-50000.0-Bangalore], [301-Rohith-100000.0-Hyderabad], [401-Priya-200000.0-UK], [101-Pratik-10000.0-Bangalore]}\n"
     ]
    }
   ],
   "source": [
    "#checking the difference between __str__ and __repr__ which covered in a separate topic later\n",
    "from operator import attrgetter\n",
    "class Employee3:\n",
    "    def __init__(self,eno,ename,esal,eaddr):\n",
    "        self.eno=eno\n",
    "        self.ename=ename\n",
    "        self.esal=esal\n",
    "        self.eaddr=eaddr\n",
    "    def __str__(self):\n",
    "        return \"{}-{}-{}-{}\".format(self.eno,self.ename,self.esal,self.eaddr)\n",
    "    def __repr__(self):\n",
    "        return \"[{}-{}-{}-{}]\".format(self.eno,self.ename,self.esal,self.eaddr)\n",
    "e1=Employee3(101,\"Pratik\",10000.0,\"Bangalore\")\n",
    "e2=Employee3(201,\"Rika\",50000.0,\"Bangalore\")\n",
    "e3=Employee3(301,\"Rohith\",100000.0,\"Hyderabad\")\n",
    "e4=Employee3(401,\"Priya\",200000.0,\"UK\")\n",
    "print(e1)\n",
    "print([e1,e2,e3,e4])\n",
    "print({e1,e2,e3,e4})"
   ]
  },
  {
   "cell_type": "code",
   "execution_count": 2,
   "id": "ad4009f8",
   "metadata": {},
   "outputs": [
    {
     "data": {
      "application/vnd.jupyter.widget-view+json": {
       "model_id": "0ee8f29eb8814b30b6ef313a46c48bd8",
       "version_major": 2,
       "version_minor": 0
      },
      "text/plain": [
       "Button(description='Ergebnis absenden', style=ButtonStyle())"
      ]
     },
     "metadata": {},
     "output_type": "display_data"
    }
   ],
   "source": [
    "from ipywidgets import widgets, Button\n",
    "import requests\n",
    "btn = widgets.Button(description='Ergebnis absenden')\n",
    "\n",
    "display(btn);\n",
    "\n",
    "def submit_score(obj):\n",
    "    try:\n",
    "        if not endpoint or not uuid or not username:\n",
    "            raise RuntimeError(\"Parameters missing\");\n",
    "        elif not lm:\n",
    "            raise RuntimeError(\"LearningModule-Instance not as lm defined\")\n",
    "\n",
    "        score = lm.get_score();\n",
    "        taskEvaluationString = lm.get_task_evaluation_string();\n",
    "        response = requests.post(endpoint, data= {\"uuid\": uuid, \"grade\": score, \"username\": username, \"details\": taskEvaluationString })\n",
    "        if response.status_code != 200:\n",
    "            raise RuntimeError(\"Fehler beim Request: \" + str(response.status_code))\n",
    "    except RuntimeError as e:\n",
    "        print(e)\n",
    "    else:\n",
    "        print(\"Durchführung erfolgreich abgegeben!\")\n",
    "btn.on_click(submit_score)"
   ]
  }
 ],
 "metadata": {
  "kernelspec": {
   "display_name": "Python 3 (ipykernel)",
   "language": "python",
   "name": "python3"
  },
  "language_info": {
   "codemirror_mode": {
    "name": "ipython",
    "version": 3
   },
   "file_extension": ".py",
   "mimetype": "text/x-python",
   "name": "python",
   "nbconvert_exporter": "python",
   "pygments_lexer": "ipython3",
   "version": "3.8.2"
  },
  "toc": {
   "base_numbering": 1,
   "nav_menu": {},
   "number_sections": true,
   "sideBar": true,
   "skip_h1_title": false,
   "title_cell": "Table of Contents",
   "title_sidebar": "Contents",
   "toc_cell": false,
   "toc_position": {},
   "toc_section_display": true,
   "toc_window_display": false
  }
 },
 "nbformat": 4,
 "nbformat_minor": 5
}
