{
 "cells": [
  {
   "cell_type": "code",
   "execution_count": 1,
   "id": "dd1b4094",
   "metadata": {},
   "outputs": [
    {
     "ename": "NameError",
     "evalue": "name 'python3' is not defined",
     "output_type": "error",
     "traceback": [
      "\u001b[1;31m---------------------------------------------------------------------------\u001b[0m",
      "\u001b[1;31mNameError\u001b[0m                                 Traceback (most recent call last)",
      "\u001b[1;32mC:\\Users\\611903~1\\AppData\\Local\\Temp/ipykernel_11976/170156838.py\u001b[0m in \u001b[0;36m<module>\u001b[1;34m\u001b[0m\n\u001b[1;32m----> 1\u001b[1;33m \u001b[0mkernel_name\u001b[0m \u001b[1;33m=\u001b[0m \u001b[0mpython3\u001b[0m\u001b[1;33m;\u001b[0m\u001b[1;33m\u001b[0m\u001b[1;33m\u001b[0m\u001b[0m\n\u001b[0m",
      "\u001b[1;31mNameError\u001b[0m: name 'python3' is not defined"
     ]
    }
   ],
   "source": [
    "kernel_name = python3;"
   ]
  },
  {
   "cell_type": "markdown",
   "id": "4cefacaf",
   "metadata": {},
   "source": [
    "Kopiere diesen Code in die erste Zelle deines Notebooks und führe sie anschließend aus, wenn du das Notebook lokal in einem Docker Container ausführen möchtest([Anleitung](https://projectbase.medien.hs-duesseldorf.de/eild.nrw-module/lernmodul-datenanalyse#Docker-Lokal)):\n",
    "```python\n",
    "kernel_name = python3\n",
    "```"
   ]
  },
  {
   "cell_type": "code",
   "execution_count": null,
   "id": "9e5f1bdb",
   "metadata": {},
   "outputs": [],
   "source": []
  },
  {
   "cell_type": "code",
   "execution_count": 2,
   "id": "c3005bc7",
   "metadata": {},
   "outputs": [
    {
     "data": {
      "application/vnd.jupyter.widget-view+json": {
       "model_id": "bc22036d15b548daad62897ebeb37e16",
       "version_major": 2,
       "version_minor": 0
      },
      "text/plain": [
       "Button(description='Ergebnis absenden', style=ButtonStyle())"
      ]
     },
     "metadata": {},
     "output_type": "display_data"
    }
   ],
   "source": [
    "from ipywidgets import widgets, Button\n",
    "import requests\n",
    "btn = widgets.Button(description='Ergebnis absenden')\n",
    "\n",
    "display(btn);\n",
    "\n",
    "def submit_score(obj):\n",
    "    try:\n",
    "        if not endpoint or not uuid or not username:\n",
    "            raise RuntimeError(\"Parameters missing\");\n",
    "        elif not lm:\n",
    "            raise RuntimeError(\"LearningModule-Instance not as lm defined\")\n",
    "\n",
    "        score = lm.get_score();\n",
    "        taskEvaluationString = lm.get_task_evaluation_string();\n",
    "        response = requests.post(endpoint, data= {\"uuid\": uuid, \"grade\": score, \"username\": username, \"details\": taskEvaluationString })\n",
    "        if response.status_code != 200:\n",
    "            raise RuntimeError(\"Fehler beim Request: \" + str(response.status_code))\n",
    "    except RuntimeError as e:\n",
    "        print(e)\n",
    "    else:\n",
    "        print(\"Durchführung erfolgreich abgegeben!\")\n",
    "btn.on_click(submit_score)"
   ]
  }
 ],
 "metadata": {
  "kernelspec": {
   "display_name": "Python 3 (ipykernel)",
   "language": "python",
   "name": "python3"
  },
  "language_info": {
   "codemirror_mode": {
    "name": "ipython",
    "version": 3
   },
   "file_extension": ".py",
   "mimetype": "text/x-python",
   "name": "python",
   "nbconvert_exporter": "python",
   "pygments_lexer": "ipython3",
   "version": "3.8.2"
  },
  "toc": {
   "base_numbering": 1,
   "nav_menu": {},
   "number_sections": true,
   "sideBar": true,
   "skip_h1_title": false,
   "title_cell": "Table of Contents",
   "title_sidebar": "Contents",
   "toc_cell": false,
   "toc_position": {},
   "toc_section_display": true,
   "toc_window_display": false
  }
 },
 "nbformat": 4,
 "nbformat_minor": 5
}
