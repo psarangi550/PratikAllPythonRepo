{
 "cells": [
  {
   "cell_type": "code",
   "execution_count": 4,
   "id": "fa6298a7",
   "metadata": {},
   "outputs": [
    {
     "ename": "NameError",
     "evalue": "name 'python3' is not defined",
     "output_type": "error",
     "traceback": [
      "\u001b[1;31m---------------------------------------------------------------------------\u001b[0m",
      "\u001b[1;31mNameError\u001b[0m                                 Traceback (most recent call last)",
      "\u001b[1;32mC:\\Users\\611903~1\\AppData\\Local\\Temp/ipykernel_8632/170156838.py\u001b[0m in \u001b[0;36m<module>\u001b[1;34m\u001b[0m\n\u001b[1;32m----> 1\u001b[1;33m \u001b[0mkernel_name\u001b[0m \u001b[1;33m=\u001b[0m \u001b[0mpython3\u001b[0m\u001b[1;33m;\u001b[0m\u001b[1;33m\u001b[0m\u001b[1;33m\u001b[0m\u001b[0m\n\u001b[0m",
      "\u001b[1;31mNameError\u001b[0m: name 'python3' is not defined"
     ]
    }
   ],
   "source": [
    "kernel_name = python3;"
   ]
  },
  {
   "cell_type": "markdown",
   "id": "3d20dbd7",
   "metadata": {},
   "source": [
    "Kopiere diesen Code in die erste Zelle deines Notebooks und führe sie anschließend aus, wenn du das Notebook lokal in einem Docker Container ausführen möchtest([Anleitung](https://projectbase.medien.hs-duesseldorf.de/eild.nrw-module/lernmodul-datenanalyse#Docker-Lokal)):\n",
    "```python\n",
    "kernel_name = python3\n",
    "```"
   ]
  },
  {
   "cell_type": "code",
   "execution_count": 3,
   "id": "bfdd3390",
   "metadata": {},
   "outputs": [
    {
     "name": "stdout",
     "output_type": "stream",
     "text": [
      "Requirement already satisfied: bs4 in c:\\users\\611903295\\downloads\\python\\myvirtualenv\\lib\\site-packages (0.0.1)\n",
      "Requirement already satisfied: beautifulsoup4 in c:\\users\\611903295\\downloads\\python\\myvirtualenv\\lib\\site-packages (from bs4) (4.9.3)\n",
      "Requirement already satisfied: soupsieve>1.2 in c:\\users\\611903295\\downloads\\python\\myvirtualenv\\lib\\site-packages (from beautifulsoup4->bs4) (2.2.1)\n"
     ]
    },
    {
     "name": "stderr",
     "output_type": "stream",
     "text": [
      "WARNING: You are using pip version 21.1.3; however, version 21.2.1 is available.\n",
      "You should consider upgrading via the 'c:\\users\\611903295\\downloads\\python\\myvirtualenv\\scripts\\python.exe -m pip install --upgrade pip' command.\n"
     ]
    }
   ],
   "source": [
    "!pip install bs4"
   ]
  },
  {
   "cell_type": "code",
   "execution_count": 6,
   "id": "52078eb7",
   "metadata": {
    "scrolled": true
   },
   "outputs": [
    {
     "name": "stdout",
     "output_type": "stream",
     "text": [
      "Collecting html5lib\n",
      "  Downloading html5lib-1.1-py2.py3-none-any.whl (112 kB)\n",
      "Requirement already satisfied: six>=1.9 in c:\\users\\611903295\\downloads\\python\\myvirtualenv\\lib\\site-packages (from html5lib) (1.16.0)\n",
      "Requirement already satisfied: webencodings in c:\\users\\611903295\\downloads\\python\\myvirtualenv\\lib\\site-packages (from html5lib) (0.5.1)\n",
      "Installing collected packages: html5lib\n",
      "Successfully installed html5lib-1.1\n"
     ]
    },
    {
     "name": "stderr",
     "output_type": "stream",
     "text": [
      "WARNING: You are using pip version 21.1.3; however, version 21.2.1 is available.\n",
      "You should consider upgrading via the 'c:\\users\\611903295\\downloads\\python\\myvirtualenv\\scripts\\python.exe -m pip install --upgrade pip' command.\n"
     ]
    }
   ],
   "source": [
    "!pip install html5lib"
   ]
  },
  {
   "cell_type": "code",
   "execution_count": 8,
   "id": "3e81e909",
   "metadata": {
    "scrolled": false
   },
   "outputs": [
    {
     "name": "stdout",
     "output_type": "stream",
     "text": [
      "Requirement already satisfied: requests in c:\\users\\611903295\\downloads\\python\\myvirtualenv\\lib\\site-packages (2.25.1)\n",
      "Requirement already satisfied: chardet<5,>=3.0.2 in c:\\users\\611903295\\downloads\\python\\myvirtualenv\\lib\\site-packages (from requests) (4.0.0)\n"
     ]
    },
    {
     "name": "stderr",
     "output_type": "stream",
     "text": [
      "WARNING: You are using pip version 21.1.3; however, version 21.2.1 is available.\n",
      "You should consider upgrading via the 'c:\\users\\611903295\\downloads\\python\\myvirtualenv\\scripts\\python.exe -m pip install --upgrade pip' command.\n"
     ]
    },
    {
     "name": "stdout",
     "output_type": "stream",
     "text": [
      "Requirement already satisfied: certifi>=2017.4.17 in c:\\users\\611903295\\downloads\\python\\myvirtualenv\\lib\\site-packages (from requests) (2020.12.5)\n",
      "Requirement already satisfied: urllib3<1.27,>=1.21.1 in c:\\users\\611903295\\downloads\\python\\myvirtualenv\\lib\\site-packages (from requests) (1.26.4)\n",
      "Requirement already satisfied: idna<3,>=2.5 in c:\\users\\611903295\\downloads\\python\\myvirtualenv\\lib\\site-packages (from requests) (2.10)\n"
     ]
    }
   ],
   "source": [
    "!pip install requests"
   ]
  },
  {
   "cell_type": "code",
   "execution_count": null,
   "id": "bffbf563",
   "metadata": {
    "scrolled": false
   },
   "outputs": [],
   "source": [
    "import requests #importing the Requests Module\n",
    "from bs4 import BeautifulSoup #importing Beautiful Soup class from the bs4 module\n",
    "url=\"https://codewithharry.com/\"#here making the url in string format \n",
    "resp=requests.get(url)# fetching the response in the htttpRepsonse object\n",
    "print(type(resp))#checking the type of request we are getting \n",
    "#converting the response to html content by using the content varaiable\n",
    "html_content=resp.content#converting the htttp response to html_content \n",
    "# print(type(html_content))\n",
    "#now  we need to parse this html into a tree like structure which is a Beautiful Soup Objects \n",
    "soup=BeautifulSoup(html_content,\"html.parser\")    \n",
    "# print(soup)#printing the soup\n",
    "# we can even prety it by using the prettify() method in the soup object \n",
    "# print(soup.prettify() )\n",
    "print(type(soup.prettify()))"
   ]
  },
  {
   "cell_type": "code",
   "execution_count": 150,
   "id": "20d53050",
   "metadata": {},
   "outputs": [
    {
     "name": "stdout",
     "output_type": "stream",
     "text": [
      "<class 'bs4.element.Tag'>\n",
      "['__bool__', '__call__', '__class__', '__contains__', '__copy__', '__delattr__', '__delitem__', '__dict__', '__dir__', '__doc__', '__eq__', '__format__', '__ge__', '__getattr__', '__getattribute__', '__getitem__', '__gt__', '__hash__', '__init__', '__init_subclass__', '__iter__', '__le__', '__len__', '__lt__', '__module__', '__ne__', '__new__', '__reduce__', '__reduce_ex__', '__repr__', '__setattr__', '__setitem__', '__sizeof__', '__str__', '__subclasshook__', '__unicode__', '__weakref__', '_all_strings', '_find_all', '_find_one', '_is_xml', '_lastRecursiveChild', '_last_descendant', '_should_pretty_print', 'append', 'attrs', 'can_be_empty_element', 'cdata_list_attributes', 'childGenerator', 'children', 'clear', 'contents', 'decode', 'decode_contents', 'decompose', 'decomposed', 'descendants', 'encode', 'encode_contents', 'extend', 'extract', 'fetchNextSiblings', 'fetchParents', 'fetchPrevious', 'fetchPreviousSiblings', 'find', 'findAll', 'findAllNext', 'findAllPrevious', 'findChild', 'findChildren', 'findNext', 'findNextSibling', 'findNextSiblings', 'findParent', 'findParents', 'findPrevious', 'findPreviousSibling', 'findPreviousSiblings', 'find_all', 'find_all_next', 'find_all_previous', 'find_next', 'find_next_sibling', 'find_next_siblings', 'find_parent', 'find_parents', 'find_previous', 'find_previous_sibling', 'find_previous_siblings', 'format_string', 'formatter_for_name', 'get', 'getText', 'get_attribute_list', 'get_text', 'has_attr', 'has_key', 'hidden', 'index', 'insert', 'insert_after', 'insert_before', 'isSelfClosing', 'is_empty_element', 'known_xml', 'name', 'namespace', 'next', 'nextGenerator', 'nextSibling', 'nextSiblingGenerator', 'next_element', 'next_elements', 'next_sibling', 'next_siblings', 'parent', 'parentGenerator', 'parents', 'parserClass', 'parser_class', 'prefix', 'preserve_whitespace_tags', 'prettify', 'previous', 'previousGenerator', 'previousSibling', 'previousSiblingGenerator', 'previous_element', 'previous_elements', 'previous_sibling', 'previous_siblings', 'recursiveChildGenerator', 'renderContents', 'replaceWith', 'replaceWithChildren', 'replace_with', 'replace_with_children', 'select', 'select_one', 'setup', 'smooth', 'sourceline', 'sourcepos', 'string', 'strings', 'stripped_strings', 'text', 'unwrap', 'wrap']\n",
      "<class 'bs4.element.Tag'>\n",
      "/\n",
      "<class 'str'>\n",
      "/\n",
      "<class 'str'>\n"
     ]
    }
   ],
   "source": [
    "#html traversing for the single attribute\n",
    "tag_ouptupt=soup.p\n",
    "print(type(tag_ouptupt))\n",
    "print(dir(tag_ouptupt))\n",
    "find_output=soup.find(\"a\")\n",
    "print(type(find_output))\n",
    "print(soup.a.get(\"href\"))\n",
    "print(type(soup.a.get(\"href\")))\n",
    "print(soup.find(\"a\")[\"href\"])\n",
    "find_result=soup.find(\"a\")[\"href\"]\n",
    "print(type(find_result))"
   ]
  },
  {
   "cell_type": "code",
   "execution_count": 41,
   "id": "36d38661",
   "metadata": {},
   "outputs": [
    {
     "name": "stdout",
     "output_type": "stream",
     "text": [
      "Confused on which course to take? I have got you covered. Browse courses and find out the best course for you. Its free!Code With Harry is my attempt to teach basics and those coding techniques to people in short time which took me ages to learn.\n",
      "Confused on which course to take? I have got you covered. Browse courses and find out the best course for you. Its free!Code With Harry is my attempt to teach basics and those coding techniques to people in short time which took me ages to learn.\n",
      "\n",
      "Browse BlogBrowse Video TutorialsContact Me\n",
      "\n",
      "Get your programming career started with these free video courses. Source code is available with all the videos for amazing learning experience\n",
      "\n",
      "Some of the latest coding information compiled in the form of coding articles. Keep your programming knowledge up to date with these articles.\n",
      "\n",
      "Learn programming from these free courses. Examples are available with these tutorials. You can contact me for any doubt and I will get back to you!\n",
      "\n",
      "Copyright © 2020-2021 CodeWithHarry.com\n",
      "\n"
     ]
    }
   ],
   "source": [
    "#fetching the text by using the getText()\n",
    "print(tag_ouptupt.get_text())\n",
    "#how to fetch the text for all the paragragh\n",
    "all_para=soup.find_all(\"p\")\n",
    "for para in all_para:\n",
    "    print(para.get_text())\n",
    "    print()\n"
   ]
  },
  {
   "cell_type": "code",
   "execution_count": 29,
   "id": "61df7237",
   "metadata": {},
   "outputs": [
    {
     "name": "stdout",
     "output_type": "stream",
     "text": [
      "/\n",
      "/\n",
      "/videos\n",
      "/blog\n",
      "/contact\n",
      "/blog\n",
      "/videos\n",
      "/contact\n",
      "/videos\n",
      "/blog\n",
      "/contact\n"
     ]
    }
   ],
   "source": [
    "#to fetch all the occurances then \n",
    "html_link=soup.find_all(\"a\")\n",
    "for link in html_link:\n",
    "    print(link.get(\"href\"))"
   ]
  },
  {
   "cell_type": "code",
   "execution_count": 30,
   "id": "c139634d",
   "metadata": {},
   "outputs": [
    {
     "name": "stdout",
     "output_type": "stream",
     "text": [
      "{'/contact', '/blog', '/videos'}\n"
     ]
    }
   ],
   "source": [
    "#if we want to remove the duplicates then \n",
    "s=set()#this is an empty set\n",
    "html_link=soup.find_all(\"a\")\n",
    "for link in html_link:\n",
    "    if(link.get(\"href\")!=\"/\"):\n",
    "        s.add(link.get(\"href\"))\n",
    "print(s)"
   ]
  },
  {
   "cell_type": "code",
   "execution_count": 50,
   "id": "232f89dd",
   "metadata": {},
   "outputs": [
    {
     "name": "stdout",
     "output_type": "stream",
     "text": [
      "[<nav _ngcontent-sc74=\"\" class=\"navbar navbar-expand-lg navbar-dark bg-dark\"><a _ngcontent-sc74=\"\" class=\"navbar-brand\" href=\"/\" routerlink=\"/\"><img _ngcontent-sc74=\"\" alt=\"CodeWithHarry\" class=\"brandLogo\" height=\"39px\" src=\"../../../assets/img/logo.png\" width=\"39px\"/></a><button _ngcontent-sc74=\"\" aria-controls=\"navbarSupportedContent\" aria-expanded=\"false\" aria-label=\"Toggle navigation\" class=\"navbar-toggler\" data-target=\"#navbarSupportedContent\" data-toggle=\"collapse\" type=\"button\"><span _ngcontent-sc74=\"\" class=\"navbar-toggler-icon\"></span></button><div _ngcontent-sc74=\"\" class=\"collapse navbar-collapse\" id=\"navbarSupportedContent\"><ul _ngcontent-sc74=\"\" class=\"navbar-nav mr-auto\"><li _ngcontent-sc74=\"\" class=\"nav-item font-weight-bold\"><a _ngcontent-sc74=\"\" class=\"nav-link\" href=\"/\" routerlink=\"/\">Home</a></li><li _ngcontent-sc74=\"\" class=\"nav-item font-weight-bold\"><a _ngcontent-sc74=\"\" class=\"nav-link\" href=\"/videos\" routerlink=\"/videos\">Videos</a></li><li _ngcontent-sc74=\"\" class=\"nav-item font-weight-bold\"><a _ngcontent-sc74=\"\" class=\"nav-link\" href=\"/blog\" routerlink=\"/blog\">Blog</a></li><li _ngcontent-sc74=\"\" class=\"nav-item font-weight-bold\"><a _ngcontent-sc74=\"\" class=\"nav-link\" href=\"/contact\" routerlink=\"/contact\">Contact Me</a></li></ul><form _ngcontent-sc74=\"\" class=\"form-inline my-2 my-lg-0 mr-3 ng-untouched ng-pristine ng-valid\" novalidate=\"\"><input _ngcontent-sc74=\"\" aria-label=\"Search\" class=\"form-control mr-sm-2 ng-untouched ng-pristine ng-valid\" name=\"query\" placeholder=\"Search\" type=\"text\" value=\"\"/><button _ngcontent-sc74=\"\" class=\"btn btn-danger my-2 my-sm-0\" type=\"submit\">Search</button></form><div _ngcontent-sc74=\"\" class=\"mx-0\"><button _ngcontent-sc74=\"\" class=\"btn btn-danger mr-2\" data-target=\"#loginModal\" data-toggle=\"modal\" type=\"button\">Login</button><button _ngcontent-sc74=\"\" class=\"btn btn-danger\" data-target=\"#signupModal\" data-toggle=\"modal\" type=\"button\">SignUp</button></div><!-- --><!-- --></div></nav>]\n"
     ]
    }
   ],
   "source": [
    "#if we want to fetch the <nav> tag with class=\"navbar\"\n",
    "soup_obj=(soup.find_all(\"nav\",class_=\"navbar\"))\n",
    "print(soup_obj)"
   ]
  },
  {
   "cell_type": "code",
   "execution_count": 51,
   "id": "315d948b",
   "metadata": {},
   "outputs": [
    {
     "name": "stdout",
     "output_type": "stream",
     "text": [
      "/----->\n",
      "/----->Home\n",
      "/videos----->Videos\n",
      "/blog----->Blog\n",
      "/contact----->Contact Me\n",
      "/blog----->Browse Blog\n",
      "/videos----->Browse Video Tutorials\n",
      "/contact----->Contact Me\n",
      "/videos----->Browse Video Courses\n",
      "/blog----->Go to Blog\n",
      "/contact----->Contact Me\n"
     ]
    }
   ],
   "source": [
    "all_anchor=soup.find_all(\"a\")\n",
    "for link in all_anchor:\n",
    "    print(f'{link.get(\"href\")}----->{link.get_text()}')"
   ]
  },
  {
   "cell_type": "code",
   "execution_count": 52,
   "id": "9a87fb8a",
   "metadata": {
    "scrolled": true
   },
   "outputs": [
    {
     "name": "stdout",
     "output_type": "stream",
     "text": [
      "https://codewithharry.com/contact\n",
      "https://codewithharry.com/blog\n",
      "https://codewithharry.com/videos\n"
     ]
    }
   ],
   "source": [
    "#for representation \n",
    "s=set()#this is an empty set\n",
    "html_link=soup.find_all(\"a\")\n",
    "for link in html_link:\n",
    "    if(link.get(\"href\")!=\"/\"):\n",
    "        s.add(link.get(\"href\"))\n",
    "for link in s:\n",
    "    str_link=\"https://codewithharry.com\"+str(link)\n",
    "    print(str_link)"
   ]
  },
  {
   "cell_type": "code",
   "execution_count": 61,
   "id": "d7940acb",
   "metadata": {},
   "outputs": [
    {
     "name": "stdout",
     "output_type": "stream",
     "text": [
      "this is a comment\n",
      "<class 'bs4.element.Comment'>\n"
     ]
    }
   ],
   "source": [
    "#comment object\n",
    "str1=\"<p><!--this is a comment--></p>\"\n",
    "soup1=BeautifulSoup(str1,\"html.parser\")\n",
    "element=soup1.p\n",
    "print(element.string)\n",
    "print(type(element.string))"
   ]
  },
  {
   "cell_type": "code",
   "execution_count": 75,
   "id": "96b18140",
   "metadata": {
    "scrolled": true
   },
   "outputs": [
    {
     "name": "stdout",
     "output_type": "stream",
     "text": [
      "<div _ngcontent-sc74=\"\" aria-hidden=\"true\" aria-labelledby=\"loginModal\" class=\"modal fade\" id=\"loginModal\" role=\"dialog\" tabindex=\"-1\"><div _ngcontent-sc74=\"\" class=\"modal-dialog\" role=\"document\"><div _ngcontent-sc74=\"\" class=\"modal-content\"><div _ngcontent-sc74=\"\" class=\"modal-header\"><img _ngcontent-sc74=\"\" alt=\"Login with Google\" class=\"googleAuth mx-2\" height=\"42.75px\" src=\"../../../assets/img/googleLogin.png\" width=\"25%\"/><div _ngcontent-sc74=\"\" class=\"or mx-3\"> or </div><h5 _ngcontent-sc74=\"\" class=\"modal-title\" id=\"loginModalTitle\">Login via username</h5><button _ngcontent-sc74=\"\" aria-label=\"Close\" class=\"close\" data-dismiss=\"modal\" type=\"button\"><span _ngcontent-sc74=\"\" aria-hidden=\"true\">×</span></button></div><div _ngcontent-sc74=\"\" class=\"modal-body\"><form _ngcontent-sc74=\"\" class=\"ng-untouched ng-pristine ng-invalid\" method=\"post\" novalidate=\"\"><div _ngcontent-sc74=\"\" class=\"form-group\"><label _ngcontent-sc74=\"\" for=\"username\">Username</label><input _ngcontent-sc74=\"\" class=\"form-control ng-untouched ng-pristine ng-invalid\" id=\"username\" maxlength=\"10\" minlength=\"2\" name=\"username\" pattern=\"[a-zA-Z0-9 ]*\" placeholder=\"Enter your username\" required=\"\" type=\"text\" value=\"\"/><!-- --></div><div _ngcontent-sc74=\"\" class=\"form-group\"><label _ngcontent-sc74=\"\" for=\"loginpassword\">Password</label><input _ngcontent-sc74=\"\" class=\"form-control ng-untouched ng-pristine ng-invalid\" id=\"loginpassword\" name=\"loginpassword\" placeholder=\"Enter your password\" required=\"\" type=\"password\" value=\"\"/></div><button _ngcontent-sc74=\"\" class=\"btn btn-danger mt-2\" disabled=\"\" id=\"loginsubmit\" type=\"submit\"><!-- --> Login</button></form><!-- --><!-- --><!-- --><div _ngcontent-sc74=\"\" class=\"forgot\"><span _ngcontent-sc74=\"\">Forgot Password?</span></div></div><div _ngcontent-sc74=\"\" class=\"modal-footer\"><button _ngcontent-sc74=\"\" class=\"btn btn-secondary\" data-dismiss=\"modal\" type=\"button\">Close</button></div></div></div></div>\n"
     ]
    }
   ],
   "source": [
    "#fetching the element or tag using the attribute\n",
    "#here we can't use the  \".\" operator as its work on only tag and here tags are not avaible\n",
    "#but we can find() as find(attribute=\"value\") on the soup object \n",
    "tag_element=soup.find(tabindex=\"-1\")#fetching the tag from the attribute\n",
    "print(tag_element)\n"
   ]
  },
  {
   "cell_type": "code",
   "execution_count": 139,
   "id": "2a34ac66",
   "metadata": {},
   "outputs": [
    {
     "name": "stdout",
     "output_type": "stream",
     "text": [
      "<class 'bs4.element.Tag'>\n",
      "Search\n",
      "<class 'bs4.element.NavigableString'>\n",
      "<generator object Tag._all_strings at 0x08626B18>\n",
      "<generator object Tag.stripped_strings at 0x08626B18>\n",
      "<class 'generator'>\n",
      "Home\n",
      "Videos\n",
      "Blog\n",
      "Contact Me\n",
      "Search\n",
      "Login\n",
      "SignUp\n"
     ]
    }
   ],
   "source": [
    "#difference betweeen string() and strings and stripped_string\n",
    "tag_obj=soup.find(id=\"navbarSupportedContent\")\n",
    "print(type(tag_obj))\n",
    "#fetching the type=\"submit\" attribute then \n",
    "tag_another_obj=soup.find(type=\"submit\")\n",
    "print(tag_another_obj.string)\n",
    "print(type(tag_another_obj.string))\n",
    "print(tag_obj.strings)#generator object\n",
    "print(tag_obj.stripped_strings)#generator object \n",
    "print(type(tag_obj.stripped_strings))#Generator object \n",
    "# for string in tag_obj.strings:#iterating the generator objects \n",
    "#     print(string)\n",
    "for strip_string in tag_obj.stripped_strings:\n",
    "    print(strip_string)"
   ]
  },
  {
   "cell_type": "code",
   "execution_count": 102,
   "id": "afda18d7",
   "metadata": {},
   "outputs": [
    {
     "name": "stdout",
     "output_type": "stream",
     "text": [
      "<ul _ngcontent-sc74=\"\" class=\"navbar-nav mr-auto\"><li _ngcontent-sc74=\"\" class=\"nav-item font-weight-bold\"><a _ngcontent-sc74=\"\" class=\"nav-link\" href=\"/\" routerlink=\"/\">Home</a></li><li _ngcontent-sc74=\"\" class=\"nav-item font-weight-bold\"><a _ngcontent-sc74=\"\" class=\"nav-link\" href=\"/videos\" routerlink=\"/videos\">Videos</a></li><li _ngcontent-sc74=\"\" class=\"nav-item font-weight-bold\"><a _ngcontent-sc74=\"\" class=\"nav-link\" href=\"/blog\" routerlink=\"/blog\">Blog</a></li><li _ngcontent-sc74=\"\" class=\"nav-item font-weight-bold\"><a _ngcontent-sc74=\"\" class=\"nav-link\" href=\"/contact\" routerlink=\"/contact\">Contact Me</a></li></ul>\n",
      "\n",
      "<form _ngcontent-sc74=\"\" class=\"form-inline my-2 my-lg-0 mr-3 ng-untouched ng-pristine ng-valid\" novalidate=\"\"><input _ngcontent-sc74=\"\" aria-label=\"Search\" class=\"form-control mr-sm-2 ng-untouched ng-pristine ng-valid\" name=\"query\" placeholder=\"Search\" type=\"text\" value=\"\"/><button _ngcontent-sc74=\"\" class=\"btn btn-danger my-2 my-sm-0\" type=\"submit\">Search</button></form>\n",
      "\n",
      "<div _ngcontent-sc74=\"\" class=\"mx-0\"><button _ngcontent-sc74=\"\" class=\"btn btn-danger mr-2\" data-target=\"#loginModal\" data-toggle=\"modal\" type=\"button\">Login</button><button _ngcontent-sc74=\"\" class=\"btn btn-danger\" data-target=\"#signupModal\" data-toggle=\"modal\" type=\"button\">SignUp</button></div>\n",
      "\n",
      " \n",
      "\n",
      " \n",
      "\n"
     ]
    }
   ],
   "source": [
    "#difference between the contents and childeren\n",
    "#contents will provide the list if tags present in the tag on which we call the contents varaibale \n",
    "#the return type for the contents object is list\n",
    "#where as children provide the iterator object of all the child tag inside the parent tag \n",
    "#but we can iterate and find the value in both the cases \n",
    "#ex:-1:-using the contents\n",
    "#fetching the id as \"navbarSupportedContent\"\n",
    "element_obj=soup.find(id=\"navbarSupportedContent\")\n",
    "#this will return a tag object on whicjh we can call the contents and children method \n",
    "# print(element_obj.contents)#all the contents of the tags child will show as the list \n",
    "ele_obj_child=element_obj.contents\n",
    "#trying with the children\n",
    "# print(element_obj.children)#provide a list iterator object \n",
    "#here we can uses as \n",
    "ele_child=element_obj.children\n",
    "#but we can iterate obth of them as \n",
    "# for content in (element_obj.contents):\n",
    "#     print(content)\n",
    "#     print()\n",
    "# for children in (element_obj.children):\n",
    "#     print(children)\n",
    "#     print()"
   ]
  },
  {
   "cell_type": "code",
   "execution_count": 143,
   "id": "6da5500b",
   "metadata": {
    "scrolled": true
   },
   "outputs": [
    {
     "name": "stdout",
     "output_type": "stream",
     "text": [
      "<class 'generator'>\n",
      "nav\n",
      "<class 'bs4.element.Tag'>\n",
      "app-header\n",
      "<class 'bs4.element.Tag'>\n",
      "app-root\n",
      "<class 'bs4.element.Tag'>\n",
      "body\n",
      "<class 'bs4.element.Tag'>\n",
      "html\n",
      "<class 'bs4.element.Tag'>\n",
      "[document]\n",
      "<class 'bs4.BeautifulSoup'>\n"
     ]
    }
   ],
   "source": [
    "#difference between parent and parents\n",
    "#parents will return the parent which is a tag_object only\n",
    "#but parents return a generator object with which if we iterate will get all the values individually\n",
    "tag_ele_obj=soup.find(id=\"navbarSupportedContent\")#fetching the tag object using the find method \n",
    "#here if we call the parent it willl provide the imnmediate parent and which is also of tag _object type \n",
    "# print(tag_ele_obj.parent)#checking the parent tag of the selected tag object or tagh element\n",
    "# print(type(tag_ele_obj))#checking the type of parent object we will get tag_obj#perfect\n",
    "\n",
    "# #if we want to know the parent i.e all the parents of a tag we will get a iterator object in that case but with iterating that we can get all the parent value \n",
    "# print(tag_ele_obj.parents)#checking the parents of a particular tag \n",
    "print(type(tag_ele_obj.parents))#checking its type #its a generator  object \n",
    "#buit we can easily apply the loops on it as \n",
    "for parent in tag_ele_obj.parents:#iterating the generator object \n",
    "    #print(parent)#this will provide the parent tag \n",
    "    print(parent.name)#fetching the name of the \n",
    "    print(type(parent))"
   ]
  },
  {
   "cell_type": "code",
   "execution_count": 115,
   "id": "100e46f1",
   "metadata": {},
   "outputs": [
    {
     "name": "stdout",
     "output_type": "stream",
     "text": [
      "p\n",
      "<p _ngcontent-sc67=\"\" class=\"lead text-muted\">Confused on which course to take? I have got you covered. Browse courses and find out the best course for you. Its free!<br _ngcontent-sc67=\"\"/>Code With Harry is my attempt to teach basics and those coding techniques to people in short time which took me ages to learn.</p>\n"
     ]
    }
   ],
   "source": [
    "#using the name variable \n",
    "print(soup.p.name)\n",
    "print(soup.find(name=\"p\"))\n",
    "#accessing the tag using name attriubute\n"
   ]
  },
  {
   "cell_type": "code",
   "execution_count": 138,
   "id": "3af5d444",
   "metadata": {},
   "outputs": [
    {
     "name": "stdout",
     "output_type": "stream",
     "text": [
      "<a _ngcontent-sc74=\"\" class=\"navbar-brand\" href=\"/\" routerlink=\"/\"><img _ngcontent-sc74=\"\" alt=\"CodeWithHarry\" class=\"brandLogo\" height=\"39px\" src=\"../../../assets/img/logo.png\" width=\"39px\"/></a>\n",
      "<class 'bs4.element.Tag'>\n",
      "<div _ngcontent-sc74=\"\" class=\"collapse navbar-collapse\" id=\"navbarSupportedContent\"><ul _ngcontent-sc74=\"\" class=\"navbar-nav mr-auto\"><li _ngcontent-sc74=\"\" class=\"nav-item font-weight-bold\"><a _ngcontent-sc74=\"\" class=\"nav-link\" href=\"/\" routerlink=\"/\">Home</a></li><li _ngcontent-sc74=\"\" class=\"nav-item font-weight-bold\"><a _ngcontent-sc74=\"\" class=\"nav-link\" href=\"/videos\" routerlink=\"/videos\">Videos</a></li><li _ngcontent-sc74=\"\" class=\"nav-item font-weight-bold\"><a _ngcontent-sc74=\"\" class=\"nav-link\" href=\"/blog\" routerlink=\"/blog\">Blog</a></li><li _ngcontent-sc74=\"\" class=\"nav-item font-weight-bold\"><a _ngcontent-sc74=\"\" class=\"nav-link\" href=\"/contact\" routerlink=\"/contact\">Contact Me</a></li></ul><form _ngcontent-sc74=\"\" class=\"form-inline my-2 my-lg-0 mr-3 ng-untouched ng-pristine ng-valid\" novalidate=\"\"><input _ngcontent-sc74=\"\" aria-label=\"Search\" class=\"form-control mr-sm-2 ng-untouched ng-pristine ng-valid\" name=\"query\" placeholder=\"Search\" type=\"text\" value=\"\"/><button _ngcontent-sc74=\"\" class=\"btn btn-danger my-2 my-sm-0\" type=\"submit\">Search</button></form><div _ngcontent-sc74=\"\" class=\"mx-0\"><button _ngcontent-sc74=\"\" class=\"btn btn-danger mr-2\" data-target=\"#loginModal\" data-toggle=\"modal\" type=\"button\">Login</button><button _ngcontent-sc74=\"\" class=\"btn btn-danger\" data-target=\"#signupModal\" data-toggle=\"modal\" type=\"button\">SignUp</button></div><!-- --><!-- --></div>\n",
      "<class 'bs4.element.Tag'>\n"
     ]
    }
   ],
   "source": [
    "#usage of next_siblings and preveious_sibling\n",
    "#here in the HTML next_siblings and preveious_sibling both consider the space\n",
    "#one will provide the nexct sibling and one provide the preveious sibling considering the spaces \n",
    "#for this id=\"navbarSupportedContent\" if we want to fetch the content then \n",
    "target_html_obj=soup.find(type=\"button\")\n",
    "print(target_html_obj.previous_sibling)\n",
    "print(type(target_html_obj.previous_sibling))\n",
    "#for the next_sibling\n",
    "print(target_html_obj.next_sibling)\n",
    "print(type(target_html_obj.next_sibling))"
   ]
  },
  {
   "cell_type": "code",
   "execution_count": 146,
   "id": "864439bf",
   "metadata": {},
   "outputs": [
    {
     "name": "stdout",
     "output_type": "stream",
     "text": [
      "Requirement already satisfied: lxml in c:\\users\\611903295\\downloads\\python\\myvirtualenv\\lib\\site-packages (4.6.3)\n"
     ]
    },
    {
     "name": "stderr",
     "output_type": "stream",
     "text": [
      "WARNING: You are using pip version 21.1.3; however, version 21.2.1 is available.\n",
      "You should consider upgrading via the 'c:\\users\\611903295\\downloads\\python\\myvirtualenv\\scripts\\python.exe -m pip install --upgrade pip' command.\n"
     ]
    }
   ],
   "source": [
    "!pip install lxml"
   ]
  },
  {
   "cell_type": "code",
   "execution_count": 5,
   "id": "1b6667ac",
   "metadata": {},
   "outputs": [
    {
     "data": {
      "application/vnd.jupyter.widget-view+json": {
       "model_id": "892e2f2336234ce1a70ba5b823ad03ad",
       "version_major": 2,
       "version_minor": 0
      },
      "text/plain": [
       "Button(description='Ergebnis absenden', style=ButtonStyle())"
      ]
     },
     "metadata": {},
     "output_type": "display_data"
    }
   ],
   "source": [
    "from ipywidgets import widgets, Button\n",
    "import requests\n",
    "btn = widgets.Button(description='Ergebnis absenden')\n",
    "\n",
    "display(btn);\n",
    "\n",
    "def submit_score(obj):\n",
    "    try:\n",
    "        if not endpoint or not uuid or not username:\n",
    "            raise RuntimeError(\"Parameters missing\");\n",
    "        elif not lm:\n",
    "            raise RuntimeError(\"LearningModule-Instance not as lm defined\")\n",
    "\n",
    "        score = lm.get_score();\n",
    "        taskEvaluationString = lm.get_task_evaluation_string();\n",
    "        response = requests.post(endpoint, data= {\"uuid\": uuid, \"grade\": score, \"username\": username, \"details\": taskEvaluationString })\n",
    "        if response.status_code != 200:\n",
    "            raise RuntimeError(\"Fehler beim Request: \" + str(response.status_code))\n",
    "    except RuntimeError as e:\n",
    "        print(e)\n",
    "    else:\n",
    "        print(\"Durchführung erfolgreich abgegeben!\")\n",
    "btn.on_click(submit_score)"
   ]
  }
 ],
 "metadata": {
  "kernelspec": {
   "display_name": "Python 3 (ipykernel)",
   "language": "python",
   "name": "python3"
  },
  "language_info": {
   "codemirror_mode": {
    "name": "ipython",
    "version": 3
   },
   "file_extension": ".py",
   "mimetype": "text/x-python",
   "name": "python",
   "nbconvert_exporter": "python",
   "pygments_lexer": "ipython3",
   "version": "3.8.2"
  },
  "toc": {
   "base_numbering": 1,
   "nav_menu": {},
   "number_sections": true,
   "sideBar": true,
   "skip_h1_title": false,
   "title_cell": "Table of Contents",
   "title_sidebar": "Contents",
   "toc_cell": false,
   "toc_position": {},
   "toc_section_display": true,
   "toc_window_display": false
  }
 },
 "nbformat": 4,
 "nbformat_minor": 5
}
