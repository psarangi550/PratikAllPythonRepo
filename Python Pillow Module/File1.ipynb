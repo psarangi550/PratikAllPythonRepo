{
 "cells": [
  {
   "cell_type": "code",
   "execution_count": 2,
   "id": "7de83bb3",
   "metadata": {},
   "outputs": [
    {
     "name": "stdout",
     "output_type": "stream",
     "text": [
      "Requirement already satisfied: pillow in c:\\users\\611903295\\downloads\\python\\myvirtualenv\\lib\\site-packages (8.2.0)\n"
     ]
    },
    {
     "name": "stderr",
     "output_type": "stream",
     "text": [
      "WARNING: You are using pip version 21.1.3; however, version 21.2.1 is available.\n",
      "You should consider upgrading via the 'c:\\users\\611903295\\downloads\\python\\myvirtualenv\\scripts\\python.exe -m pip install --upgrade pip' command.\n"
     ]
    }
   ],
   "source": [
    "!pip install pillow"
   ]
  },
  {
   "cell_type": "code",
   "execution_count": 11,
   "id": "878f233a",
   "metadata": {},
   "outputs": [
    {
     "name": "stdout",
     "output_type": "stream",
     "text": [
      "Available Themes: \n",
      "   chesterish\n",
      "   grade3\n",
      "   gruvboxd\n",
      "   gruvboxl\n",
      "   monokai\n",
      "   oceans16\n",
      "   onedork\n",
      "   solarizedd\n",
      "   solarizedl\n"
     ]
    }
   ],
   "source": [
    "!jt -l"
   ]
  },
  {
   "cell_type": "code",
   "execution_count": 5,
   "id": "f0379b1b",
   "metadata": {},
   "outputs": [],
   "source": [
    "!jt -t grade3"
   ]
  },
  {
   "cell_type": "markdown",
   "id": "e602a66b",
   "metadata": {},
   "source": [
    "* This code is for the  converting the jpg file to the png file using the pillow module "
   ]
  },
  {
   "cell_type": "code",
   "execution_count": 11,
   "id": "32e646c8",
   "metadata": {
    "scrolled": true
   },
   "outputs": [
    {
     "name": "stdout",
     "output_type": "stream",
     "text": [
      "All done\n"
     ]
    }
   ],
   "source": [
    "from PIL import Image#importing pillow module \n",
    "import os #importing os module\n",
    "for files in os.listdir(\".\"):#here in we used to fetch all the filename inside the os module \n",
    "    if files.endswith(\".jpg\"):#checking whether the file ends with \".jpg\" or not \n",
    "        i=Image.open(files)#opening the all the files and creating the Image object\n",
    "        #now i want to store thart to the particular folder say 300 but with \".png\" extension\n",
    "        fn,fext=os.path.splitext(files)#splitting the text of the file \n",
    "        #print(fn)#printing the fn value\n",
    "        #print(fext)#printing the extension\n",
    "        i.save(f\"{fn}.png\")\n",
    "print(\"All done\")\n",
    "        \n",
    "    \n"
   ]
  },
  {
   "cell_type": "markdown",
   "id": "e46f742e",
   "metadata": {},
   "source": [
    "* <b> This one is for resizing the images to a particular file "
   ]
  },
  {
   "cell_type": "code",
   "execution_count": 24,
   "id": "05860429",
   "metadata": {},
   "outputs": [
    {
     "name": "stdout",
     "output_type": "stream",
     "text": [
      "image1\n",
      ".jpg\n",
      "image1_resize.\n",
      ".jpg\n",
      "image2\n",
      ".jpg\n",
      "image2_resize.\n",
      ".jpg\n",
      "image3\n",
      ".jpg\n",
      "image3_resize.\n",
      ".jpg\n",
      "Resizing of all the file being done\n"
     ]
    }
   ],
   "source": [
    "from PIL import Image #importing the Image Module frol the pillow module \n",
    "import os #importing the os module \n",
    "#here we are tryiong to resize all the files present inside the current working directory \n",
    "#this is only for the jpeg and jpg file not for the png files\n",
    "#for this we need to declare as cariable as tuple \n",
    "\n",
    "set_300=(300,300)#tuple calue save to the variable \n",
    "\n",
    "for  files in os.listdir(\".\"):#fetching all the files from the current working directory\n",
    "    #this will provide a list of all the files present in the cwd as we taken \".\" \n",
    "    if files.endswith(\".jpg\"):#fetching only the jpg file from the list of files name\n",
    "        img=Image.open(files)#opening the file and creating the image object \n",
    "        fn,fext=os.path.splitext(files)\n",
    "        #here the splittext() provide a tuple in returnm hence unpacking the tuple in this case \n",
    "        #and it will separate the value 1 sta file name to file extension due to \".\" present in between\n",
    "        print(fn)\n",
    "        print(fext)\n",
    "        img.thumbnail(set_300)#setting the resize Propety\n",
    "#       os.mkdir(\"resize\")\n",
    "        file_path=\"C:\\\\Users\\\\611903295\\\\Downloads\\\\python\\\\Django_Python_Revesion\\\\Python Pillow Module\\\\resize\"\n",
    "        img.save(f'{file_path}\\\\{fn}_resize.{fext}')\n",
    "print(\"Resizing of all the file being done\")"
   ]
  },
  {
   "cell_type": "markdown",
   "id": "4314280a",
   "metadata": {},
   "source": [
    "#### This is for the rotating the images\n",
    ". we have to use rotate(\"Degree\") method for the same\n"
   ]
  },
  {
   "cell_type": "code",
   "execution_count": 27,
   "id": "c8ccc292",
   "metadata": {},
   "outputs": [],
   "source": [
    "from PIL import Image #importing the Image module from the Pillow module \n",
    "i=Image.open(\"image1.jpg\")\n",
    "i.rotate(180).save(\"image_rotate.jpg\")"
   ]
  },
  {
   "cell_type": "markdown",
   "id": "e95fd22c",
   "metadata": {},
   "source": [
    "### here we want to convert the image to a black and white image\n",
    "\n",
    ">in order to do that we need to use convert(mode=\"L\")<br>\n",
    "mode is the key-args with parameter value as \"L\" <br>\n",
    "here mode=l Means black and whie mode <br>\n",
    "we need to use convert() on the image object\n"
   ]
  },
  {
   "cell_type": "code",
   "execution_count": 42,
   "id": "02be0b1a",
   "metadata": {},
   "outputs": [],
   "source": [
    "from PIL import Image #from the pillow module importing Image Module \n",
    "i=Image.open(\"image3.jpg\")#here opening the image file and creating the image object\n",
    "i.convert(mode=\"L\")\n",
    "i.save(\"image3_black_and_white.jpg\")"
   ]
  },
  {
   "cell_type": "markdown",
   "id": "c6ff846f",
   "metadata": {},
   "source": [
    "#### if we want to blur the image we need to import ImageFilter Module \n",
    ">on the image object created by Image.open(\"file location\") we need to call filter()<br>\n",
    "and the filter method took below argument<br>\n",
    "for the argument we need to import ImageFilter module <br>\n",
    "Image Fileter Module has GossianBlur class for which we have to create the Object use as parameter <br>inside the filter() called on image object <br>\n",
    "image obj=Image.open(\"file location\")<br>\n",
    "image obj.filter(ImageFilter.GossianBlur())#for the gaussian blur default value is 2 <br>\n",
    "#but we can also over ride as below<br>\n",
    "image obj.filter(ImageFilter.GossianBlur(15))<br>"
   ]
  },
  {
   "cell_type": "code",
   "execution_count": 43,
   "id": "8d320606",
   "metadata": {},
   "outputs": [],
   "source": [
    "from PIL import Image,ImageFilter#importing the Image and ImageFilter Module \n",
    "#creating the Image object \n",
    "imgobj=Image.open(\"image3.jpg\")#opening the file and creating the file object \n",
    "imgobj.filter(ImageFilter.GaussianBlur(70))\n",
    "imgobj.save(\"image3_blurred.jpg\")"
   ]
  },
  {
   "cell_type": "code",
   "execution_count": 13,
   "id": "e126ddf9",
   "metadata": {},
   "outputs": [
    {
     "data": {
      "application/vnd.jupyter.widget-view+json": {
       "model_id": "98cb9c5591d541fcbf39847a0bb48eee",
       "version_major": 2,
       "version_minor": 0
      },
      "text/plain": [
       "Button(description='Ergebnis absenden', style=ButtonStyle())"
      ]
     },
     "metadata": {},
     "output_type": "display_data"
    }
   ],
   "source": [
    "from ipywidgets import widgets, Button\n",
    "import requests\n",
    "btn = widgets.Button(description='Ergebnis absenden')\n",
    "\n",
    "display(btn);\n",
    "\n",
    "def submit_score(obj):\n",
    "    try:\n",
    "        if not endpoint or not uuid or not username:\n",
    "            raise RuntimeError(\"Parameters missing\");\n",
    "        elif not lm:\n",
    "            raise RuntimeError(\"LearningModule-Instance not as lm defined\")\n",
    "\n",
    "        score = lm.get_score();\n",
    "        taskEvaluationString = lm.get_task_evaluation_string();\n",
    "        response = requests.post(endpoint, data= {\"uuid\": uuid, \"grade\": score, \"username\": username, \"details\": taskEvaluationString })\n",
    "        if response.status_code != 200:\n",
    "            raise RuntimeError(\"Fehler beim Request: \" + str(response.status_code))\n",
    "    except RuntimeError as e:\n",
    "        print(e)\n",
    "    else:\n",
    "        print(\"Durchführung erfolgreich abgegeben!\")\n",
    "btn.on_click(submit_score)"
   ]
  }
 ],
 "metadata": {
  "kernelspec": {
   "display_name": "Python 3 (ipykernel)",
   "language": "python",
   "name": "python3"
  },
  "language_info": {
   "codemirror_mode": {
    "name": "ipython",
    "version": 3
   },
   "file_extension": ".py",
   "mimetype": "text/x-python",
   "name": "python",
   "nbconvert_exporter": "python",
   "pygments_lexer": "ipython3",
   "version": "3.8.2"
  },
  "toc": {
   "base_numbering": 1,
   "nav_menu": {},
   "number_sections": true,
   "sideBar": true,
   "skip_h1_title": false,
   "title_cell": "Table of Contents",
   "title_sidebar": "Contents",
   "toc_cell": false,
   "toc_position": {},
   "toc_section_display": true,
   "toc_window_display": false
  }
 },
 "nbformat": 4,
 "nbformat_minor": 5
}
