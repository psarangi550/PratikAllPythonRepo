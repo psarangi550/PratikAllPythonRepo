{
 "cells": [
  {
   "cell_type": "code",
   "execution_count": 1,
   "id": "620825c2",
   "metadata": {},
   "outputs": [
    {
     "ename": "NameError",
     "evalue": "name 'python3' is not defined",
     "output_type": "error",
     "traceback": [
      "\u001b[1;31m---------------------------------------------------------------------------\u001b[0m",
      "\u001b[1;31mNameError\u001b[0m                                 Traceback (most recent call last)",
      "\u001b[1;32mC:\\Users\\611903~1\\AppData\\Local\\Temp/ipykernel_13700/170156838.py\u001b[0m in \u001b[0;36m<module>\u001b[1;34m\u001b[0m\n\u001b[1;32m----> 1\u001b[1;33m \u001b[0mkernel_name\u001b[0m \u001b[1;33m=\u001b[0m \u001b[0mpython3\u001b[0m\u001b[1;33m;\u001b[0m\u001b[1;33m\u001b[0m\u001b[1;33m\u001b[0m\u001b[0m\n\u001b[0m",
      "\u001b[1;31mNameError\u001b[0m: name 'python3' is not defined"
     ]
    }
   ],
   "source": [
    "kernel_name = python3;"
   ]
  },
  {
   "cell_type": "markdown",
   "id": "da5fe021",
   "metadata": {},
   "source": [
    "Kopiere diesen Code in die erste Zelle deines Notebooks und führe sie anschließend aus, wenn du das Notebook lokal in einem Docker Container ausführen möchtest([Anleitung](https://projectbase.medien.hs-duesseldorf.de/eild.nrw-module/lernmodul-datenanalyse#Docker-Lokal)):\n",
    "```python\n",
    "kernel_name = python3\n",
    "```"
   ]
  },
  {
   "cell_type": "code",
   "execution_count": 15,
   "id": "5aee2c5c",
   "metadata": {},
   "outputs": [
    {
     "name": "stdout",
     "output_type": "stream",
     "text": [
      "This wrapper info function executed in pratik and 40\n",
      "The wrapper Executed in 2.0003011226654053 seconds\n"
     ]
    }
   ],
   "source": [
    "#here we want to implement decorator chaining using the decorator with logging and time function both lets see how corey did we can able to replicate the same thing or not \n",
    "\n",
    "def my_logger(original_function):\n",
    "    import logging #importing the logging module \n",
    "    logging.basicConfig(filename=(f\"{original_function.__name__}.log\"),level=logging.INFO)\n",
    "    #implementing the basic Logging Configuration to implement logging \n",
    "    def wrapper(*args,**kwargs):#inner function inside the decorator wioth variable and keyword args\n",
    "        logging.warning(f\"Ran with positional args {args} and keyword args{kwargs}\")\n",
    "        print(f\"{original_function.__name__} function running\")\n",
    "        original_function(*args,**kwargs)#running the original function with variable lenght and keyword args \n",
    "    return wrapper #returning the wrapper function \n",
    "\n",
    "def my_timer(original_function):\n",
    "    import time #importing the time module \n",
    "    def wrapper(*args, **kwargs):#wrapper function with variable lenght args and keyword args\n",
    "        t1=time.time()#calling the time function which will return value in epoche format and returnning the value \n",
    "        original_function(*args,**kwargs)\n",
    "        t2=time.time()-t1 #taking the time dufference on variable t2\n",
    "        print(f\"The {original_function.__name__} Executed in {t2} seconds\")\n",
    "    return  wrapper #return the wrapper function object \n",
    "\n",
    "import time \n",
    "@my_timer\n",
    "@my_logger\n",
    "def display_info(name,age):#display info function with name and age as args\n",
    "    time.sleep(2)\n",
    "    print(f\"This {display_info.__name__} info function executed in {name} and {age}\")\n",
    "\n",
    "display_info(\"pratik\",40)"
   ]
  },
  {
   "cell_type": "code",
   "execution_count": 17,
   "id": "ee12b0d5",
   "metadata": {},
   "outputs": [
    {
     "name": "stdout",
     "output_type": "stream",
     "text": [
      "wrapper function running\n",
      "The wrapper function took rika and 24 as args\n",
      "The display_info function took 10.000806331634521 secopnds to complete\n"
     ]
    }
   ],
   "source": [
    "#case:-2\n",
    "#here we want to reverse the decorator then we will get wrapper.log instead of dipaly_info.log\n",
    "def decor_my_logger(orginal_function):#decor_my_logger decorator with original function as args\n",
    "    import logging#importing the logging module \n",
    "    logging.basicConfig(filename=f\"{orginal_function.__name__}.log\",level=logging.WARNING)\n",
    "    #implementing the basic logging configuration using the basic_logging function\n",
    "    def wrapper(*args,**kwargs):#here the wrapper function with variable length and keyword args\n",
    "        logging.warning(f\"{orginal_function.__name__} ran with positional args {args} and keyword args as {kwargs}\")\n",
    "        print(f\"{orginal_function.__name__} function running\")\n",
    "        orginal_function(*args,**kwargs)#callling the input function to the logger function which is in this case is the wrapper function which being returned by my_timer function \n",
    "    return wrapper #returning the wrapper function object \n",
    "\n",
    "def decor_my_timer(original_function):#decorator decor_my_timer with original_function as args\n",
    "    import time #importing the time module\n",
    "    def wrapper(*args,**kwargs):\n",
    "        t1=time.time()#implementing the time in epoche format \n",
    "        result=original_function(*args,*kwargs)#calling the original function which is in this cas e is display_info function \n",
    "        t2=time.time()-t1#calculating the time difference \n",
    "        print(f\"The {original_function.__name__} function took {t2} secopnds to complete\")\n",
    "        return result\n",
    "    return wrapper\n",
    "@decor_my_logger\n",
    "@decor_my_timer\n",
    "def display_info(name,age):\n",
    "    import time #importing the time module \n",
    "    time.sleep(10)#sleeping for 10 seconds\n",
    "    print(f\"The {display_info.__name__} function took {name} and {age} as args\")\n",
    "display_info(\"rika\",24)#calling the display info function"
   ]
  },
  {
   "cell_type": "code",
   "execution_count": 36,
   "id": "5424c3b9",
   "metadata": {},
   "outputs": [
    {
     "name": "stdout",
     "output_type": "stream",
     "text": [
      "The display_info function took rika and 24 as args\n",
      "function display_info took 10.000784873962402 seconds\n"
     ]
    }
   ],
   "source": [
    "#fixing that with the help of functools module @wrap() decorator by passing the orginal_function info which will store or preserver the display_info as the or9iginal_function rather than the wrapper function\n",
    "import functools\n",
    "def decor_my_logger(org_func):\n",
    "    @functools.wraps(org_func)\n",
    "    def wrapper(*args,**kwargs):\n",
    "        import logging #importing the logging module \n",
    "        logging.basicConfig(filename=f\"{org_func.__name__}.log\",level=logging.INFO)\n",
    "        logging.warning(f\"{org_func.__name__} with {args} and {kwargs}\")\n",
    "        org_func(*args,**kwargs) #calling the function \n",
    "    return wrapper #returning the erapper function \n",
    "def decor_my_timer(org_func):\n",
    "    @functools.wraps(org_func)\n",
    "    def wrapper(*args,**kwargs):\n",
    "        import time #importing the time module \n",
    "        t1=time.time()\n",
    "        org_func(*args,**kwargs)\n",
    "        t2=time.time()-t1\n",
    "        print(f\"function {org_func.__name__} took {t2} seconds\")\n",
    "    return wrapper#returning the function \n",
    "@decor_my_logger\n",
    "@decor_my_timer\n",
    "def display_info(name,age):\n",
    "    import time #importing the time module \n",
    "    time.sleep(10)#sleeping for 10 seconds\n",
    "    print(f\"The {display_info.__name__} function took {name} and {age} as args\")\n",
    "display_info(\"rika\",24)#calling the display info function\n"
   ]
  },
  {
   "cell_type": "code",
   "execution_count": 2,
   "id": "458c1ebc",
   "metadata": {},
   "outputs": [
    {
     "data": {
      "application/vnd.jupyter.widget-view+json": {
       "model_id": "ad142e8d2c844c76826cbf6e28b0ae09",
       "version_major": 2,
       "version_minor": 0
      },
      "text/plain": [
       "Button(description='Ergebnis absenden', style=ButtonStyle())"
      ]
     },
     "metadata": {},
     "output_type": "display_data"
    }
   ],
   "source": [
    "from ipywidgets import widgets, Button\n",
    "import requests\n",
    "btn = widgets.Button(description='Ergebnis absenden')\n",
    "\n",
    "display(btn);\n",
    "\n",
    "def submit_score(obj):\n",
    "    try:\n",
    "        if not endpoint or not uuid or not username:\n",
    "            raise RuntimeError(\"Parameters missing\");\n",
    "        elif not lm:\n",
    "            raise RuntimeError(\"LearningModule-Instance not as lm defined\")\n",
    "\n",
    "        score = lm.get_score();\n",
    "        taskEvaluationString = lm.get_task_evaluation_string();\n",
    "        response = requests.post(endpoint, data= {\"uuid\": uuid, \"grade\": score, \"username\": username, \"details\": taskEvaluationString })\n",
    "        if response.status_code != 200:\n",
    "            raise RuntimeError(\"Fehler beim Request: \" + str(response.status_code))\n",
    "    except RuntimeError as e:\n",
    "        print(e)\n",
    "    else:\n",
    "        print(\"Durchführung erfolgreich abgegeben!\")\n",
    "btn.on_click(submit_score)"
   ]
  }
 ],
 "metadata": {
  "kernelspec": {
   "display_name": "Python 3 (ipykernel)",
   "language": "python",
   "name": "python3"
  },
  "language_info": {
   "codemirror_mode": {
    "name": "ipython",
    "version": 3
   },
   "file_extension": ".py",
   "mimetype": "text/x-python",
   "name": "python",
   "nbconvert_exporter": "python",
   "pygments_lexer": "ipython3",
   "version": "3.8.2"
  },
  "toc": {
   "base_numbering": 1,
   "nav_menu": {},
   "number_sections": true,
   "sideBar": true,
   "skip_h1_title": false,
   "title_cell": "Table of Contents",
   "title_sidebar": "Contents",
   "toc_cell": false,
   "toc_position": {},
   "toc_section_display": true,
   "toc_window_display": false
  }
 },
 "nbformat": 4,
 "nbformat_minor": 5
}
