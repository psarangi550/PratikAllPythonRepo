{
 "cells": [
  {
   "cell_type": "code",
   "execution_count": 1,
   "id": "a0d97c5c",
   "metadata": {},
   "outputs": [
    {
     "ename": "NameError",
     "evalue": "name 'python3' is not defined",
     "output_type": "error",
     "traceback": [
      "\u001b[1;31m---------------------------------------------------------------------------\u001b[0m",
      "\u001b[1;31mNameError\u001b[0m                                 Traceback (most recent call last)",
      "\u001b[1;32mC:\\Users\\611903~1\\AppData\\Local\\Temp/ipykernel_13448/170156838.py\u001b[0m in \u001b[0;36m<module>\u001b[1;34m\u001b[0m\n\u001b[1;32m----> 1\u001b[1;33m \u001b[0mkernel_name\u001b[0m \u001b[1;33m=\u001b[0m \u001b[0mpython3\u001b[0m\u001b[1;33m;\u001b[0m\u001b[1;33m\u001b[0m\u001b[1;33m\u001b[0m\u001b[0m\n\u001b[0m",
      "\u001b[1;31mNameError\u001b[0m: name 'python3' is not defined"
     ]
    }
   ],
   "source": [
    "kernel_name = python3;"
   ]
  },
  {
   "cell_type": "markdown",
   "id": "c775c32d",
   "metadata": {},
   "source": [
    "Kopiere diesen Code in die erste Zelle deines Notebooks und führe sie anschließend aus, wenn du das Notebook lokal in einem Docker Container ausführen möchtest([Anleitung](https://projectbase.medien.hs-duesseldorf.de/eild.nrw-module/lernmodul-datenanalyse#Docker-Lokal)):\n",
    "```python\n",
    "kernel_name = python3\n",
    "```"
   ]
  },
  {
   "cell_type": "markdown",
   "id": "ee57f927",
   "metadata": {},
   "source": [
    ">1. But there is a slight problem with the JSON Module related to the customer class<br><br>\n",
    ">2. if we  try to convert the python custom class to JSON string format or JSON File format json module won't provide the support for the same <br><br>\n",
    ">3. if we try to conver the JSON String or JSOn file to the custom class wjhich is not avaiable <br><br>\n",
    ">4. here we explicitly have to convert the python custom object to python dict object for the support <br><br>\n",
    ">5. here we need to convert the python custom object to python dict by either normal approach or by \"__dict__()\" which provide the instance variable in the dictionary format <br><br>\n",
    ">6. similarly while deserializing json module load and loads() always provide the python dict object we explicitly need to change it to the custom object <br><br>\n",
    ">7. if we want a direct conversiopn we can use the json pickle module <br><br>"
   ]
  },
  {
   "cell_type": "code",
   "execution_count": 6,
   "id": "4461c455",
   "metadata": {},
   "outputs": [
    {
     "name": "stdout",
     "output_type": "stream",
     "text": [
      "{\n",
      "    \"eaddr\": \"bangalore\",\n",
      "    \"ename\": \"pratik\",\n",
      "    \"eno\": 101,\n",
      "    \"esal\": 1000.0\n",
      "}\n"
     ]
    }
   ],
   "source": [
    "import json #importing the json Module\n",
    "\n",
    "class Employee:\n",
    "    def __init__(self,eno,ename,esal,eaddr):\n",
    "        self.eno=eno#initializing the instance variable\n",
    "        self.ename=ename#initializing the instance variable\n",
    "        self.esal=esal#initializing the instance variable\n",
    "        self.eaddr=eaddr#initializing the instance variable\n",
    "    def display(self):#instance Method\n",
    "        print(f\"ENO:{self.eno},ENAME:{self.ename},ESAL:{self.esal},EADDR:{self.eaddr}\")\n",
    "#creating the employee object \n",
    "e=Employee(101,\"pratik\",1000.0,\"bangalore\")\n",
    "#noiw we have to conver this employee object to python dict object explicitly so that we can perform serialisation with respect to JSON Module \n",
    "e_dict=e.__dict__#here this dunder method or magic varibale will provide the number of instanmce varaible of the object in dictionary object which is thwe state of an object \n",
    "#now we can serailaixze that to a JSON String by using loads()\n",
    "json_string=json.dumps(e_dict,indent=4,sort_keys=True)#serailaizing to the JSON String \n",
    "print(json_string)\n",
    "#now even we can serialize to a JSON File as well by using the dump()\n",
    "with open(\"Employee.json\",\"w\") as f:#opening the file in write mode \n",
    "    json.dump(e_dict,f,indent=4,sort_keys=True)#wrting the converted dict to JSON File \n"
   ]
  },
  {
   "cell_type": "code",
   "execution_count": 7,
   "id": "26491ca0",
   "metadata": {},
   "outputs": [
    {
     "name": "stdout",
     "output_type": "stream",
     "text": [
      "<class 'dict'>\n",
      "{'eaddr': 'bangalore', 'ename': 'pratik', 'eno': 101, 'esal': 1000.0}\n",
      "ENO:101,ENAME:pratik,ESAL:1000.0,EADDR:bangalore\n"
     ]
    }
   ],
   "source": [
    "#now if we want to deserialise from JSON File to the python Supported form then its not possible by default \n",
    "#by default json Module load and loads() function return the python dict object we have to convert the python dict object to customized python objects \n",
    "#here we have the JSON File if we weant to convert to the json file to python object then we have to explicitly convert from the python dict object to the python custome object explicitly \n",
    "import json #importing the json Module \n",
    "with open(\"Employee.json\",\"r\") as f:#opening the employee json file \n",
    "    e_dict=json.load(f)#creating the JSON file to the python dict object \n",
    "    print(type(e_dict))#here we are expecting the result as python dioct object \n",
    "    print(e_dict)#printing the puython dict object \n",
    "    #here we need to convert the python dict to python object explicitly \n",
    "    #creating the object fronm the e_dict pythobn dictionary\n",
    "    e=Employee(e_dict[\"eno\"],e_dict[\"ename\"],e_dict[\"esal\"],e_dict[\"eaddr\"])\n",
    "    e.display()#calling the display method of the employee object "
   ]
  },
  {
   "cell_type": "code",
   "execution_count": 9,
   "id": "73304944",
   "metadata": {},
   "outputs": [
    {
     "name": "stdout",
     "output_type": "stream",
     "text": [
      "<class 'dict'>\n",
      "ENO:101,ENAME:pratik,ESAL:1000.0,EADDR:bangalore\n"
     ]
    }
   ],
   "source": [
    "#if we want to convert the python JSON String format to Python Custome objects thats not possible \n",
    "#if we try to do then we will get the python dict object \n",
    "#that dict object we need to convert to the python custom object explicitly\n",
    "import json#importing the Json Module \n",
    "\n",
    "json_string='''{\n",
    "    \"eaddr\": \"bangalore\",\n",
    "    \"ename\": \"pratik\",\n",
    "    \"eno\": 101,\n",
    "    \"esal\": 1000.0\n",
    "}'''\n",
    "#here this is a multiline string literal \n",
    "#if we want to conver this python custom object then we will get python dict object which need the explicit conversion \n",
    "e_dict=json.loads(json_string)#converting the json string to python dict \n",
    "#now this python dict we have to convert to the custom object \n",
    "print(type(e_dict))#checking the type which i am expecting as dict type \n",
    "#now we have to convert the python dict to python employee object \n",
    "e=Employee(e_dict[\"eno\"],e_dict[\"ename\"],e_dict[\"esal\"],e_dict[\"eaddr\"])\n",
    "#now accessing the instance method display\n",
    "e.display()#calling the instance method "
   ]
  },
  {
   "cell_type": "code",
   "execution_count": 2,
   "id": "713251f4",
   "metadata": {},
   "outputs": [
    {
     "data": {
      "application/vnd.jupyter.widget-view+json": {
       "model_id": "afb302cbbe8542c68f13fc17b0902a28",
       "version_major": 2,
       "version_minor": 0
      },
      "text/plain": [
       "Button(description='Ergebnis absenden', style=ButtonStyle())"
      ]
     },
     "metadata": {},
     "output_type": "display_data"
    }
   ],
   "source": [
    "from ipywidgets import widgets, Button\n",
    "import requests\n",
    "btn = widgets.Button(description='Ergebnis absenden')\n",
    "\n",
    "display(btn);\n",
    "\n",
    "def submit_score(obj):\n",
    "    try:\n",
    "        if not endpoint or not uuid or not username:\n",
    "            raise RuntimeError(\"Parameters missing\");\n",
    "        elif not lm:\n",
    "            raise RuntimeError(\"LearningModule-Instance not as lm defined\")\n",
    "\n",
    "        score = lm.get_score();\n",
    "        taskEvaluationString = lm.get_task_evaluation_string();\n",
    "        response = requests.post(endpoint, data= {\"uuid\": uuid, \"grade\": score, \"username\": username, \"details\": taskEvaluationString })\n",
    "        if response.status_code != 200:\n",
    "            raise RuntimeError(\"Fehler beim Request: \" + str(response.status_code))\n",
    "    except RuntimeError as e:\n",
    "        print(e)\n",
    "    else:\n",
    "        print(\"Durchführung erfolgreich abgegeben!\")\n",
    "btn.on_click(submit_score)"
   ]
  },
  {
   "cell_type": "code",
   "execution_count": 10,
   "id": "67792e8d",
   "metadata": {},
   "outputs": [
    {
     "data": {
      "application/vnd.jupyter.widget-view+json": {
       "model_id": "94c9bddbc0324cd5a3e4bf37f8a51c75",
       "version_major": 2,
       "version_minor": 0
      },
      "text/plain": [
       "Button(description='Ergebnis absenden', style=ButtonStyle())"
      ]
     },
     "metadata": {},
     "output_type": "display_data"
    }
   ],
   "source": [
    "from ipywidgets import widgets, Button\n",
    "import requests\n",
    "btn = widgets.Button(description='Ergebnis absenden')\n",
    "\n",
    "display(btn);\n",
    "\n",
    "def submit_score(obj):\n",
    "    try:\n",
    "        if not endpoint or not uuid or not username:\n",
    "            raise RuntimeError(\"Parameters missing\");\n",
    "        elif not lm:\n",
    "            raise RuntimeError(\"LearningModule-Instance not as lm defined\")\n",
    "\n",
    "        score = lm.get_score();\n",
    "        taskEvaluationString = lm.get_task_evaluation_string();\n",
    "        response = requests.post(endpoint, data= {\"uuid\": uuid, \"grade\": score, \"username\": username, \"details\": taskEvaluationString })\n",
    "        if response.status_code != 200:\n",
    "            raise RuntimeError(\"Fehler beim Request: \" + str(response.status_code))\n",
    "    except RuntimeError as e:\n",
    "        print(e)\n",
    "    else:\n",
    "        print(\"Durchführung erfolgreich abgegeben!\")\n",
    "btn.on_click(submit_score)"
   ]
  },
  {
   "cell_type": "code",
   "execution_count": 15,
   "id": "fa588096",
   "metadata": {},
   "outputs": [
    {
     "data": {
      "text/plain": [
       "<_io.TextIOWrapper name='Employee.json' mode='r' encoding='cp1252'>"
      ]
     },
     "execution_count": 15,
     "metadata": {},
     "output_type": "execute_result"
    }
   ],
   "source": [
    "open (\"Employee.json\")\n"
   ]
  },
  {
   "cell_type": "code",
   "execution_count": 11,
   "id": "818d6dfe",
   "metadata": {},
   "outputs": [
    {
     "data": {
      "application/vnd.jupyter.widget-view+json": {
       "model_id": "2a6ae24965fc482ca7df943e195cf5b9",
       "version_major": 2,
       "version_minor": 0
      },
      "text/plain": [
       "Button(description='Ergebnis absenden', style=ButtonStyle())"
      ]
     },
     "metadata": {},
     "output_type": "display_data"
    }
   ],
   "source": [
    "from ipywidgets import widgets, Button\n",
    "import requests\n",
    "btn = widgets.Button(description='Ergebnis absenden')\n",
    "\n",
    "display(btn);\n",
    "\n",
    "def submit_score(obj):\n",
    "    try:\n",
    "        if not endpoint or not uuid or not username:\n",
    "            raise RuntimeError(\"Parameters missing\");\n",
    "        elif not lm:\n",
    "            raise RuntimeError(\"LearningModule-Instance not as lm defined\")\n",
    "\n",
    "        score = lm.get_score();\n",
    "        taskEvaluationString = lm.get_task_evaluation_string();\n",
    "        response = requests.post(endpoint, data= {\"uuid\": uuid, \"grade\": score, \"username\": username, \"details\": taskEvaluationString })\n",
    "        if response.status_code != 200:\n",
    "            raise RuntimeError(\"Fehler beim Request: \" + str(response.status_code))\n",
    "    except RuntimeError as e:\n",
    "        print(e)\n",
    "    else:\n",
    "        print(\"Durchführung erfolgreich abgegeben!\")\n",
    "btn.on_click(submit_score)"
   ]
  }
 ],
 "metadata": {
  "kernelspec": {
   "display_name": "Python 3 (ipykernel)",
   "language": "python",
   "name": "python3"
  },
  "language_info": {
   "codemirror_mode": {
    "name": "ipython",
    "version": 3
   },
   "file_extension": ".py",
   "mimetype": "text/x-python",
   "name": "python",
   "nbconvert_exporter": "python",
   "pygments_lexer": "ipython3",
   "version": "3.8.2"
  },
  "toc": {
   "base_numbering": 1,
   "nav_menu": {},
   "number_sections": true,
   "sideBar": true,
   "skip_h1_title": false,
   "title_cell": "Table of Contents",
   "title_sidebar": "Contents",
   "toc_cell": false,
   "toc_position": {},
   "toc_section_display": true,
   "toc_window_display": false
  }
 },
 "nbformat": 4,
 "nbformat_minor": 5
}
