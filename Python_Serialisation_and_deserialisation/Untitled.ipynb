{
 "cells": [
  {
   "cell_type": "code",
   "execution_count": 9,
   "id": "3b8d6842",
   "metadata": {},
   "outputs": [
    {
     "ename": "NameError",
     "evalue": "name 'python3' is not defined",
     "output_type": "error",
     "traceback": [
      "\u001b[1;31m---------------------------------------------------------------------------\u001b[0m",
      "\u001b[1;31mNameError\u001b[0m                                 Traceback (most recent call last)",
      "\u001b[1;32mC:\\Users\\611903~1\\AppData\\Local\\Temp/ipykernel_13976/170156838.py\u001b[0m in \u001b[0;36m<module>\u001b[1;34m\u001b[0m\n\u001b[1;32m----> 1\u001b[1;33m \u001b[0mkernel_name\u001b[0m \u001b[1;33m=\u001b[0m \u001b[0mpython3\u001b[0m\u001b[1;33m;\u001b[0m\u001b[1;33m\u001b[0m\u001b[1;33m\u001b[0m\u001b[0m\n\u001b[0m",
      "\u001b[1;31mNameError\u001b[0m: name 'python3' is not defined"
     ]
    }
   ],
   "source": [
    "kernel_name = python3;"
   ]
  },
  {
   "cell_type": "markdown",
   "id": "97d720f9",
   "metadata": {},
   "source": [
    "Kopiere diesen Code in die erste Zelle deines Notebooks und führe sie anschließend aus, wenn du das Notebook lokal in einem Docker Container ausführen möchtest([Anleitung](https://projectbase.medien.hs-duesseldorf.de/eild.nrw-module/lernmodul-datenanalyse#Docker-Lokal)):\n",
    "```python\n",
    "kernel_name = python3\n",
    "```"
   ]
  },
  {
   "cell_type": "markdown",
   "id": "5994974b",
   "metadata": {},
   "source": [
    ">1.its a python inbuilt module  \n",
    ">2. here in the pickle module if we want can serialize python object to the file we have to use the dump()<br>\n",
    ">3. but if we want to deserialize we have to load()<br>\n",
    ">4.but as we are directtly writing the python object to the file hence in this case we need to open and close the file with wb and rb mode <br>\n",
    ">5.once we wrote it we are unable to read it as it contain the object releted data<br> \n",
    ">6.while true if in that case if the file has no data we still try to read that then in that case we can get file EOF Exception which is end of life exception<br>"
   ]
  },
  {
   "cell_type": "code",
   "execution_count": 12,
   "id": "a7a45270",
   "metadata": {},
   "outputs": [
    {
     "name": "stdout",
     "output_type": "stream",
     "text": [
      "Enter Employee Number:101\n",
      "Enater Employeee Name:Puja\n",
      "Enter Employee Salary1000.0\n",
      "Enter Employee AddressBanaglore\n",
      "Do you want to add one more Employee Record[yes/no]yes\n",
      "Enter Employee Number:201\n",
      "Enater Employeee Name:Pusparaj\n",
      "Enter Employee Salary10000.0\n",
      "Enter Employee AddressBangalore\n",
      "Do you want to add one more Employee Record[yes/no]no\n"
     ]
    }
   ],
   "source": [
    "import pickle#importing the pickle module \n",
    "class Employee:#employee class \n",
    "    def __init__(self,eno,ename,esal,eaddr):#constructor with instance variable value \n",
    "        self.eno=eno#initializing the instance variable\n",
    "        self.ename=ename#initializing the instance variable\n",
    "        self.esal=esal#initializing the instance variable\n",
    "        self.eaddr=eaddr#initializing the instance variable\n",
    "    def display(self):#instance Method\n",
    "        print(f\"ENO:{self.eno},ENAME:{self.ename},ESAL:{self.esal},EADDR:{self.eaddr}\")\n",
    "with open(\"Emp.ser\",\"wb\") as f: #opening the file in write mode but as object not readable hence wb\n",
    "    while True:#infinity loop\n",
    "        eno=int(input(\"Enter Employee Number:\"))\n",
    "        ename=input(\"Enater Employeee Name:\")\n",
    "        esal=float(input(\"Enter Employee Salary\"))\n",
    "        eaddr=input(\"Enter Employee Address\")\n",
    "        e=Employee(eno,ename,esal,eaddr)#creating the employee Object \n",
    "        #here we need to insert that employee to the file \n",
    "        #for this we have to use the pickle module dump()\n",
    "        pickle.dump(e,f)#here dumping the Employee object to file \n",
    "        option=input(\"Do you want to add one more Employee Record[yes/no]\")#select the option\n",
    "        if option.lower()==\"no\":#checking the optrion satisfie4s or not\n",
    "           break#breaking the while loop\n",
    "    \n",
    "        "
   ]
  },
  {
   "cell_type": "code",
   "execution_count": 13,
   "id": "00970ab2",
   "metadata": {},
   "outputs": [
    {
     "name": "stdout",
     "output_type": "stream",
     "text": [
      "ENO:101,ENAME:Puja,ESAL:1000.0,EADDR:Banaglore\n",
      "ENO:201,ENAME:Pusparaj,ESAL:10000.0,EADDR:Bangalore\n"
     ]
    }
   ],
   "source": [
    "#here in order to deserialize we have to use the load function on the pickle module \n",
    "import pickle#importing the pickle module \n",
    "with open(\"Emp.ser\",\"rb\")as f:#opening the file in read mode\n",
    "#but as the file content the object related dat hance we have to use the \"rb\" m,ode for reading\n",
    "    while True:\n",
    "        try:#here we are taking the try block \n",
    "            e=pickle.load(f)#loading the employee object from the file \n",
    "        except EOFError as e:#handling the EOF Error caused due to While True and limited Object\n",
    "            break#breaking the loop\n",
    "        else:#if No Exception in the try block then \n",
    "            e.display()\n",
    "        "
   ]
  },
  {
   "cell_type": "code",
   "execution_count": 10,
   "id": "ed4734c6",
   "metadata": {},
   "outputs": [
    {
     "data": {
      "application/vnd.jupyter.widget-view+json": {
       "model_id": "2f66355992ed45e3a36c7a077059c880",
       "version_major": 2,
       "version_minor": 0
      },
      "text/plain": [
       "Button(description='Ergebnis absenden', style=ButtonStyle())"
      ]
     },
     "metadata": {},
     "output_type": "display_data"
    }
   ],
   "source": [
    "from ipywidgets import widgets, Button\n",
    "import requests\n",
    "btn = widgets.Button(description='Ergebnis absenden')\n",
    "\n",
    "display(btn);\n",
    "\n",
    "def submit_score(obj):\n",
    "    try:\n",
    "        if not endpoint or not uuid or not username:\n",
    "            raise RuntimeError(\"Parameters missing\");\n",
    "        elif not lm:\n",
    "            raise RuntimeError(\"LearningModule-Instance not as lm defined\")\n",
    "\n",
    "        score = lm.get_score();\n",
    "        taskEvaluationString = lm.get_task_evaluation_string();\n",
    "        response = requests.post(endpoint, data= {\"uuid\": uuid, \"grade\": score, \"username\": username, \"details\": taskEvaluationString })\n",
    "        if response.status_code != 200:\n",
    "            raise RuntimeError(\"Fehler beim Request: \" + str(response.status_code))\n",
    "    except RuntimeError as e:\n",
    "        print(e)\n",
    "    else:\n",
    "        print(\"Durchführung erfolgreich abgegeben!\")\n",
    "btn.on_click(submit_score)"
   ]
  },
  {
   "cell_type": "code",
   "execution_count": 1,
   "id": "b9acbcdb",
   "metadata": {},
   "outputs": [
    {
     "data": {
      "application/vnd.jupyter.widget-view+json": {
       "model_id": "27f11a8e946a4697a89c3af2269414fc",
       "version_major": 2,
       "version_minor": 0
      },
      "text/plain": [
       "Button(description='Ergebnis absenden', style=ButtonStyle())"
      ]
     },
     "metadata": {},
     "output_type": "display_data"
    }
   ],
   "source": [
    "from ipywidgets import widgets, Button\n",
    "import requests\n",
    "btn = widgets.Button(description='Ergebnis absenden')\n",
    "\n",
    "display(btn);\n",
    "\n",
    "def submit_score(obj):\n",
    "    try:\n",
    "        if not endpoint or not uuid or not username:\n",
    "            raise RuntimeError(\"Parameters missing\");\n",
    "        elif not lm:\n",
    "            raise RuntimeError(\"LearningModule-Instance not as lm defined\")\n",
    "\n",
    "        score = lm.get_score();\n",
    "        taskEvaluationString = lm.get_task_evaluation_string();\n",
    "        response = requests.post(endpoint, data= {\"uuid\": uuid, \"grade\": score, \"username\": username, \"details\": taskEvaluationString })\n",
    "        if response.status_code != 200:\n",
    "            raise RuntimeError(\"Fehler beim Request: \" + str(response.status_code))\n",
    "    except RuntimeError as e:\n",
    "        print(e)\n",
    "    else:\n",
    "        print(\"Durchführung erfolgreich abgegeben!\")\n",
    "btn.on_click(submit_score)"
   ]
  }
 ],
 "metadata": {
  "kernelspec": {
   "display_name": "Python 3 (ipykernel)",
   "language": "python",
   "name": "python3"
  },
  "language_info": {
   "codemirror_mode": {
    "name": "ipython",
    "version": 3
   },
   "file_extension": ".py",
   "mimetype": "text/x-python",
   "name": "python",
   "nbconvert_exporter": "python",
   "pygments_lexer": "ipython3",
   "version": "3.8.2"
  },
  "toc": {
   "base_numbering": 1,
   "nav_menu": {},
   "number_sections": true,
   "sideBar": true,
   "skip_h1_title": false,
   "title_cell": "Table of Contents",
   "title_sidebar": "Contents",
   "toc_cell": false,
   "toc_position": {},
   "toc_section_display": true,
   "toc_window_display": false
  }
 },
 "nbformat": 4,
 "nbformat_minor": 5
}
