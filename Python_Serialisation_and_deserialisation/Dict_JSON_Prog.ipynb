{
 "cells": [
  {
   "cell_type": "code",
   "execution_count": 1,
   "id": "de9f5020",
   "metadata": {},
   "outputs": [
    {
     "ename": "NameError",
     "evalue": "name 'python3' is not defined",
     "output_type": "error",
     "traceback": [
      "\u001b[1;31m---------------------------------------------------------------------------\u001b[0m",
      "\u001b[1;31mNameError\u001b[0m                                 Traceback (most recent call last)",
      "\u001b[1;32mC:\\Users\\611903~1\\AppData\\Local\\Temp/ipykernel_14368/170156838.py\u001b[0m in \u001b[0;36m<module>\u001b[1;34m\u001b[0m\n\u001b[1;32m----> 1\u001b[1;33m \u001b[0mkernel_name\u001b[0m \u001b[1;33m=\u001b[0m \u001b[0mpython3\u001b[0m\u001b[1;33m;\u001b[0m\u001b[1;33m\u001b[0m\u001b[1;33m\u001b[0m\u001b[0m\n\u001b[0m",
      "\u001b[1;31mNameError\u001b[0m: name 'python3' is not defined"
     ]
    }
   ],
   "source": [
    "kernel_name = python3;"
   ]
  },
  {
   "cell_type": "markdown",
   "id": "75b42a7f",
   "metadata": {},
   "source": [
    "Kopiere diesen Code in die erste Zelle deines Notebooks und führe sie anschließend aus, wenn du das Notebook lokal in einem Docker Container ausführen möchtest([Anleitung](https://projectbase.medien.hs-duesseldorf.de/eild.nrw-module/lernmodul-datenanalyse#Docker-Lokal)):\n",
    "```python\n",
    "kernel_name = python3\n",
    "```"
   ]
  },
  {
   "cell_type": "markdown",
   "id": "5b4d6b55",
   "metadata": {},
   "source": [
    ">. Here in the case of json Module its a python inbuilt module<br> \n",
    ">. if we want to serialize our python dict object to JSON String /JSON String and then to a JSON file we have to use dumps() and dump()<br>\n",
    ">. similarly we have to convert the JSON String to Python dict and from JSON File having JSON String to JSON file then we have to use the load() and loads()<br>\n",
    ">. but remmebr that this conversion can only happen for the python dict object not for the custome class object like employee ,customer and etc<br>\n"
   ]
  },
  {
   "cell_type": "code",
   "execution_count": 6,
   "id": "1c1d0067",
   "metadata": {},
   "outputs": [
    {
     "name": "stdout",
     "output_type": "stream",
     "text": [
      "<class 'str'>\n",
      "{\n",
      "    \"address\": \"Bangalore\",\n",
      "    \"isActive\": true,\n",
      "    \"name\": \"pratik\",\n",
      "    \"no\": 101,\n",
      "    \"sal\": 1000.0\n",
      "}\n",
      "<class 'dict'>\n",
      "{'address': 'Bangalore', 'isActive': True, 'name': 'pratik', 'no': 101, 'sal': 1000.0}\n"
     ]
    }
   ],
   "source": [
    "import json#importing the json module\n",
    "Employee={\n",
    "            \"no\":101,\n",
    "            \"name\":\"pratik\",\n",
    "            \"sal\":1000.0,\n",
    "            \"address\":\"Bangalore\",\n",
    "            \"isActive\":True,\n",
    "        }\n",
    "#this is employee python dict object if we try to convert this python dict object to JSON string we have to use JSON Module with loadd()\n",
    "#serialising to JSON String\n",
    "json_string=json.dumps(Employee,indent=4,sort_keys=\"True\")#converting the python dict object to json string\n",
    "#here using the indent for indent from the space and sort key to sort the keys of JSOn generated\n",
    "print(type(json_string))#checking the type of json_string\n",
    "print(json_string)\n",
    "#deserailzing the JSON String to python dict object\n",
    "e1=json.loads(json_string)#converting the json String to python dict and checking its type\n",
    "print(type(e1))#checking the type of object which is dict object \n",
    "print(e1)\n"
   ]
  },
  {
   "cell_type": "code",
   "execution_count": 9,
   "id": "dcaf579d",
   "metadata": {},
   "outputs": [
    {
     "name": "stdout",
     "output_type": "stream",
     "text": [
      "<class 'dict'>\n",
      "{'no': 101, 'name': 'pratik', 'sal': 1000.0, 'address': 'Bangalore', 'isActive': True}\n"
     ]
    }
   ],
   "source": [
    "#if we want to serialize the JSON string to a file then we can use the dump()\n",
    "#if we want to read from the JSON File to JSON String and then conver that to python dicrt object we need to use the load()\n",
    "import json #importing the JSON Module \n",
    "Employee={\n",
    "            \"no\":101,\n",
    "            \"name\":\"pratik\",\n",
    "            \"sal\":1000.0,\n",
    "            \"address\":\"Bangalore\",\n",
    "            \"isActive\":True,\n",
    "        }\n",
    "#here as we are writing the text data hence we have to use the mode as read mode \n",
    "with open (\"Emp.json\",\"w\") as f:#converting the Employee object to JSON String & writeing that file\n",
    "    json.dump(Employee,f)#wreign the employee object to fuile after convertting to JSON String \n",
    "#now we want to deserialize from  the file i.e JSOMN file from JSON File to JSON String and     then to a file\n",
    "with open (\"Emp.json\",\"r\") as f:#opening the file in the read mode \n",
    "    e1=json.load(f)#reading the JSON from file and converting to employee object\n",
    "    print(type(e1))#checking the type which i am expecting as python dict\n",
    "    print(e1)#converting to the employee object "
   ]
  },
  {
   "cell_type": "code",
   "execution_count": 2,
   "id": "e133aa4e",
   "metadata": {},
   "outputs": [
    {
     "data": {
      "application/vnd.jupyter.widget-view+json": {
       "model_id": "82cf7b12491a4df2b8192d7dd729ea53",
       "version_major": 2,
       "version_minor": 0
      },
      "text/plain": [
       "Button(description='Ergebnis absenden', style=ButtonStyle())"
      ]
     },
     "metadata": {},
     "output_type": "display_data"
    }
   ],
   "source": [
    "from ipywidgets import widgets, Button\n",
    "import requests\n",
    "btn = widgets.Button(description='Ergebnis absenden')\n",
    "\n",
    "display(btn);\n",
    "\n",
    "def submit_score(obj):\n",
    "    try:\n",
    "        if not endpoint or not uuid or not username:\n",
    "            raise RuntimeError(\"Parameters missing\");\n",
    "        elif not lm:\n",
    "            raise RuntimeError(\"LearningModule-Instance not as lm defined\")\n",
    "\n",
    "        score = lm.get_score();\n",
    "        taskEvaluationString = lm.get_task_evaluation_string();\n",
    "        response = requests.post(endpoint, data= {\"uuid\": uuid, \"grade\": score, \"username\": username, \"details\": taskEvaluationString })\n",
    "        if response.status_code != 200:\n",
    "            raise RuntimeError(\"Fehler beim Request: \" + str(response.status_code))\n",
    "    except RuntimeError as e:\n",
    "        print(e)\n",
    "    else:\n",
    "        print(\"Durchführung erfolgreich abgegeben!\")\n",
    "btn.on_click(submit_score)"
   ]
  },
  {
   "cell_type": "code",
   "execution_count": 10,
   "id": "858bd49a",
   "metadata": {},
   "outputs": [
    {
     "data": {
      "application/vnd.jupyter.widget-view+json": {
       "model_id": "76e1c4bcfe094a3983ca2bc6ac25131c",
       "version_major": 2,
       "version_minor": 0
      },
      "text/plain": [
       "Button(description='Ergebnis absenden', style=ButtonStyle())"
      ]
     },
     "metadata": {},
     "output_type": "display_data"
    }
   ],
   "source": [
    "from ipywidgets import widgets, Button\n",
    "import requests\n",
    "btn = widgets.Button(description='Ergebnis absenden')\n",
    "\n",
    "display(btn);\n",
    "\n",
    "def submit_score(obj):\n",
    "    try:\n",
    "        if not endpoint or not uuid or not username:\n",
    "            raise RuntimeError(\"Parameters missing\");\n",
    "        elif not lm:\n",
    "            raise RuntimeError(\"LearningModule-Instance not as lm defined\")\n",
    "\n",
    "        score = lm.get_score();\n",
    "        taskEvaluationString = lm.get_task_evaluation_string();\n",
    "        response = requests.post(endpoint, data= {\"uuid\": uuid, \"grade\": score, \"username\": username, \"details\": taskEvaluationString })\n",
    "        if response.status_code != 200:\n",
    "            raise RuntimeError(\"Fehler beim Request: \" + str(response.status_code))\n",
    "    except RuntimeError as e:\n",
    "        print(e)\n",
    "    else:\n",
    "        print(\"Durchführung erfolgreich abgegeben!\")\n",
    "btn.on_click(submit_score)"
   ]
  }
 ],
 "metadata": {
  "kernelspec": {
   "display_name": "Python 3 (ipykernel)",
   "language": "python",
   "name": "python3"
  },
  "language_info": {
   "codemirror_mode": {
    "name": "ipython",
    "version": 3
   },
   "file_extension": ".py",
   "mimetype": "text/x-python",
   "name": "python",
   "nbconvert_exporter": "python",
   "pygments_lexer": "ipython3",
   "version": "3.8.2"
  },
  "toc": {
   "base_numbering": 1,
   "nav_menu": {},
   "number_sections": true,
   "sideBar": true,
   "skip_h1_title": false,
   "title_cell": "Table of Contents",
   "title_sidebar": "Contents",
   "toc_cell": false,
   "toc_position": {},
   "toc_section_display": true,
   "toc_window_display": false
  }
 },
 "nbformat": 4,
 "nbformat_minor": 5
}
