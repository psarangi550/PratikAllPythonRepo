{
 "cells": [
  {
   "cell_type": "code",
   "execution_count": 1,
   "id": "fd2920ab",
   "metadata": {},
   "outputs": [
    {
     "ename": "NameError",
     "evalue": "name 'python3' is not defined",
     "output_type": "error",
     "traceback": [
      "\u001b[1;31m---------------------------------------------------------------------------\u001b[0m",
      "\u001b[1;31mNameError\u001b[0m                                 Traceback (most recent call last)",
      "\u001b[1;32mC:\\Users\\611903~1\\AppData\\Local\\Temp/ipykernel_9572/170156838.py\u001b[0m in \u001b[0;36m<module>\u001b[1;34m\u001b[0m\n\u001b[1;32m----> 1\u001b[1;33m \u001b[0mkernel_name\u001b[0m \u001b[1;33m=\u001b[0m \u001b[0mpython3\u001b[0m\u001b[1;33m;\u001b[0m\u001b[1;33m\u001b[0m\u001b[1;33m\u001b[0m\u001b[0m\n\u001b[0m",
      "\u001b[1;31mNameError\u001b[0m: name 'python3' is not defined"
     ]
    }
   ],
   "source": [
    "kernel_name = python3;"
   ]
  },
  {
   "cell_type": "markdown",
   "id": "06e586cf",
   "metadata": {},
   "source": [
    "Kopiere diesen Code in die erste Zelle deines Notebooks und führe sie anschließend aus, wenn du das Notebook lokal in einem Docker Container ausführen möchtest([Anleitung](https://projectbase.medien.hs-duesseldorf.de/eild.nrw-module/lernmodul-datenanalyse#Docker-Lokal)):\n",
    "```python\n",
    "kernel_name = python3\n",
    "```"
   ]
  },
  {
   "cell_type": "markdown",
   "id": "d559f74a",
   "metadata": {},
   "source": [
    ">. we need to install the json pickjle module as its not the inbuilt module <br> <br>\n",
    ">. if we want to direct custom class object to the json String r json file we haver to use the json pickle module  <br> <br>\n",
    ">. if we want direct custom class object from the JSON File or JSOn String then we have toi use the json pickle module <br> <br>\n",
    ">. There will not any internidiate stage like in the case of json module  which is python dict object  <br> <br>\n",
    ">. json pickle module contain encode and decode function to perform the serialisation and deserailsiation with respect to python custom object <br> <br>\n",
    ">. if we want to serialize with respect to a file then we have to use the file i/o operation<br> <br>\n",
    ">. while serializing an additional property will be added to the string which will help in deserailization <br><br>\n",
    ">. py/object\": \"__main__.Employee is the extra object "
   ]
  },
  {
   "cell_type": "code",
   "execution_count": 3,
   "id": "2677a1ea",
   "metadata": {},
   "outputs": [
    {
     "name": "stdout",
     "output_type": "stream",
     "text": [
      "Collecting jsonpickle"
     ]
    },
    {
     "name": "stderr",
     "output_type": "stream",
     "text": [
      "WARNING: You are using pip version 21.1.3; however, version 21.2.1 is available.\n",
      "You should consider upgrading via the 'c:\\users\\611903295\\downloads\\python\\myvirtualenv\\scripts\\python.exe -m pip install --upgrade pip' command."
     ]
    },
    {
     "name": "stdout",
     "output_type": "stream",
     "text": [
      "\n",
      "  Using cached jsonpickle-2.0.0-py2.py3-none-any.whl (37 kB)\n",
      "Installing collected packages: jsonpickle\n",
      "Successfully installed jsonpickle-2.0.0\n"
     ]
    },
    {
     "name": "stderr",
     "output_type": "stream",
     "text": [
      "\n"
     ]
    }
   ],
   "source": [
    "!pip install jsonpickle\n"
   ]
  },
  {
   "cell_type": "code",
   "execution_count": 9,
   "id": "99cf5ce4",
   "metadata": {},
   "outputs": [
    {
     "name": "stdout",
     "output_type": "stream",
     "text": [
      "{\"py/object\": \"__main__.Employee\", \"eno\": 101, \"ename\": \"pratik\", \"esal\": 1000.0, \"eaddr\": \"bangalore\"}\n",
      "ENO:101,ENAME:pratik,ESAL:1000.0,EADDR:bangalore\n",
      "ENO:101,ENAME:pratik,ESAL:1000.0,EADDR:bangalore\n"
     ]
    }
   ],
   "source": [
    "#her we have to use the json module json pickle module hence we need to importt that module \n",
    "import jsonpickle#importing the module \n",
    "class Employee:\n",
    "    def __init__(self,eno,ename,esal,eaddr):\n",
    "        self.eno=eno#initializing the instance variable\n",
    "        self.ename=ename#initializing the instance variable\n",
    "        self.esal=esal#initializing the instance variable\n",
    "        self.eaddr=eaddr#initializing the instance variable\n",
    "    def display(self):#instance Method\n",
    "        print(f\"ENO:{self.eno},ENAME:{self.ename},ESAL:{self.esal},EADDR:{self.eaddr}\")\n",
    "#creating the employee object \n",
    "e=Employee(101,\"pratik\",1000.0,\"bangalore\")\n",
    "#now we want to serialise this Employee object to Json String hence here we have to use the json String \n",
    "json_string=jsonpickle.encode(e)\n",
    "print(json_string)#printing the JSON string from the Employee Object Directly\n",
    "#if we want to serialize to a file we will have to use the Normal file i/o operation \n",
    "with open(\"Employee_Ser.json\",\"w\") as f:#open the file in write mode with file opbject as f\n",
    "    #now we can write the converted json_string to the file by file i/o operation i.e write()\n",
    "    f.write(json_string)#writing the JSON String to the json File \n",
    "#now if we want to conver the json file to the employeee object then \n",
    "employeee_obj=jsonpickle.decode(json_string)#converting the jsoin string to employee object directly \n",
    "#now this employee object can access the display()\n",
    "employeee_obj.display()\n",
    "#if we want to convert the from the json file then we have to read from the file using the file i/o opertaion and then we can write to the employee object \n",
    "with open(\"Employee_Ser.json\",\"r\") as f:#open the file in read mode with file opbject as f\n",
    "    data=f.read()#here will be fetch the json file to json string \n",
    "#now we can perform the serialisation from this JSON String to the Custom objects\n",
    "emp_obj=jsonpickle.decode(data)#converting to the employee object from the json string using the decode method \n",
    "emp_obj.display()#calling the instance method "
   ]
  },
  {
   "cell_type": "code",
   "execution_count": 2,
   "id": "c48979d9",
   "metadata": {},
   "outputs": [
    {
     "data": {
      "application/vnd.jupyter.widget-view+json": {
       "model_id": "00a5242b359247b296b1bd36975c79a1",
       "version_major": 2,
       "version_minor": 0
      },
      "text/plain": [
       "Button(description='Ergebnis absenden', style=ButtonStyle())"
      ]
     },
     "metadata": {},
     "output_type": "display_data"
    }
   ],
   "source": [
    "from ipywidgets import widgets, Button\n",
    "import requests\n",
    "btn = widgets.Button(description='Ergebnis absenden')\n",
    "\n",
    "display(btn);\n",
    "\n",
    "def submit_score(obj):\n",
    "    try:\n",
    "        if not endpoint or not uuid or not username:\n",
    "            raise RuntimeError(\"Parameters missing\");\n",
    "        elif not lm:\n",
    "            raise RuntimeError(\"LearningModule-Instance not as lm defined\")\n",
    "\n",
    "        score = lm.get_score();\n",
    "        taskEvaluationString = lm.get_task_evaluation_string();\n",
    "        response = requests.post(endpoint, data= {\"uuid\": uuid, \"grade\": score, \"username\": username, \"details\": taskEvaluationString })\n",
    "        if response.status_code != 200:\n",
    "            raise RuntimeError(\"Fehler beim Request: \" + str(response.status_code))\n",
    "    except RuntimeError as e:\n",
    "        print(e)\n",
    "    else:\n",
    "        print(\"Durchführung erfolgreich abgegeben!\")\n",
    "btn.on_click(submit_score)"
   ]
  }
 ],
 "metadata": {
  "kernelspec": {
   "display_name": "Python 3 (ipykernel)",
   "language": "python",
   "name": "python3"
  },
  "language_info": {
   "codemirror_mode": {
    "name": "ipython",
    "version": 3
   },
   "file_extension": ".py",
   "mimetype": "text/x-python",
   "name": "python",
   "nbconvert_exporter": "python",
   "pygments_lexer": "ipython3",
   "version": "3.8.2"
  },
  "toc": {
   "base_numbering": 1,
   "nav_menu": {},
   "number_sections": true,
   "sideBar": true,
   "skip_h1_title": false,
   "title_cell": "Table of Contents",
   "title_sidebar": "Contents",
   "toc_cell": false,
   "toc_position": {},
   "toc_section_display": true,
   "toc_window_display": false
  }
 },
 "nbformat": 4,
 "nbformat_minor": 5
}
