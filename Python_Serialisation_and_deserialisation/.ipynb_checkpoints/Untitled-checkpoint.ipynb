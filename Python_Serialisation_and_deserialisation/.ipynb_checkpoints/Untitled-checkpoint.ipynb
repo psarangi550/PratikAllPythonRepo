{
 "cells": [
  {
   "cell_type": "code",
   "execution_count": 1,
   "id": "651eeb64",
   "metadata": {},
   "outputs": [
    {
     "ename": "NameError",
     "evalue": "name 'python3' is not defined",
     "output_type": "error",
     "traceback": [
      "\u001b[1;31m---------------------------------------------------------------------------\u001b[0m",
      "\u001b[1;31mNameError\u001b[0m                                 Traceback (most recent call last)",
      "\u001b[1;32mC:\\Users\\611903~1\\AppData\\Local\\Temp/ipykernel_13976/170156838.py\u001b[0m in \u001b[0;36m<module>\u001b[1;34m\u001b[0m\n\u001b[1;32m----> 1\u001b[1;33m \u001b[0mkernel_name\u001b[0m \u001b[1;33m=\u001b[0m \u001b[0mpython3\u001b[0m\u001b[1;33m;\u001b[0m\u001b[1;33m\u001b[0m\u001b[1;33m\u001b[0m\u001b[0m\n\u001b[0m",
      "\u001b[1;31mNameError\u001b[0m: name 'python3' is not defined"
     ]
    }
   ],
   "source": [
    "kernel_name = python3;"
   ]
  },
  {
   "cell_type": "markdown",
   "id": "f018b75d",
   "metadata": {},
   "source": [
    "Kopiere diesen Code in die erste Zelle deines Notebooks und führe sie anschließend aus, wenn du das Notebook lokal in einem Docker Container ausführen möchtest([Anleitung](https://projectbase.medien.hs-duesseldorf.de/eild.nrw-module/lernmodul-datenanalyse#Docker-Lokal)):\n",
    "```python\n",
    "kernel_name = python3\n",
    "```"
   ]
  },
  {
   "cell_type": "markdown",
   "id": "05aac755",
   "metadata": {},
   "source": [
    ">1.its a python inbuilt module  \n",
    ">2. here in the pickle module if we want can serialize python object to the file we have to use the dump()<br>\n",
    ">3. but if we want to deserialize we have to load()<br>\n",
    ">4.but as we are directtly writing the python object to the file hence in this case we need to open and close the file with wb and rb mode <br>\n",
    ">5.once we wrote it we are unable to read it as it contain the object releted data<br> \n",
    ">6.while true if in that case if the file has no data we still try to read that then in that case we can get file EOF Exception which is end of life exception<br>"
   ]
  },
  {
   "cell_type": "code",
   "execution_count": null,
   "id": "fe21c2f2",
   "metadata": {},
   "outputs": [],
   "source": [
    "import pickle#importing the pickle module \n",
    "class Employee:#employee class \n",
    "    def __init__(self,eno,ename,esal,eaddr):#constructor with instance variable value \n",
    "        self.eno=eno#initializing the instance variable\n",
    "        self.ename=ename#initializing the instance variable\n",
    "        self.esal=esal#initializing the instance variable\n",
    "        self.eaddr=eaddr#initializing the instance variable\n",
    "    def display(self):#instance Method\n",
    "        print(f\"ENO:{self.eno},ENAME:{self.ename},ESAL:{self.esal},EADDR:{self.eaddr}\")\n",
    "        "
   ]
  },
  {
   "cell_type": "code",
   "execution_count": 2,
   "id": "e5283fbc",
   "metadata": {},
   "outputs": [
    {
     "data": {
      "application/vnd.jupyter.widget-view+json": {
       "model_id": "5d8ed651687d49448e52cb98ca32f4f9",
       "version_major": 2,
       "version_minor": 0
      },
      "text/plain": [
       "Button(description='Ergebnis absenden', style=ButtonStyle())"
      ]
     },
     "metadata": {},
     "output_type": "display_data"
    }
   ],
   "source": [
    "from ipywidgets import widgets, Button\n",
    "import requests\n",
    "btn = widgets.Button(description='Ergebnis absenden')\n",
    "\n",
    "display(btn);\n",
    "\n",
    "def submit_score(obj):\n",
    "    try:\n",
    "        if not endpoint or not uuid or not username:\n",
    "            raise RuntimeError(\"Parameters missing\");\n",
    "        elif not lm:\n",
    "            raise RuntimeError(\"LearningModule-Instance not as lm defined\")\n",
    "\n",
    "        score = lm.get_score();\n",
    "        taskEvaluationString = lm.get_task_evaluation_string();\n",
    "        response = requests.post(endpoint, data= {\"uuid\": uuid, \"grade\": score, \"username\": username, \"details\": taskEvaluationString })\n",
    "        if response.status_code != 200:\n",
    "            raise RuntimeError(\"Fehler beim Request: \" + str(response.status_code))\n",
    "    except RuntimeError as e:\n",
    "        print(e)\n",
    "    else:\n",
    "        print(\"Durchführung erfolgreich abgegeben!\")\n",
    "btn.on_click(submit_score)"
   ]
  }
 ],
 "metadata": {
  "kernelspec": {
   "display_name": "Python 3 (ipykernel)",
   "language": "python",
   "name": "python3"
  },
  "language_info": {
   "codemirror_mode": {
    "name": "ipython",
    "version": 3
   },
   "file_extension": ".py",
   "mimetype": "text/x-python",
   "name": "python",
   "nbconvert_exporter": "python",
   "pygments_lexer": "ipython3",
   "version": "3.8.2"
  },
  "toc": {
   "base_numbering": 1,
   "nav_menu": {},
   "number_sections": true,
   "sideBar": true,
   "skip_h1_title": false,
   "title_cell": "Table of Contents",
   "title_sidebar": "Contents",
   "toc_cell": false,
   "toc_position": {},
   "toc_section_display": true,
   "toc_window_display": false
  }
 },
 "nbformat": 4,
 "nbformat_minor": 5
}
