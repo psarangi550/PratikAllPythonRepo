{
 "cells": [
  {
   "cell_type": "code",
   "execution_count": 1,
   "id": "f460e0a4",
   "metadata": {},
   "outputs": [
    {
     "ename": "NameError",
     "evalue": "name 'python3' is not defined",
     "output_type": "error",
     "traceback": [
      "\u001b[1;31m---------------------------------------------------------------------------\u001b[0m",
      "\u001b[1;31mNameError\u001b[0m                                 Traceback (most recent call last)",
      "\u001b[1;32mC:\\Users\\611903~1\\AppData\\Local\\Temp/ipykernel_5092/170156838.py\u001b[0m in \u001b[0;36m<module>\u001b[1;34m\u001b[0m\n\u001b[1;32m----> 1\u001b[1;33m \u001b[0mkernel_name\u001b[0m \u001b[1;33m=\u001b[0m \u001b[0mpython3\u001b[0m\u001b[1;33m;\u001b[0m\u001b[1;33m\u001b[0m\u001b[1;33m\u001b[0m\u001b[0m\n\u001b[0m",
      "\u001b[1;31mNameError\u001b[0m: name 'python3' is not defined"
     ]
    }
   ],
   "source": [
    "kernel_name = python3;"
   ]
  },
  {
   "cell_type": "markdown",
   "id": "cd2cda1d",
   "metadata": {},
   "source": [
    "Kopiere diesen Code in die erste Zelle deines Notebooks und führe sie anschließend aus, wenn du das Notebook lokal in einem Docker Container ausführen möchtest([Anleitung](https://projectbase.medien.hs-duesseldorf.de/eild.nrw-module/lernmodul-datenanalyse#Docker-Lokal)):\n",
    "```python\n",
    "kernel_name = python3\n",
    "```"
   ]
  },
  {
   "cell_type": "code",
   "execution_count": null,
   "id": "ebf19146",
   "metadata": {},
   "outputs": [],
   "source": [
    "#now here in this case we hwve to use the yaml language\n",
    "#if we want to convert the python dict object to YAML language(String and (String and file)) or from YAML to python dict  that can be done with the pyaml package yaml module \n",
    "#by default this pyaml(python YAML) package is not available we need to install using pip\n",
    "#but the pyaml package contain yaml module which provide dump() for serialisation to JSON String and JSOn File both\n",
    "#and we have the  yaml module inside pyaml , this yaml module has load() to deserialize from JSON String and JSOn File to python dict object directly \n",
    "#but the load() is depricated we have to use the safe_load() method for the same \n",
    "#YAML Does not contain any curley braces, its auto indented and auto sorted by the keys\n",
    "#it is more advanc ed than the JSON more light weight and human readable \n",
    "#1.No Curley Braces and no No Quotes are required for YAML "
   ]
  },
  {
   "cell_type": "code",
   "execution_count": 3,
   "id": "a746feef",
   "metadata": {
    "scrolled": true
   },
   "outputs": [
    {
     "name": "stdout",
     "output_type": "stream",
     "text": [
      "Collecting pyaml"
     ]
    },
    {
     "name": "stderr",
     "output_type": "stream",
     "text": [
      "WARNING: You are using pip version 21.1.3; however, version 21.2.1 is available.\n",
      "You should consider upgrading via the 'c:\\users\\611903295\\downloads\\python\\myvirtualenv\\scripts\\python.exe -m pip install --upgrade pip' command.\n"
     ]
    },
    {
     "name": "stdout",
     "output_type": "stream",
     "text": [
      "\n",
      "  Using cached pyaml-20.4.0-py2.py3-none-any.whl (17 kB)\n",
      "Requirement already satisfied: PyYAML in c:\\users\\611903295\\downloads\\python\\myvirtualenv\\lib\\site-packages (from pyaml) (5.4.1)\n",
      "Installing collected packages: pyaml\n",
      "Successfully installed pyaml-20.4.0\n"
     ]
    }
   ],
   "source": [
    "!pip install pyaml"
   ]
  },
  {
   "cell_type": "code",
   "execution_count": 13,
   "id": "c1803823",
   "metadata": {},
   "outputs": [
    {
     "name": "stdout",
     "output_type": "stream",
     "text": [
      "address: Bangalore\n",
      "isActive: true\n",
      "name: pratik\n",
      "'no': 101\n",
      "sal: 1000.0\n",
      "\n",
      "{'address': 'Bangalore', 'isActive': True, 'name': 'pratik', 'no': 101, 'sal': 1000.0}\n",
      "{'address': 'Bangalore', 'isActive': True, 'name': 'pratik', 'no': 101, 'sal': 1000.0}\n",
      "All operation covered successfully\n"
     ]
    },
    {
     "data": {
      "application/javascript": [
       "\n",
       "            setTimeout(function() {\n",
       "                var nbb_cell_id = 13;\n",
       "                var nbb_unformatted_code = \"from pyaml import yaml  # importing the pyaml package yaml module\\n\\nemployee = {\\n    \\\"no\\\": 101,\\n    \\\"name\\\": \\\"pratik\\\",\\n    \\\"sal\\\": 1000.0,\\n    \\\"address\\\": \\\"Bangalore\\\",\\n    \\\"isActive\\\": True,\\n}\\n# employee python object\\n# serialising to a YAML String\\nyaml_string = yaml.dump(\\n    employee\\n)  # converting the employeee object in to the yaml string\\nprint(\\n    yaml_string\\n)  # this yaml String will be auto indented and auto srted with no quores and curly brace\\n# here we can use the same dump() to erialize to a employee objects to yaml file directly\\nwith open(\\\"emp.yaml\\\", \\\"w\\\") as f:  # ipen the file in write mode\\n    yaml.dump(employee, f)  # dumping the employee object to the file\\n# de-serailzing frrom yaml String to python dict\\ne_dict = yaml.safe_load(yaml_string)\\nprint(e_dict)  # prining the employee dictionary\\n\\n# de seralization from the yaml file\\nwith open(\\\"emp.yaml\\\", \\\"r\\\") as f:  # opening the file in read mode and file object\\n    emp = yaml.safe_load(f)  # converting the yaml file to python dict\\n    print(emp)\\nprint(\\\"All operation covered successfully\\\")\";\n",
       "                var nbb_formatted_code = \"from pyaml import yaml  # importing the pyaml package yaml module\\n\\nemployee = {\\n    \\\"no\\\": 101,\\n    \\\"name\\\": \\\"pratik\\\",\\n    \\\"sal\\\": 1000.0,\\n    \\\"address\\\": \\\"Bangalore\\\",\\n    \\\"isActive\\\": True,\\n}\\n# employee python object\\n# serialising to a YAML String\\nyaml_string = yaml.dump(\\n    employee\\n)  # converting the employeee object in to the yaml string\\nprint(\\n    yaml_string\\n)  # this yaml String will be auto indented and auto srted with no quores and curly brace\\n# here we can use the same dump() to erialize to a employee objects to yaml file directly\\nwith open(\\\"emp.yaml\\\", \\\"w\\\") as f:  # ipen the file in write mode\\n    yaml.dump(employee, f)  # dumping the employee object to the file\\n# de-serailzing frrom yaml String to python dict\\ne_dict = yaml.safe_load(yaml_string)\\nprint(e_dict)  # prining the employee dictionary\\n\\n# de seralization from the yaml file\\nwith open(\\\"emp.yaml\\\", \\\"r\\\") as f:  # opening the file in read mode and file object\\n    emp = yaml.safe_load(f)  # converting the yaml file to python dict\\n    print(emp)\\nprint(\\\"All operation covered successfully\\\")\";\n",
       "                var nbb_cells = Jupyter.notebook.get_cells();\n",
       "                for (var i = 0; i < nbb_cells.length; ++i) {\n",
       "                    if (nbb_cells[i].input_prompt_number == nbb_cell_id) {\n",
       "                        if (nbb_cells[i].get_text() == nbb_unformatted_code) {\n",
       "                             nbb_cells[i].set_text(nbb_formatted_code);\n",
       "                        }\n",
       "                        break;\n",
       "                    }\n",
       "                }\n",
       "            }, 500);\n",
       "            "
      ],
      "text/plain": [
       "<IPython.core.display.Javascript object>"
      ]
     },
     "metadata": {},
     "output_type": "display_data"
    }
   ],
   "source": [
    "from pyaml import yaml  # importing the pyaml package yaml module\n",
    "\n",
    "employee = {\n",
    "    \"no\": 101,\n",
    "    \"name\": \"pratik\",\n",
    "    \"sal\": 1000.0,\n",
    "    \"address\": \"Bangalore\",\n",
    "    \"isActive\": True,\n",
    "}\n",
    "# employee python object\n",
    "# serialising to a YAML String\n",
    "yaml_string = yaml.dump(\n",
    "    employee\n",
    ")  # converting the employeee object in to the yaml string\n",
    "print(\n",
    "    yaml_string\n",
    ")  # this yaml String will be auto indented and auto srted with no quores and curly brace\n",
    "# here we can use the same dump() to erialize to a employee objects to yaml file directly\n",
    "with open(\"emp.yaml\", \"w\") as f:  # ipen the file in write mode\n",
    "    yaml.dump(employee, f)  # dumping the employee object to the file\n",
    "# de-serailzing frrom yaml String to python dict\n",
    "e_dict = yaml.safe_load(yaml_string)\n",
    "print(e_dict)  # prining the employee dictionary\n",
    "\n",
    "# de seralization from the yaml file\n",
    "with open(\"emp.yaml\", \"r\") as f:  # opening the file in read mode and file object\n",
    "    emp = yaml.safe_load(f)  # converting the yaml file to python dict\n",
    "    print(emp)\n",
    "print(\"All operation covered successfully\")"
   ]
  },
  {
   "cell_type": "code",
   "execution_count": 8,
   "id": "8eabf0eb",
   "metadata": {},
   "outputs": [
    {
     "data": {
      "application/json": {
       "cell": {
        "!": "OSMagics",
        "HTML": "Other",
        "SVG": "Other",
        "bash": "Other",
        "capture": "ExecutionMagics",
        "cmd": "Other",
        "debug": "ExecutionMagics",
        "file": "Other",
        "html": "DisplayMagics",
        "javascript": "DisplayMagics",
        "js": "DisplayMagics",
        "latex": "DisplayMagics",
        "markdown": "DisplayMagics",
        "perl": "Other",
        "prun": "ExecutionMagics",
        "pypy": "Other",
        "python": "Other",
        "python2": "Other",
        "python3": "Other",
        "ruby": "Other",
        "script": "ScriptMagics",
        "sh": "Other",
        "svg": "DisplayMagics",
        "sx": "OSMagics",
        "system": "OSMagics",
        "time": "ExecutionMagics",
        "timeit": "ExecutionMagics",
        "writefile": "OSMagics"
       },
       "line": {
        "alias": "OSMagics",
        "alias_magic": "BasicMagics",
        "autoawait": "AsyncMagics",
        "autocall": "AutoMagics",
        "automagic": "AutoMagics",
        "autosave": "KernelMagics",
        "bookmark": "OSMagics",
        "cd": "OSMagics",
        "clear": "KernelMagics",
        "cls": "KernelMagics",
        "colors": "BasicMagics",
        "conda": "PackagingMagics",
        "config": "ConfigMagics",
        "connect_info": "KernelMagics",
        "copy": "Other",
        "ddir": "Other",
        "debug": "ExecutionMagics",
        "dhist": "OSMagics",
        "dirs": "OSMagics",
        "doctest_mode": "BasicMagics",
        "echo": "Other",
        "ed": "Other",
        "edit": "KernelMagics",
        "env": "OSMagics",
        "gui": "BasicMagics",
        "hist": "Other",
        "history": "HistoryMagics",
        "killbgscripts": "ScriptMagics",
        "ldir": "Other",
        "less": "KernelMagics",
        "load": "CodeMagics",
        "load_ext": "ExtensionMagics",
        "loadpy": "CodeMagics",
        "logoff": "LoggingMagics",
        "logon": "LoggingMagics",
        "logstart": "LoggingMagics",
        "logstate": "LoggingMagics",
        "logstop": "LoggingMagics",
        "ls": "Other",
        "lsmagic": "BasicMagics",
        "macro": "ExecutionMagics",
        "magic": "BasicMagics",
        "matplotlib": "PylabMagics",
        "mkdir": "Other",
        "more": "KernelMagics",
        "notebook": "BasicMagics",
        "page": "BasicMagics",
        "pastebin": "CodeMagics",
        "pdb": "ExecutionMagics",
        "pdef": "NamespaceMagics",
        "pdoc": "NamespaceMagics",
        "pfile": "NamespaceMagics",
        "pinfo": "NamespaceMagics",
        "pinfo2": "NamespaceMagics",
        "pip": "PackagingMagics",
        "popd": "OSMagics",
        "pprint": "BasicMagics",
        "precision": "BasicMagics",
        "prun": "ExecutionMagics",
        "psearch": "NamespaceMagics",
        "psource": "NamespaceMagics",
        "pushd": "OSMagics",
        "pwd": "OSMagics",
        "pycat": "OSMagics",
        "pylab": "PylabMagics",
        "qtconsole": "KernelMagics",
        "quickref": "BasicMagics",
        "recall": "HistoryMagics",
        "rehashx": "OSMagics",
        "reload_ext": "ExtensionMagics",
        "ren": "Other",
        "rep": "Other",
        "rerun": "HistoryMagics",
        "reset": "NamespaceMagics",
        "reset_selective": "NamespaceMagics",
        "rmdir": "Other",
        "run": "ExecutionMagics",
        "save": "CodeMagics",
        "sc": "OSMagics",
        "set_env": "OSMagics",
        "store": "StoreMagics",
        "sx": "OSMagics",
        "system": "OSMagics",
        "tb": "ExecutionMagics",
        "time": "ExecutionMagics",
        "timeit": "ExecutionMagics",
        "unalias": "OSMagics",
        "unload_ext": "ExtensionMagics",
        "who": "NamespaceMagics",
        "who_ls": "NamespaceMagics",
        "whos": "NamespaceMagics",
        "xdel": "NamespaceMagics",
        "xmode": "BasicMagics"
       }
      },
      "text/plain": [
       "Available line magics:\n",
       "%alias  %alias_magic  %autoawait  %autocall  %automagic  %autosave  %bookmark  %cd  %clear  %cls  %colors  %conda  %config  %connect_info  %copy  %ddir  %debug  %dhist  %dirs  %doctest_mode  %echo  %ed  %edit  %env  %gui  %hist  %history  %killbgscripts  %ldir  %less  %load  %load_ext  %loadpy  %logoff  %logon  %logstart  %logstate  %logstop  %ls  %lsmagic  %macro  %magic  %matplotlib  %mkdir  %more  %notebook  %page  %pastebin  %pdb  %pdef  %pdoc  %pfile  %pinfo  %pinfo2  %pip  %popd  %pprint  %precision  %prun  %psearch  %psource  %pushd  %pwd  %pycat  %pylab  %qtconsole  %quickref  %recall  %rehashx  %reload_ext  %ren  %rep  %rerun  %reset  %reset_selective  %rmdir  %run  %save  %sc  %set_env  %store  %sx  %system  %tb  %time  %timeit  %unalias  %unload_ext  %who  %who_ls  %whos  %xdel  %xmode\n",
       "\n",
       "Available cell magics:\n",
       "%%!  %%HTML  %%SVG  %%bash  %%capture  %%cmd  %%debug  %%file  %%html  %%javascript  %%js  %%latex  %%markdown  %%perl  %%prun  %%pypy  %%python  %%python2  %%python3  %%ruby  %%script  %%sh  %%svg  %%sx  %%system  %%time  %%timeit  %%writefile\n",
       "\n",
       "Automagic is ON, % prefix IS NOT needed for line magics."
      ]
     },
     "execution_count": 8,
     "metadata": {},
     "output_type": "execute_result"
    }
   ],
   "source": [
    "%lsmagic"
   ]
  },
  {
   "cell_type": "code",
   "execution_count": 9,
   "id": "c1df8d9e",
   "metadata": {},
   "outputs": [
    {
     "data": {
      "application/javascript": [
       "\n",
       "            setTimeout(function() {\n",
       "                var nbb_cell_id = 9;\n",
       "                var nbb_unformatted_code = \"%load_ext nb_black\";\n",
       "                var nbb_formatted_code = \"%load_ext nb_black\";\n",
       "                var nbb_cells = Jupyter.notebook.get_cells();\n",
       "                for (var i = 0; i < nbb_cells.length; ++i) {\n",
       "                    if (nbb_cells[i].input_prompt_number == nbb_cell_id) {\n",
       "                        if (nbb_cells[i].get_text() == nbb_unformatted_code) {\n",
       "                             nbb_cells[i].set_text(nbb_formatted_code);\n",
       "                        }\n",
       "                        break;\n",
       "                    }\n",
       "                }\n",
       "            }, 500);\n",
       "            "
      ],
      "text/plain": [
       "<IPython.core.display.Javascript object>"
      ]
     },
     "metadata": {},
     "output_type": "display_data"
    }
   ],
   "source": [
    "%load_ext nb_black"
   ]
  },
  {
   "cell_type": "code",
   "execution_count": 2,
   "id": "d8310707",
   "metadata": {},
   "outputs": [
    {
     "data": {
      "application/vnd.jupyter.widget-view+json": {
       "model_id": "7999120794ee40bfbc95e6280fb2af3a",
       "version_major": 2,
       "version_minor": 0
      },
      "text/plain": [
       "Button(description='Ergebnis absenden', style=ButtonStyle())"
      ]
     },
     "metadata": {},
     "output_type": "display_data"
    }
   ],
   "source": [
    "from ipywidgets import widgets, Button\n",
    "import requests\n",
    "btn = widgets.Button(description='Ergebnis absenden')\n",
    "\n",
    "display(btn);\n",
    "\n",
    "def submit_score(obj):\n",
    "    try:\n",
    "        if not endpoint or not uuid or not username:\n",
    "            raise RuntimeError(\"Parameters missing\");\n",
    "        elif not lm:\n",
    "            raise RuntimeError(\"LearningModule-Instance not as lm defined\")\n",
    "\n",
    "        score = lm.get_score();\n",
    "        taskEvaluationString = lm.get_task_evaluation_string();\n",
    "        response = requests.post(endpoint, data= {\"uuid\": uuid, \"grade\": score, \"username\": username, \"details\": taskEvaluationString })\n",
    "        if response.status_code != 200:\n",
    "            raise RuntimeError(\"Fehler beim Request: \" + str(response.status_code))\n",
    "    except RuntimeError as e:\n",
    "        print(e)\n",
    "    else:\n",
    "        print(\"Durchführung erfolgreich abgegeben!\")\n",
    "btn.on_click(submit_score)"
   ]
  }
 ],
 "metadata": {
  "kernelspec": {
   "display_name": "Python 3 (ipykernel)",
   "language": "python",
   "name": "python3"
  },
  "language_info": {
   "codemirror_mode": {
    "name": "ipython",
    "version": 3
   },
   "file_extension": ".py",
   "mimetype": "text/x-python",
   "name": "python",
   "nbconvert_exporter": "python",
   "pygments_lexer": "ipython3",
   "version": "3.8.2"
  },
  "toc": {
   "base_numbering": 1,
   "nav_menu": {},
   "number_sections": true,
   "sideBar": true,
   "skip_h1_title": false,
   "title_cell": "Table of Contents",
   "title_sidebar": "Contents",
   "toc_cell": false,
   "toc_position": {},
   "toc_section_display": true,
   "toc_window_display": false
  }
 },
 "nbformat": 4,
 "nbformat_minor": 5
}
